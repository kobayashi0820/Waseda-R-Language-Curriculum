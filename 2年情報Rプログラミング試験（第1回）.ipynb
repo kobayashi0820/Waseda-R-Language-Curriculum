{
  "nbformat": 4,
  "nbformat_minor": 0,
  "metadata": {
    "colab": {
      "provenance": [],
      "collapsed_sections": [],
      "toc_visible": true,
      "include_colab_link": true
    },
    "kernelspec": {
      "name": "ir",
      "display_name": "R"
    },
    "language_info": {
      "name": "python"
    },
    "gpuClass": "standard"
  },
  "cells": [
    {
      "cell_type": "markdown",
      "metadata": {
        "id": "view-in-github",
        "colab_type": "text"
      },
      "source": [
        "<a href=\"https://colab.research.google.com/github/moshimoshipandasan/waseda/blob/main/2%E5%B9%B4%E6%83%85%E5%A0%B1R%E3%83%97%E3%83%AD%E3%82%B0%E3%83%A9%E3%83%9F%E3%83%B3%E3%82%B0%E8%A9%A6%E9%A8%93%EF%BC%88%E7%AC%AC1%E5%9B%9E%EF%BC%89.ipynb\" target=\"_parent\"><img src=\"https://colab.research.google.com/assets/colab-badge.svg\" alt=\"Open In Colab\"/></a>"
      ]
    },
    {
      "cell_type": "markdown",
      "source": [
        "#2年情報Rプログラミング試験（第1回）解答\n",
        "<font color ='red'>【注意事項】</font>演習内容は自動保存されません。必ずメニューの<font color ='red'>[ファイル]-->[保存]</font>で保存しましょう。"
      ],
      "metadata": {
        "id": "APj2-l1v2yXJ"
      }
    },
    {
      "cell_type": "code",
      "source": [
        "#最初に下記コードを実行し、所属と氏名を入力しましょう\n",
        "name1 <- readline(\"所属：\") # 例）3年B組11番\n",
        "name2 <- readline(\"氏名：\") # 例）早稲田太郎"
      ],
      "metadata": {
        "id": "DBga6hPAK1mn"
      },
      "execution_count": null,
      "outputs": []
    },
    {
      "cell_type": "code",
      "source": [
        "#### Prob.0 ####\n",
        "#まずは、下記のコードを実行してから問題に取り組むこと\n",
        "#この値は Prob.8で使います\n",
        "set.seed(1030)\n",
        "samples=sample(10000:15000,1)\n",
        "rndx <- runif(samples, min = 0, max = 1)\n",
        "rndy <- runif(samples, min = 0, max = 1)"
      ],
      "metadata": {
        "id": "9n8wprNAfoAs"
      },
      "execution_count": 52,
      "outputs": []
    },
    {
      "cell_type": "markdown",
      "source": [
        "<font color =\"red\">----- ここからが問題です -----<br>"
      ],
      "metadata": {
        "id": "ckIkaeS7-ZA8"
      }
    },
    {
      "cell_type": "markdown",
      "source": [
        "#問題1\n",
        "入力がなく、出力が自分の氏名（半角英数）となるような関数mynameを作成せよ。"
      ],
      "metadata": {
        "id": "6TFVat51gEtv"
      }
    },
    {
      "cell_type": "code",
      "source": [
        "#### Prob.1 ####\n",
        "myname <- function(){\n",
        "  #msgは出力するメッセージ\n",
        "  msg \n",
        "  return()\n",
        "}\n",
        "\n",
        "#test\n",
        "myname()"
      ],
      "metadata": {
        "id": "RNf3njGEPkYo"
      },
      "execution_count": null,
      "outputs": []
    },
    {
      "cell_type": "markdown",
      "source": [
        "##問題1の解答"
      ],
      "metadata": {
        "id": "VjnVMgAh6v50"
      }
    },
    {
      "cell_type": "code",
      "source": [
        "#### Prob.1 解答####\n",
        "myname <- function(){\n",
        "  #msgは出力するメッセージ\n",
        "  msg <- \"waseda taro\"\n",
        "  return(msg)\n",
        "}\n",
        "\n",
        "#test\n",
        "myname()"
      ],
      "metadata": {
        "colab": {
          "base_uri": "https://localhost:8080/",
          "height": 34
        },
        "id": "5WWwvrhzq5Xk",
        "outputId": "056732af-e629-4c9a-d95d-f1c38099cc90"
      },
      "execution_count": 5,
      "outputs": [
        {
          "output_type": "display_data",
          "data": {
            "text/html": [
              "'waseda taro'"
            ],
            "text/markdown": "'waseda taro'",
            "text/latex": "'waseda taro'",
            "text/plain": [
              "[1] \"waseda taro\""
            ]
          },
          "metadata": {}
        }
      ]
    },
    {
      "cell_type": "markdown",
      "source": [
        "#問題2\n",
        "整数nを入力したとき、nが3の倍数のときは0を、3で割った余りが1のときは1を、3で割った余りが2のときは-1を出力するような関数mymod3を作成せよ。<br>なお、上記の値はn+1を3で割った余りを1引いて得られることに注意する。<br>\n",
        "出力例\n",
        "```R\n",
        "> mymod3(9)\n",
        "[1] 0\n",
        "> mymod3(10)\n",
        "[1] 1\n",
        "> mymod3(11)\n",
        "[1] -1\n",
        "```"
      ],
      "metadata": {
        "id": "trx-DVLZrVtj"
      }
    },
    {
      "cell_type": "code",
      "source": [
        "#### Prob.2 ####\n",
        "mymod3 <- function(n){\n",
        "  #xは出力する値\n",
        "  x\n",
        "  return()\n",
        "}\n",
        "\n",
        "#test\n",
        "mymod3(9)\n",
        "mymod3(10)\n",
        "mymod3(11)"
      ],
      "metadata": {
        "id": "nlYsi1KMsPJT"
      },
      "execution_count": null,
      "outputs": []
    },
    {
      "cell_type": "markdown",
      "source": [
        "##問題2の解答"
      ],
      "metadata": {
        "id": "PLdW1RCe6oU1"
      }
    },
    {
      "cell_type": "code",
      "source": [
        "#### Prob.2の解答 ####\n",
        "mymod3 <- function(n){\n",
        "  #xは出力する値\n",
        "  if(n %% 3 == 0){ #nが3の倍数のときは0\n",
        "    x <- 0\n",
        "  }\n",
        "  else if(n %% 3 == 1){ #3で割った余りが1のときは1\n",
        "    x <- 1\n",
        "  }\n",
        "  else if(n %% 3 == 2){ #3で割った余りが2のときは-1\n",
        "    x <- -1\n",
        "  }\n",
        "  return(x)\n",
        "}\n",
        "\n",
        "#test\n",
        "mymod3(9)\n",
        "mymod3(10)\n",
        "mymod3(11)"
      ],
      "metadata": {
        "id": "okKS0ggJtEjb",
        "colab": {
          "base_uri": "https://localhost:8080/",
          "height": 69
        },
        "outputId": "2007921a-8489-4d3e-ccad-c3ac6f5fb2b2"
      },
      "execution_count": 4,
      "outputs": [
        {
          "output_type": "display_data",
          "data": {
            "text/html": [
              "0"
            ],
            "text/markdown": "0",
            "text/latex": "0",
            "text/plain": [
              "[1] 0"
            ]
          },
          "metadata": {}
        },
        {
          "output_type": "display_data",
          "data": {
            "text/html": [
              "1"
            ],
            "text/markdown": "1",
            "text/latex": "1",
            "text/plain": [
              "[1] 1"
            ]
          },
          "metadata": {}
        },
        {
          "output_type": "display_data",
          "data": {
            "text/html": [
              "-1"
            ],
            "text/markdown": "-1",
            "text/latex": "-1",
            "text/plain": [
              "[1] -1"
            ]
          },
          "metadata": {}
        }
      ]
    },
    {
      "cell_type": "markdown",
      "source": [
        "#問題3\n",
        "整数を要素とするベクトルvecを入力したとき、それぞれの要素のうち奇数の総数を出力するような関数numoddを作成せよ。ここで、値を求める際はベクトルのそれぞれの要素を2で割った余りを求め、その総和を求めればよいことに注意する。<br>\n",
        "```R\n",
        "出力例\n",
        "> numodd(1:10)\n",
        "[1] 5\n",
        "> numodd(c(2, 4, 6, 8, 10))\n",
        "[1] 0\n",
        "> a <- c(9, 3, 3, 5, 1, 5, 5, 1, 8, 2) \n",
        "> numodd(a)\n",
        "[1] 8\n",
        "```"
      ],
      "metadata": {
        "id": "lQZ1HDc8tgut"
      }
    },
    {
      "cell_type": "code",
      "source": [
        "#### Prob.3 ####\n",
        "numodd <- function(vec){\n",
        "  #xは出力する値\n",
        "  x\n",
        "  return()\n",
        "}\n",
        "\n",
        "#test\n",
        "numodd(1:10)\n",
        "numodd(c(2, 4, 6, 8, 10))\n",
        "a <- c(9, 3, 3, 5, 1, 5, 5, 1, 8, 2)\n",
        "numodd(a)"
      ],
      "metadata": {
        "id": "5UUQOXqftKTs"
      },
      "execution_count": null,
      "outputs": []
    },
    {
      "cell_type": "markdown",
      "source": [
        "##問題3の解答"
      ],
      "metadata": {
        "id": "mhsS0sF26i3M"
      }
    },
    {
      "cell_type": "code",
      "source": [
        "#### Prob.3 解答####\n",
        "numodd <- function(vec){\n",
        "  #xは出力する値\n",
        "  x <- sum(vec %% 2) # 要素を2で割った余り（0または1）をxに代入する\n",
        "  return(x)\n",
        "}\n",
        "\n",
        "#test\n",
        "numodd(1:10)\n",
        "numodd(c(2, 4, 6, 8, 10))\n",
        "a <- c(9, 3, 3, 5, 1, 5, 5, 1, 8, 2)\n",
        "numodd(a)"
      ],
      "metadata": {
        "colab": {
          "base_uri": "https://localhost:8080/",
          "height": 69
        },
        "id": "5GhM1FsLmdUv",
        "outputId": "8a38fd95-5bdf-421e-9002-1bf800cd584e"
      },
      "execution_count": 58,
      "outputs": [
        {
          "output_type": "display_data",
          "data": {
            "text/html": [
              "5"
            ],
            "text/markdown": "5",
            "text/latex": "5",
            "text/plain": [
              "[1] 5"
            ]
          },
          "metadata": {}
        },
        {
          "output_type": "display_data",
          "data": {
            "text/html": [
              "0"
            ],
            "text/markdown": "0",
            "text/latex": "0",
            "text/plain": [
              "[1] 0"
            ]
          },
          "metadata": {}
        },
        {
          "output_type": "display_data",
          "data": {
            "text/html": [
              "8"
            ],
            "text/markdown": "8",
            "text/latex": "8",
            "text/plain": [
              "[1] 8"
            ]
          },
          "metadata": {}
        }
      ]
    },
    {
      "cell_type": "markdown",
      "source": [
        "#問題4\n",
        "みんなで食事に行ったとき、支払いを割り勘したい。ただし、料金不足ならないようにするため、端数を10の位で切り上げて100円単位とする。<br>また、そこで生じる余りのお金は幹事の支払いにあててもよいとする。<br>このとき、合計金額と人数（自分も含む）を入力したとき、一般の参加者、幹事のそれぞれの支払額を出力する関数warikanを作成せよ。<br>\n",
        "```R\n",
        "出力例\t> warikan(10000, 5)\n",
        "[1] 2000 2000\n",
        "> warikan(10000, 7)\n",
        "[1] 1500 1000\n",
        "> warikan(47300, 12)\n",
        "[1] 4000 3300\n",
        "```"
      ],
      "metadata": {
        "id": "mU457eKitw1E"
      }
    },
    {
      "cell_type": "code",
      "source": [
        "#### Prob.4 ####\n",
        "warikan <- function(sankasya, kanji)\n",
        "  # sankasyaは一般の金額、kanjiは幹事の支払金額\n",
        "  sankasya \n",
        "  kanji \n",
        "  return()\n",
        "}\n",
        "\n",
        "#test\n",
        "warikan(10000, 5)\n",
        "warikan(10000, 7)\n",
        "warikan(47300, 12)"
      ],
      "metadata": {
        "id": "PQOeJa7qm2fm"
      },
      "execution_count": null,
      "outputs": []
    },
    {
      "cell_type": "markdown",
      "source": [
        "##問題4の解答"
      ],
      "metadata": {
        "id": "M1yG7FDD6ZmO"
      }
    },
    {
      "cell_type": "code",
      "source": [
        "#### Prob.4 解答####\n",
        "# 合計金額をtotal、人数をnumとする\n",
        "warikan <- function(total, num){\n",
        "  # sankasyaは一般の金額、kanjiは幹事の支払金額\n",
        "  sankasya <-  ceiling(total / num / 100) * 100 # 端数を10の位で切り上げて100円単位とする\n",
        "  kanji <- total - sankasya * (num - 1) # 余りのお金は幹事の支払いにあてる（幹事やると得をする）\n",
        "  return(cat(sankasya, kanji,\"\\n\"))\n",
        "}\n",
        "\n",
        "#test\n",
        "warikan(10000, 5)\n",
        "warikan(10000, 7)\n",
        "warikan(47300, 12)"
      ],
      "metadata": {
        "id": "fqHO4Iq0tLUV",
        "colab": {
          "base_uri": "https://localhost:8080/"
        },
        "outputId": "759e12d8-1366-4a9e-c799-4d9b98997a23"
      },
      "execution_count": 59,
      "outputs": [
        {
          "output_type": "stream",
          "name": "stdout",
          "text": [
            "2000 2000 \n",
            "1500 1000 \n",
            "4000 3300 \n"
          ]
        }
      ]
    },
    {
      "cell_type": "markdown",
      "source": [
        "#問題5\n",
        "整数nを入力したとき、nが偶数ならば”even”を、奇数ならば”odd”を出力するような関数evenoddを作成せよ。<br>\n",
        "出力例<br>\n",
        "```\n",
        "> evenodd(10)\n",
        "[1] \"even\"\n",
        "> evenodd(-5)\n",
        "[1] \"odd\"\n",
        "> evenodd(0)\n",
        "[1] \"even\"\n",
        "```"
      ],
      "metadata": {
        "id": "nHTeNHMBt08K"
      }
    },
    {
      "cell_type": "code",
      "source": [
        "#### Prob.5 ####\n",
        "evenodd <- function(n){\n",
        "  # msgは出力するメッセージ\n",
        "  msg <- NULL # 初期化している\n",
        "  if(){\n",
        "    \n",
        "  }\n",
        "  else{\n",
        "    \n",
        "  }\n",
        "  \n",
        "  return()\n",
        "}\n",
        "\n",
        "#test\n",
        "evenodd(10)\n",
        "evenodd(-5)\n",
        "evenodd(0)"
      ],
      "metadata": {
        "id": "3znU8NPztOQA"
      },
      "execution_count": null,
      "outputs": []
    },
    {
      "cell_type": "markdown",
      "source": [
        "##問題5の解答"
      ],
      "metadata": {
        "id": "3PsOyXzu6Tjc"
      }
    },
    {
      "cell_type": "code",
      "source": [
        "#### Prob.5 解答####\n",
        "evenodd <- function(n){\n",
        "  # msgは出力するメッセージ\n",
        "  msg <- NULL # 初期化している\n",
        "  if(n %% 2 == 0){ # 2で割った余りが0のとき偶数なのでeven\n",
        "    msg <- \"even\"\n",
        "  }\n",
        "  else{ # 他は奇数\n",
        "    msg <- \"odd\"\n",
        "  }\n",
        "    return(msg)\n",
        "}\n",
        "\n",
        "#test\n",
        "evenodd(10)\n",
        "evenodd(-5)\n",
        "evenodd(0)"
      ],
      "metadata": {
        "colab": {
          "base_uri": "https://localhost:8080/",
          "height": 69
        },
        "id": "kmYDcaOxtQI2",
        "outputId": "7f81da94-dd27-47b9-fc45-1b9a6ec1eee0"
      },
      "execution_count": 21,
      "outputs": [
        {
          "output_type": "display_data",
          "data": {
            "text/html": [
              "'even'"
            ],
            "text/markdown": "'even'",
            "text/latex": "'even'",
            "text/plain": [
              "[1] \"even\""
            ]
          },
          "metadata": {}
        },
        {
          "output_type": "display_data",
          "data": {
            "text/html": [
              "'odd'"
            ],
            "text/markdown": "'odd'",
            "text/latex": "'odd'",
            "text/plain": [
              "[1] \"odd\""
            ]
          },
          "metadata": {}
        },
        {
          "output_type": "display_data",
          "data": {
            "text/html": [
              "'even'"
            ],
            "text/markdown": "'even'",
            "text/latex": "'even'",
            "text/plain": [
              "[1] \"even\""
            ]
          },
          "metadata": {}
        }
      ]
    },
    {
      "cell_type": "markdown",
      "source": [
        "#問題6\n",
        "A君はB君と一緒に本を買いに行く。A君は本を購入したいが、 所持金が足りない場合はB君に借りる予定である。下記の条件のもとで、A 君の所持金、B君の所持金、本の値段を入力したとき、下で定められた値を出力する関数loanを作成せよ。<br>\n",
        "（条件）<br>\n",
        "* A君の所持金で足りる場合、B君からお金を借りない（B君から借りる金額は0 円とする）。\n",
        "* A君の所持金で足りない場合、B君から不足している全額を借りる。ただし、B君の所持金すべてを借りても本の値段に満たない場合は本の購入をあきらめる。\n",
        "（出力のルール）\n",
        "* B君からお金を借りないで本が買える場合は0を出力\n",
        "* B君からお金を借りて本が買える場合はB君から借りる金額を出力\n",
        "* B君からお金を借りても本を買えない場合は-1出力<br>\n",
        "出力例<br>\n",
        "```R\n",
        "> loan(3000, 2000, 2500)\n",
        "[1] 0\n",
        "> loan(3000, 2000, 3500)\n",
        "[1] 500\n",
        "> loan(3000, 2000, 5500)\n",
        "[1] -1\n",
        "```"
      ],
      "metadata": {
        "id": "9g_EynzJt5BO"
      }
    },
    {
      "cell_type": "code",
      "source": [
        "#### Prob.6 ####\n",
        "loan <- function(a, b, book){\n",
        "  #xは出力する値\n",
        "  x <- NULL #初期化している\n",
        "  if(){\n",
        "    \n",
        "  }\n",
        "  else{\n",
        "    \n",
        "  }\n",
        "  return()\n",
        "}\n",
        "\n",
        "#test\n",
        "loan(3000, 2000, 2500)\n",
        "loan(3000, 2000, 3500)\n",
        "loan(3000, 2000, 5500)"
      ],
      "metadata": {
        "id": "FOHdPglOtRQF"
      },
      "execution_count": null,
      "outputs": []
    },
    {
      "cell_type": "markdown",
      "source": [
        "##問題6の解答"
      ],
      "metadata": {
        "id": "OD4jLiuO6MHF"
      }
    },
    {
      "cell_type": "code",
      "source": [
        "#### Prob.6 解答####\n",
        "loan <- function(a, b, book){\n",
        "  #xは出力する値\n",
        "  x <- NULL #初期化している\n",
        "  if(a >= book){ # A君の所持金で足りる場合\n",
        "    x <- 0\n",
        "  }\n",
        "  else{ # A君の所持金で足りない場合\n",
        "    if(b >= book - a){ # B君からお金を借りて本が買える場合\n",
        "      x = book - a\n",
        "    }else{ # B君からお金を借りても本を買えない場合\n",
        "      x = -1\n",
        "    }\n",
        "  }\n",
        "  return(x)\n",
        "}\n",
        "\n",
        "#test\n",
        "loan(3000, 2000, 2500)\n",
        "loan(3000, 2000, 3500)\n",
        "loan(3000, 2000, 5500)"
      ],
      "metadata": {
        "colab": {
          "base_uri": "https://localhost:8080/",
          "height": 86
        },
        "id": "Yng1bFsL0B3l",
        "outputId": "d0bda80b-2aec-438b-c488-b9e432e59d21"
      },
      "execution_count": 25,
      "outputs": [
        {
          "output_type": "display_data",
          "data": {
            "text/html": [
              "0"
            ],
            "text/markdown": "0",
            "text/latex": "0",
            "text/plain": [
              "[1] 0"
            ]
          },
          "metadata": {}
        },
        {
          "output_type": "display_data",
          "data": {
            "text/html": [
              "500"
            ],
            "text/markdown": "500",
            "text/latex": "500",
            "text/plain": [
              "[1] 500"
            ]
          },
          "metadata": {}
        },
        {
          "output_type": "display_data",
          "data": {
            "text/html": [
              "-1"
            ],
            "text/markdown": "-1",
            "text/latex": "-1",
            "text/plain": [
              "[1] -1"
            ]
          },
          "metadata": {}
        },
        {
          "output_type": "display_data",
          "data": {
            "text/html": [
              "2000"
            ],
            "text/markdown": "2000",
            "text/latex": "2000",
            "text/plain": [
              "[1] 2000"
            ]
          },
          "metadata": {}
        }
      ]
    },
    {
      "cell_type": "markdown",
      "source": [
        "##問題6の別解答"
      ],
      "metadata": {
        "id": "4iPExa167Qts"
      }
    },
    {
      "cell_type": "code",
      "source": [
        "#### Prob.6 別解答####\n",
        "loan <- function(a, b, book){\n",
        "  #xは出力する値\n",
        "  x <- NULL #初期化している\n",
        "  if(a < book){ # A君の所持金で足りない場合\n",
        "    if(b < book - a){ # B君からお金を借りても本を買えない場合\n",
        "      x = -1\n",
        "    }else{ # B君からお金を借りて本が買える場合\n",
        "      x = book - a\n",
        "    }\n",
        "  }\n",
        "  else{ # A君の所持金で足りる場合\n",
        "    x <- 0\n",
        "  }\n",
        "  return(x)\n",
        "}\n",
        "\n",
        "#test\n",
        "loan(3000, 2000, 2500)\n",
        "loan(3000, 2000, 3500)\n",
        "loan(3000, 2000, 5500)"
      ],
      "metadata": {
        "colab": {
          "base_uri": "https://localhost:8080/",
          "height": 69
        },
        "id": "jjjG1FzU3JQl",
        "outputId": "d8c98023-df93-402c-93ea-b621db97d61d"
      },
      "execution_count": 29,
      "outputs": [
        {
          "output_type": "display_data",
          "data": {
            "text/html": [
              "0"
            ],
            "text/markdown": "0",
            "text/latex": "0",
            "text/plain": [
              "[1] 0"
            ]
          },
          "metadata": {}
        },
        {
          "output_type": "display_data",
          "data": {
            "text/html": [
              "500"
            ],
            "text/markdown": "500",
            "text/latex": "500",
            "text/plain": [
              "[1] 500"
            ]
          },
          "metadata": {}
        },
        {
          "output_type": "display_data",
          "data": {
            "text/html": [
              "-1"
            ],
            "text/markdown": "-1",
            "text/latex": "-1",
            "text/plain": [
              "[1] -1"
            ]
          },
          "metadata": {}
        }
      ]
    },
    {
      "cell_type": "markdown",
      "source": [
        "#問題7\n",
        "サイコロを3つ振って、出た目によって次のように得点を決めるゲームがある。\n",
        "（得点のルール）\n",
        "\n",
        "* 3個のサイコロの目がすべて同じであれば10点\n",
        "* 3個のサイコロのうち2個だけ同じ目であれば、点数はその目の数\n",
        "* 3個のサイコロすべてが異なる目であれば0点\n",
        "\n",
        "上記のルールのもとで、3つのサイコロのそれぞれの目a, b, cを入力したとき、得点を出力する関数diceを作成せよ。その際、出力のルールは下記の通りとする。<br>\n",
        "（出力のルール）\n",
        "\n",
        "* aとbの値が等しい場合は、下記のように得点を決める。\n",
        "  * cとaの値が等しければ、得点を10点とする。\n",
        "  * cとaの値が等しくなければ、得点をaの値とする。\n",
        "* aとbの値が等しくない場合は、下記のように得点を決める。\n",
        "  * cとaの値が等しい、またはcとbの値が等しい場合は、得点をcの値とする。\n",
        "  * cの値がa, bの値と共に等しくなければ、得点を0点とする。\n",
        "\n",
        "出力例\t> dice(1, 3, 6)<br>\n",
        "```R\n",
        "[1] 0\n",
        "> dice(1, 3, 1)\n",
        "[1] 1\n",
        "> dice(1, 3, 3)\n",
        "[1] 3\n",
        "> dice(3, 3, 6)\n",
        "[1] 3\n",
        "> dice(3, 3, 3)\n",
        "[1] 10\n",
        "```"
      ],
      "metadata": {
        "id": "0PA-Mbt3t_do"
      }
    },
    {
      "cell_type": "code",
      "source": [
        "#### Prob.7 ####\n",
        "dice <- function(a, b, c){\n",
        "  #scoreは得点\n",
        "  score <- 0 #初期化している\n",
        "  if(){\n",
        "    \n",
        "  }\n",
        "  else{\n",
        "    \n",
        "  }\n",
        "  \n",
        "  return()\n",
        "}\n",
        "\n",
        "#test\n",
        "dice(1, 3, 6)\n",
        "dice(1, 3, 1)\n",
        "dice(1, 3, 3)\n",
        "dice(3, 3, 6)\n",
        "dice(3, 3, 3)"
      ],
      "metadata": {
        "id": "Uw1wiof37fpW"
      },
      "execution_count": null,
      "outputs": []
    },
    {
      "cell_type": "markdown",
      "source": [
        "##問題7の解答"
      ],
      "metadata": {
        "id": "OmvSD7YV9phs"
      }
    },
    {
      "cell_type": "code",
      "source": [
        "#### Prob.7 解答####\n",
        "dice <- function(a, b, c){\n",
        "  #scoreは得点\n",
        "  score <- 0 #初期化している\n",
        "  if(a == b){ # aとbの値が等しい場合\n",
        "    if(c == a){ # cとaの値が等しければ\n",
        "      score <- 10 # 得点を10点とする\n",
        "    }\n",
        "    else{ # cとaの値が等しくなければ\n",
        "      score <- a # 得点をaの値とする  \n",
        "    }\n",
        "  }\n",
        "  else{ # aとbの値が等しくない場合\n",
        "    if(c == a || c == b){ # cとaの値が等しい、またはcとbの値が等しい場合\n",
        "      score <- c # 得点をcの値とする\n",
        "    }\n",
        "    else if(c != a && c != b){ # cの値がa, bの値と共に等しくなければ\n",
        "      score <- 0 # 得点を0点\n",
        "    }        \n",
        "  }  \n",
        "  return(score)\n",
        "}\n",
        "\n",
        "#test\n",
        "dice(1, 3, 6)\n",
        "dice(1, 3, 1)\n",
        "dice(1, 3, 3)\n",
        "dice(3, 3, 6)\n",
        "dice(3, 3, 3)"
      ],
      "metadata": {
        "id": "XbF9vy34tU3M",
        "colab": {
          "base_uri": "https://localhost:8080/",
          "height": 104
        },
        "outputId": "7a147245-a875-499e-c1d0-a1b7d48be42b"
      },
      "execution_count": 32,
      "outputs": [
        {
          "output_type": "display_data",
          "data": {
            "text/html": [
              "0"
            ],
            "text/markdown": "0",
            "text/latex": "0",
            "text/plain": [
              "[1] 0"
            ]
          },
          "metadata": {}
        },
        {
          "output_type": "display_data",
          "data": {
            "text/html": [
              "1"
            ],
            "text/markdown": "1",
            "text/latex": "1",
            "text/plain": [
              "[1] 1"
            ]
          },
          "metadata": {}
        },
        {
          "output_type": "display_data",
          "data": {
            "text/html": [
              "3"
            ],
            "text/markdown": "3",
            "text/latex": "3",
            "text/plain": [
              "[1] 3"
            ]
          },
          "metadata": {}
        },
        {
          "output_type": "display_data",
          "data": {
            "text/html": [
              "3"
            ],
            "text/markdown": "3",
            "text/latex": "3",
            "text/plain": [
              "[1] 3"
            ]
          },
          "metadata": {}
        },
        {
          "output_type": "display_data",
          "data": {
            "text/html": [
              "10"
            ],
            "text/markdown": "10",
            "text/latex": "10",
            "text/plain": [
              "[1] 10"
            ]
          },
          "metadata": {}
        }
      ]
    },
    {
      "cell_type": "markdown",
      "source": [
        "#問題8\n",
        "$xy$-座標平面上の$0 \\leqq x \\leqq 1$ ，$0 \\leqq y \\leqq 1$の領域に点がn個ある。これらの点に順番をつけて、<br>その順番にしたがってx座標を並べたベクトルをrndx、y座標を並べたベクトルをrndyとする。<br>このとき、これらの点のうち関数<br>\n",
        "$ y = \\sqrt{1-x^2}$  ($0 \\leqq x \\leqq 1$)\n",
        "<br>より下にある点の個数(m)と点の総数(n)の比<font color=\"red\">(m/n)</font>を求める関数quarterCircleを作成せよ。\n"
      ],
      "metadata": {
        "id": "MBabp6oK_F4b"
      }
    },
    {
      "cell_type": "code",
      "source": [
        "#### Prob.8 ####\n",
        "quarterCircle <- function(x, y){\n",
        "\tn\n",
        "\tm\n",
        "\treturn()\n",
        "}\n",
        "\n",
        "#test\n",
        "quarterCircle(rndx,rndy)"
      ],
      "metadata": {
        "id": "Nz6_kYHDtYN0"
      },
      "execution_count": null,
      "outputs": []
    },
    {
      "cell_type": "markdown",
      "source": [
        "##問題8の解答"
      ],
      "metadata": {
        "id": "0Fe9lGK0DrA7"
      }
    },
    {
      "cell_type": "code",
      "source": [
        "#### Prob.8 解答####\n",
        "quarterCircle <- function(x,y){\n",
        "  n <- length(x)\n",
        "  m <- sum(sqrt((x^2+y^2))<1)\n",
        "  return(m / n)\n",
        "}\n",
        "\n",
        "quarterCircle(rndx,rndy) #ちなみにこの値を4倍するとほぼπになる"
      ],
      "metadata": {
        "colab": {
          "base_uri": "https://localhost:8080/",
          "height": 34
        },
        "id": "9Vy6U0_wD2XK",
        "outputId": "366f138d-1b77-4371-d375-8d8896e9abe6"
      },
      "execution_count": 55,
      "outputs": [
        {
          "output_type": "display_data",
          "data": {
            "text/html": [
              "0.788418079096045"
            ],
            "text/markdown": "0.788418079096045",
            "text/latex": "0.788418079096045",
            "text/plain": [
              "[1] 0.7884181"
            ]
          },
          "metadata": {}
        }
      ]
    },
    {
      "cell_type": "markdown",
      "source": [
        "##問題8の別解答"
      ],
      "metadata": {
        "id": "Nxezfkm7FPL6"
      }
    },
    {
      "cell_type": "code",
      "source": [
        "#### Prob.8 別解答####\n",
        "quarterCircle <- function(x,y){\n",
        "  n <- length(x)\n",
        "  m <- n - sum(floor(sqrt((x^2+y^2))))\n",
        "  return(m / n)\n",
        "}\n",
        "\n",
        "quarterCircle(rndx,rndy) #ちなみにこの値を4倍するとほぼπになる"
      ],
      "metadata": {
        "colab": {
          "base_uri": "https://localhost:8080/",
          "height": 34
        },
        "id": "TiSRXb9Y_2bK",
        "outputId": "51ccf449-4498-4046-8d9f-ddac948a5ef0"
      },
      "execution_count": 60,
      "outputs": [
        {
          "output_type": "display_data",
          "data": {
            "text/html": [
              "0.788418079096045"
            ],
            "text/markdown": "0.788418079096045",
            "text/latex": "0.788418079096045",
            "text/plain": [
              "[1] 0.7884181"
            ]
          },
          "metadata": {}
        }
      ]
    },
    {
      "cell_type": "markdown",
      "source": [
        "#set.seed()関数について\n",
        "\n",
        "set.seed()は乱数種を指定する関数で、常に同じ乱数を発生させられる。<br>\n",
        "マインクラフトの世界でシード値を同じにすると同じ世界が生成できるのと同じで、乱数もシード値を設定すると誰もが同じ乱数を発生させることができるので、試験などにはよく用いられるよ！"
      ],
      "metadata": {
        "id": "nSkT_mg3Af8c"
      }
    }
  ]
}