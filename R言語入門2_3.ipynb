{
  "nbformat": 4,
  "nbformat_minor": 0,
  "metadata": {
    "colab": {
      "provenance": [],
      "collapsed_sections": [],
      "toc_visible": true,
      "include_colab_link": true
    },
    "kernelspec": {
      "name": "ir",
      "display_name": "R"
    },
    "language_info": {
      "name": "python"
    },
    "gpuClass": "standard"
  },
  "cells": [
    {
      "cell_type": "markdown",
      "metadata": {
        "id": "view-in-github",
        "colab_type": "text"
      },
      "source": [
        "<a href=\"https://colab.research.google.com/github/moshimoshipandasan/waseda/blob/main/R%E8%A8%80%E8%AA%9E%E5%85%A5%E9%96%802_3.ipynb\" target=\"_parent\"><img src=\"https://colab.research.google.com/assets/colab-badge.svg\" alt=\"Open In Colab\"/></a>"
      ]
    },
    {
      "cell_type": "markdown",
      "source": [
        "#■8　Rでのデータ操作"
      ],
      "metadata": {
        "id": "APj2-l1v2yXJ"
      }
    },
    {
      "cell_type": "markdown",
      "source": [
        "##【1】データの読込み（インポート）\n",
        "### <font color='red'>読込み → データフレームに変換 → プロット</font>\n",
        "###(1)データセットの利用<BR>\n",
        "Rには、さまざまな「データセット」と呼ばれるサンプルデータが提供されている。<br>\n",
        "このデータセットの豊富さが初心者にうける所以。しかも、plot()関数で簡単にグラフ化できる。<br>\n",
        "####Rのデータセット一覧\n",
        "https://www.math.chuo-u.ac.jp/~sakaori/Rdata.html<br>\n"
      ],
      "metadata": {
        "id": "2315-dKqWFRh"
      }
    },
    {
      "cell_type": "markdown",
      "source": [
        "###【実習１】①データセットの読込み\n",
        "例1）各地域での電話機の数（単位：千台）<br>\n",
        "WorldPhones"
      ],
      "metadata": {
        "id": "Jx5WMnXRahAA"
      }
    },
    {
      "cell_type": "code",
      "source": [
        "#読込み\n",
        "WorldPhones"
      ],
      "metadata": {
        "id": "EWJ_nTvQ9xUb"
      },
      "execution_count": null,
      "outputs": []
    },
    {
      "cell_type": "code",
      "source": [
        "#データフレームに変換\n",
        "wp <- data.frame(WorldPhones)\n",
        "wp"
      ],
      "metadata": {
        "id": "-sHYSyVJksll"
      },
      "execution_count": null,
      "outputs": []
    },
    {
      "cell_type": "code",
      "source": [
        "#プロット\n",
        "plot(wp)"
      ],
      "metadata": {
        "id": "wJ1LxYMupKF9"
      },
      "execution_count": null,
      "outputs": []
    },
    {
      "cell_type": "markdown",
      "source": [
        "### <font color='red'>読込み→プロット</font>\n"
      ],
      "metadata": {
        "id": "76Q6Y42Npf-p"
      }
    },
    {
      "cell_type": "markdown",
      "source": [
        "###【練習1】Rで提供されているデータセットを確認してみよう"
      ],
      "metadata": {
        "id": "nZ4dMhQX_E-q"
      }
    },
    {
      "cell_type": "markdown",
      "source": [
        "例2）1949〜1960における, 航空会社の国際線の顧客の月別総乗客数<br>\n",
        "AirPassengers<br>"
      ],
      "metadata": {
        "id": "taup4eIx9aIz"
      }
    },
    {
      "cell_type": "code",
      "source": [
        "#時系列モデル\n",
        "#Box & Jenkins のデータ. 1949〜1960における, 航空会社の国際線の顧客の月別総乗客数\n",
        "AirPassengers"
      ],
      "metadata": {
        "id": "G2et_-NIXTfv"
      },
      "execution_count": null,
      "outputs": []
    },
    {
      "cell_type": "code",
      "source": [
        "plot(AirPassengers)"
      ],
      "metadata": {
        "id": "JSZtNjtMXhsx"
      },
      "execution_count": null,
      "outputs": []
    },
    {
      "cell_type": "code",
      "source": [
        "#UKDriverDeaths の詳細版. 1969年1月〜1984年12月のイギリスにおけるドライバーの死傷者数. 1983年1月31日にシートベルトが義務化された.\n",
        "Seatbelts"
      ],
      "metadata": {
        "id": "QqJkbsbcYPM6"
      },
      "execution_count": null,
      "outputs": []
    },
    {
      "cell_type": "code",
      "source": [
        "plot(Seatbelts)"
      ],
      "metadata": {
        "id": "JmSkIXYEYZkD"
      },
      "execution_count": null,
      "outputs": []
    },
    {
      "cell_type": "markdown",
      "source": [
        "####(注)ディレクトリについて\n",
        "![image.png](data:image/png;base64,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)"
      ],
      "metadata": {
        "id": "AdEf3ux-6SLI"
      }
    },
    {
      "cell_type": "markdown",
      "source": [
        "##CSV形式ファイルの読込み方法\n",
        "自分で作ったデータを読み込む方法について"
      ],
      "metadata": {
        "id": "DjywlK-haOnC"
      }
    },
    {
      "cell_type": "markdown",
      "source": [
        "###<font color =\"red\">【実習1】②（データの読込み）</font>\n",
        "読込みデータ（data1.csv）を下記からダウンロードして、ファイルに追加<br>\n",
        "https://drive.google.com/drive/folders/17sVq0dNXvnZX45NOM_XSxJ-HuCeOq7ao?usp=sharing\n",
        "\n",
        "data1.csvをファイルに追加\n",
        "![image.png](data:image/png;base64,iVBORw0KGgoAAAANSUhEUgAAAQEAAADXCAYAAAAa/OR7AAAAAXNSR0IArs4c6QAAAARnQU1BAACxjwv8YQUAAAAJcEhZcwAADsMAAA7DAcdvqGQAABsQSURBVHhe7d1/cJT1nQfwt62dVK1xOA3yB7meYUdMU24k9poL5pw4WhI9k1jILdxhvGMJIooWS8U0p405zxCYUrlekAIh1UkzPZbYNqF1iJay1TRpRlmpGKl0yYy3zBSJlmk6cN0Wy30/zz5PeFh2N7ubZPdZvu+X87h59tkfz/74vp/v97sP3+9l5xQQkbY+YV4SkaYYAkSaYwgQaY4hQKQ5hgCR5hgCRJpjCBBpjiFApDmGAJHmGAJEmmMIEGmOIUCkOYYAkeYYAkSaYwgQaY4hQKQ5hgCR5hgCRJpjCBBpjiFApDmGQFr40VJQAE/3qLkezyi8nkRvSzR5WRwC4YJVkMTS8qZ517SSQl2L9vJWbKzNM687b7TbgwKPV92KKDOSHnK8p6cH7733HjweDz788EPj70Rce+21KCsrM9fS7IQXngUNcHlH0PgF87o08bcWoHZHPbpHGlFsXmcnIVDyciWGOtwIR4SERgn23T2EjiihQTTVkg6B9evXG4VfLiUAJBQSceutt2LFihXmWpq92YICdwCtAx1wzzKvM2oS6ghtrk1IHcnPF9REhAtzg6884nkvxBCgjJMQSMaRI0eMJZuc3LP83A03PHvuoLmenJPndi+/4dyzb5irCTl47tkbbkjoOY19W75bPYsl/HzL95y/hmg6Jd0ncNNNNxlLNgkGfMADlVGr43ZG+7zVb66FjXY/gQa0YmWCzQjjMYwaRuwmAJGTpNQxKM2B7OHHvh2qNu/KN9eToJoRJeuB1pYEmgHS5CgoCN9+U715JZHzJd0nsGnTJvz6178evxwYGDC3xDd37lzU1NSYa2kUtT8gOqN9HliDkQZ1/E7ofla7X/62tf2N+yKhmoDRcXjU3t/APgFKr6RrAqnWAuTXgfTzo8XdrpoCayYMACHNBqPGIL8mGIU4VgBYP0+qAFBNhaGREYzEvG08owgcVRc3uhLrcJRwiWiuEE2a0TOQpNHRUfMvZzu4IbHOubBUOgBjeOPZxJ73t7vPLb8h8jljdQyGOxuXbzho60QkmryU+gSuu+468y+nkip1/N/nL3LiAPb56lGZxvMI/C80wFeeSKej+XOmnHCkmipsJNBUSqk5IH0BThXunbeq6Yn2zqvQaGwANq1MX2++qtrX7gDqH5qg01GaAGYAJHeeAlFiku4YlDMFhXQM/uIXv3DIyUL2E3/in5xzEfNsQmyawo64iToGje3tKI/6nGbH4I31wI52SJ9j9NsRTY2UThuW2oAUaKkRJHrasPw6MNXnFxi9+euNrvmUCspEp/SmLG4IhAt54KFYpzCHtxu/OPDoT2mQdAgQ0aUlpY5BIrp0MASINMcQINIcQ4BIcwwBIs0xBIg0xxAg0hxDgEhzDAEizTEEiDTHECDSHEOASHMMASLNMQSINMcQINIcQ4BIcwwBIs0xBIg0xxAg0hxDgEhzWg40KqMk9/b2Tjh/gsydmJH5E4nSSMuaQEdHR0ITqMjw6onOq0DZT74TMp9Gds26PXla1gSsCVQkDGKxbiMyVSOQL6XsY6wvpVNrKtm63+vXrzf2WebHkM8/crq9/v5+4/Kjjz4y5tGQ7c6fkm9iDIEY7CEgMvHFtaZ/j8eJBSpb91tEC4KJaoRyO7l9tgYCQyAG6zZ26f7iRtuHVMiX0/qipkO27rclWhDs2rXLmHYvHmtfsy0M+OtAErK1j0C+0PECL5OkwEjBiVZ4MrXf1n7YmzUy7Z4UcqnlyCJBERlOclsJCrl9NmFNIAbrNtGk64uZyH4mYqoeJ1Hx3rtIUqCsQieFRwpXpHTtt4jWlLHXCCJFOzDI5LtSY4x2eydiTSAG+eJFLjS1pKDYC5AUGilAmSL7Eq0vw14jEFbBl/VohV1qAxM1HZyEIUAZIQVHCpD0stsLXjr7XOykQEce0YVVyO1BINfJpVXQq6urjUs7KySyAUMggvwMFO3LkM2cWJOxmgxS1bYfNaXAJdOcmCqx3h8p8NJEEPYgkD4Cq5BH9g1YsuV7xBCwkQCQD1k+vGwOAtl36c2Wxfpt2+rQcgIpNFbBkUIvtQFrP4V9e6ZZBd2q8kcGQTxyPkE2mJIQyJZqTzxWAFiyMQjkCypHUdnv9957z1jkNVk/eTlF5JFeTuGWxSIFLloVezrJPlkF3c5qqtj7KuxBIGK9t5mo0aQi5RCQFy5HGnmh8iWTRY402RgIkQEg5AuRbUEgr0H22/os5FI+H/lMnPK5WG1si7z31v5Z+y2LPRTSQfYpWqfkwMCAcSn7LdutfbcHgdRaIu8b+TqdLKUQkDdAPjBpy8mLlxdsdfDIB2ilZ7awqm3ymizWB+6UwjMRqzDJa7Cq0vL5RIZbpkUWFqu2IosVXPYlnayCbiffZetAINV/2UcrbO1BINus+8r7L4+VLVIKASul5UOSFy8v2HqDhNO+eBOR/Zd9t7dD5To5ik7U7nMKKUyy//ajj3wp7QXKCdVTe81KapLxCku6awPCXpgtss/Wwc06KFjNlcggkNeT7vCarKRDQI448sLlC2UvNEK+gFb1U26TTaJV3SJfX7aR1ySvwVqivcZ0k7Cyvh+yP7H2SbZn6jtkBYF932RfrJqKfMftBzrZZgVBvFBzqqTPGLTayfKGRPsA5Y2QN0reDKe+IdYRMVqNJdVt08E6+kxE3m9532W/5O/I8LK+wLL/ZWVl5rXTZ6L9tr43sQJAWPeX15LJI6vUVqzgisZ6DbJd9lXe43ivy4lSDoF4BUHeCElSp1alZf9EsoU51fulSgqCVIknCgLryyeFT0ihsX85reuty+mW6H5PRF6DvK7IUMsEeR9lkUC49tprjX2yF3YriLMxCJIOAflg5csU7YgjrJ52eSPScdRJhfWBpUI+3HQVpmRZBV4u7SHgpMJ0KbMHgfydLT75tGL+nbC33nrLWObPn48rr7zSvDb8hZMAkOuc3KF2xRVXIBgM4syZM+Y1iZEPd+nSpY5NeXnf5TPJz883fvGQy+LiYjzyyCNZdWTKVl/60peMX2Sc/B2JJqV/RSiFXZJOXqg1woqQZoKQpoD0B/CLR+R8Kf9TYuuob2/3We0hq7rMKiiR86UcAnZWu9NirykwCIicbUpCIBoGAVF2mJJ/QBSNFH6rp1qaDXJJRM4zbTUBixR+WVgTIHKmaQ8BInK2aWsOEFF2YAgQaY4hQKS5rOwT+M1vfmP+RUSTxY5BIs2xOUCkOYYAkeYYAkSaYwgQaY4hQKQ5hgCR5hgCRJpjCBBpjiFApDmGAJHmGAJEmmMIEGmO/4DIJEOnR5tzTsZKzMZJJokSFTUEPvjqVeZfwPXfOm3+dWmTEZFjcfLkqkSTxRBQrPkTUyE1BZmFycnTrhHFwz6BOKSAT0SaDzL/3GRn4CXKFIZADDJEukyekmgzgPMqULZiCERhBYDUBKzJVYkuVQyBCFYAWBgEdKljCNhIgZdfCaJV7aXzT8KA6FLDELCRwi+1AGtqdYusyyIdgKkJIdjvg3/UXD07Cv/+QQT1+PWVHI4hkBZB9DWvxs5fmilwxg/vV1aj92h4lSiTGAJp4UL9q0ewrSovvJpbgdZ3DuHh+eFVokxiCMQgzQJr4c9/dCljCCiR06ZLobcvieDU65SteNqwSU4dln9AlAr51YAhQNkq6RD4+Hfv40/HXjfXzrvi7+4z/yKibJJ0CNi32UkI5P7zdnONiLJFUiHwf298D2PfX2WuXeyTf/VZtfy1uXahT825DZ+paDTXiMgpUuoYDBf2ixfx8e/+N+pyuu9Z/CnwmnEbInKOlGoC1z357nihT4T0I3z4n58zmgvsOyByFv5ESKQ5hgCR5hgCRJpjCBBpjiGgHT9aCgrQ8qa5OlXebEGBxwvrX0tT9mAImGSg0J6eHuzateuCRa6jKXbCC0+BB94T5jplVEohIKcNy2/+CS9RTjN2Ghk0RAq8DBxiX+Q6BgFdypI6T8D6vT9VyZ5fMJGTJ09i5syZ5lrq0jLvwPE+NH31G/C+qSrMs4rh/vpzaK7KD287O4rBbd9A0wt9CJzKhWvhGjy3uR5F8jHIUXNBAJVtIXif6oRfbS9ethHPPT4bfes82LxfHq8c67ZvQ/28HHUHqe63YeZ/LcDAhs3wqaNtXlUjulrq4DI+VtleC3hH0PgFWQeC+1vQpB7buO0d67BNPXdxbnhbTKeH0b42/Pw58+vQ+I8hNPQXY6jDDWPUhNFBbH2qCTtfCWBshgsVq57DlgeKMNbtQcl6n/EQonzTEDpq1T3ivQc0rZKqCUgBloIsJ/0ku0iYTGUAiJdeegkffPCBuZYZ8k+NpcYQf96BANqXr0VwURcOHR3BoU43gl+/D1sPm1s7lsHz9u14fmAEI0dfQ/PfeFH7zUGEwpuVTuwbdWOb2n7ktf/A7B+uRVVlG3IefRVHjh7B3keBzQ+3Y9i8NeCD1+9C86tHMHKwG2vOtKDqgsc7LzTYgvtagZU/Ubc9qgpk6QBq107Uth9DX2MtvLM34pUjIxj6jls9jr22pF7vv3hwsPx5DKnXO3KgGfl7atHSH0JebQdGBlpRrv5rVa/HCAC5x4TvAU2XpJsDUpDlrL9kl+myZcuWjAeBiD/uwBhOHnNhQbELOZcDOXNq0NzZitIZ4a94/tJuDLW54ZID+eW5KL2zHKE9A7ZCXYeVy4qQp7bnzK7GkqUhjN19P+rmqcP15TlwlVei9PhBDI+3sUtRv6Ic+XIUnVGEukfXYOaL+zB4UYkaRc/OdpT/+zq1L2pVPXfRMvW4PnXbeClwYh927y3HmkfVc8g+5ann8NSZG5Wz+XB7h7CtNvx6kVuKyjtUTeaN868o0sTvAU2XrO8YlABwShDEVoSaJ3PRtqgEnqfa4e0P4pp5pSieLd94VYiuDGF4x2osvKUABQVqcbcDZy4ssUZhMhl/q8Ifm9pmuz0Ki1GBIE6eMtfHBRFQNfNOT2H4eWUp9Kh6B/DHj8O3iOp4AL7Zn8ccCQ7Lp8xLofYtN6SaC2sW4mbzcWt3qFpHnMN6Iu8BTY9L4tcB5wdBDoo8qinwehfWfDEHwy8uQ8ldDegzjtwh+L9ZG64Kv6aqwiNq8dYb95oyH4fiVKvzse7H5vOOLx1wzzI3pyLkR4vb1hxQj9n9gLktqjS8BxTTJRECjncqgMH+cAdZcVUdmne+io1zvdjdL3XuMQSOBlG3SlWFrU6wP5uXU+V4EH5V2Gfaj9yGPOTPD+LAW0Fz3XTWvIxltgvlx9/BMXvNwr7P6vUGjtdhzVKzOaCE4j5mGt4DiumSCIHrr78ea9euNS6d6Rh2P/hQuCdfnPLjnbdzMPNqqdLn4JrrctDX04fgaXXEft+HlmelQj4ZPrRv9yEoh/9QAN7WFow9UIPSi1oQ+ahZUY3hDU3ofHfMuGbscCc8S7ZiOF5NfFYlllT50Pbt8HOERv3Y+pxtn6+8BjOv7ENPXxAh9Zrk14eW/zG3ievy4VLvSfC36vUazzMd7wElKutDwPkBoMyowMYfqOrt9ntQKO3dO9twclU3mivkd7hcVDR1o+7EN7BwXiFKvnoArlX1KFJV5LF4BTGuUlTMHUbT7aqtX1iFzrxm7HqkWHoKLpJ79xa8siEfPfUlRlv8tqcDqNygnj9el4Psc0s33MefwMLCApQ82IO8Sts0bbkVaP5+HYLNC1E4rwSP+VxYuaIIOD0WbpZcXoyaJ2ejc3Ehbn7eL3eYhveAEpX08GJOsm3bNixatGjSATCZ8wQsMn1ZWVmZuZZJ4fMEXAOTbNcb5yc0qDpFJPlpb5KPTY6S1TWBxYsXO7sGkM1mudFxQWehtTAALjVZHQJTcbagmIrhwjnkOGWrrG4OTCXOO0C6YggQaY7nCRBpjiFApLmozQEi0gdrAkSaYwgQaY4hQKQ5hgCR5tgxGIWcOBSNjCfIk4LoUsMQsJFxAmXU4XhqamqMZdJknP7nXecH5iTKEDYHbOKdNiy1ACn8GRmCPJVx+k8HMbzfi83rlmHhGk4KQrExBGziDxZ6vhbg/LkI/GgpqcVmXwgzZ4whcMa8migKhkCSUg4CGad/ZYkxqMjNi5vgfTs8ks84Gaf/QXNgzlsWYvWOYWMAjtFuDwqMf9fvQ8OCAni6zWN6jNuHFaPx0BA6nqlD5U2JNDZCCHQ3odYY5LMQJSu32kYbtg8AejMWPtgOv7HrY+hdY9sfEfKhqaAWne+b65QVGAIpSD4Ipnqc/ti3H2cfbXgCoz9cjartOVj3U/VYMvdA2UF4HuyEjDw41qfCYU8+mo1t5nwAjb3qFeWi/O5q+F4+MN7UCL1xAN75NSif2uklaJoxBBIkTQWr0FsFX/oJJmpCGKZ6nP4UxvWPLYB9L/jgvmDugUZsKVPhoI74oT+cRGj+AhSb20pXPY+upeFZqHLL7kK17wAGzQFHh/u9KFqkXmN4lbIEQyAJ9hCQJaEAEFM9Tn8K4/rHNobg4VIUGbN+mC53oeKxOmMqsryyJXC/uxoli9eipasXw6fzUVrmUvUARYXPXVV9+NmgSouzwxh8uQg1ZYyAbMMQcIJkx+lPelz/SZhVgdYfHcLep++F6+TP0FRzswocq/9B1QwqqtE76EfoqA/ePDYFshFDIB2mepz+pMf1jycX+fMGMRywVSPOjqqqvR9BVbUIvjUI/wmo25TD/dgWdL+wBqOtPePTgxlNgq4DaN+/D7nVpWwKZCGGQDpM9Tj9E91+Iur5ff3qvsaKC5X/Vg7vs5vDbfuzYxjuegK1z6linpODsV82YVmzF8Pyi8DZEAJvH0Rwzsxwc0DkluPeZV60bQfcqplA2YchkBZTPE7/RLefwJjfi9VfUe17cz3vy9uwd1UIm+8sQMGNt6Hp7dvR9d0646hetLILHX87gMdul203Y5l6ro7v1qvosOSg9A43QnPcKJ1jXkVZhacN2+zatcuYZjwZMsjoihUrzDWi7MOaAJHmGAJEmmMIEGmOIWAzd+5c86/ESZ8AUTZjx2AEGVMg0TMBZYAROXWYKJsxBIg0x+YAkeYYAkSaYwgQaU7LPoHQz3+O3z/+OD7+4APzGkqnT1dUIPeZZ/DJ6683r6FM0jIEPrzrLvz58GFzjTLh6q99DZ9Zu9Zco0xic4Ay4y9/Mf+gTNMyBK5WTQFWRTPn05WVuGLJEnONMk3v8wQijka9vb3j4wdGkpOC5OxA2S6DjFZXV5tbJs+/0YWtrkHsWjzV05CMYs+KUuy72/bYZ0cx+J0mPP3iKzh2Kgd5t/wTGjc9jap0jgj0CVZAnUTvT0O+jLZl9KOPcO6yy2Iu1ffeayw/krDYu/ei+6e8XAb1+FGun4Ll3AWP/Wf4t9bBc/hWfOunIwgcHUL7Pcex/l+3YfgvF95vWhdyFH4iSUp53oHjfWhyh+cdKFxQi6a9MqC3TSiA3qdqjYFDCxd40H7YNjzI2SB8rR6UfL4ABZ8vgWeHH2O24cRkZCHPgkJzzgBzXgBj1qISNPgA3/oSFHhkFqJhHNgVRP1DdSiyRhZeej/cxw9iONaZ0qcD8Jr7ZTz3fw9i1HputV99apu1X7VP9SIo2071YnXEjEkhXxMKFoeHMSdnYQikIPkgCKB9+VoEF3Xh0NERHOp0I/j1+7DV9gOFb8NO/N7dobYfwd6HgZaH282Rf0IYbL0PLViJVw+NYOT1Diz4ZS3W/ig82n9osAX3tQIrf3IkPGdA6QBq16oCP8uNjpEhtJYD5ZuGMGLMeViMde8cwbr5xl3DTp1UBTMfM+0jIY8bRe/aKrRftQ6vyYCmAx24/W0PVu8OF+VAxwqsPeFG10G17WAX3CeewH3b1F7PKMe9VT7s6x+fkQD+n3tRzOHIHYkhkKBJzTuAMZw85sKC4vDAoDlzatDc2YrSGeeP9kWPN6JuXq4xnLjrjkqUq6PzMSlDJ3qws6McjY+VIlcGFZ1RhLr76+DrU0dk9V/PznaUXzBnwP2o8+2zzSAUTwi+rU04/rgb5bYRx8cd24ed+93nnztXPXfDFpSq55XKxtjvAnCVFsMYrTzHhZqmLrSW5apHDY9C7PMNGreT4cgP7OFw5E7FEEiCPQRkSXjeAagC8GQu2hap6vRT7fD2B3HNvFIUzz5f8vKuusb867w/fqz+J3MWoBOeQlXlNucYKPR0Ah//UW0MIqCq+50eaQqY2ws96tbmfeMKYXjbMnUkb8aulUXmdRFOBTFcWoQ59oCYU4F1y4qNgUaLqhuRu7VKNUGa0N49iOBVxSidnw+5uTEK8cs/g0xJgCOD6JvL4cidiiGQFjko8qimwOtdWPPFHAy/uAwldzWgL9FZhmevw96R8PwC48v4lOb5WPfjiG0jHXDPMjbGFOxejdofFKNjixv55rDlycr5XD26hobQteoW5PxqJ5b9w0I09JlVEGNikl4M+FXY9HuRx6aAYzEE0uFUAIP9AYzNcKG4qg7NO1/Fxrle7B5vM8eRl4/i4wfgt0/yOd4pmIf8+UEceCuiu22COQjGBluwYrsLHS81ovgq88poZuSjaHAYx+xDGI8OY1A9X0hV9AP9gwj8IReuL1Sj7pkOvLphDry7rbkJw02Czv3t8O3LRc3fMwKciiGQFsew+8GHsHm/WehP+fHO2zmYeXW0hniEz9ZgZdUwWv6z0xz7X+YF8KB2m8wClI+aFdUY3tCEzneN1jfGDqumw5KtGDYKrgqJAvXsQVVozTnKQm+2oHZlAPXfbUTp+OQB54XeH4TvLXM/51Ri5R1etDyn2vYSLGPD6GysxeZ3pW6jHnePBw992xf+tUDtl/9X7yLnumuMbSL3jntR98M2tIHDkTsZQyAdZlRg4w/qge33GD8RFtzZhpOrutFcEaUUXiQXFZtfwcZZPfAsUPeVeQEClWi9vyjc9r57C17ZkI+e+hKjT+C2pwOo3FCPIrMkFi9qxOzv1aLwljb4pSPx+XYEzvjQcJvZh2AtrX7j9sG+JqzeJZ2OIg/VW/ai/vRm3Hajus3tTThY3oWOJXJUl7kU1LazbbjnZrVN7VfbqXp0N1UY/QWGnFLc/uUQXItKbfMUkNNwZCEbzjtAOmJNgEhzDAEizTEEiDTHELDhvAOkI3YMRuC8A6QbhgCR5tgcINIcQ4BIcwwBIs0xBIg0xxAg0hxDgEhzDAEizTEEiDTHECDSHEOASHMMASLNMQSINMcQINIcQ4BIcwwBIs0xBIg0xxAg0hxDgEhzDAEizTEEiDTHECDSHEOASHMMASLNMQSINMcQINIcQ4BIa8D/A0gSICHX47cwAAAAAElFTkSuQmCC)\n",
        "\n"
      ],
      "metadata": {
        "id": "hNjI944MhSgX"
      }
    },
    {
      "cell_type": "markdown",
      "source": [
        "###●スマホから学習している場合\n",
        "<font color ='red'>スマートフォンから学習している人は下記を実行してdata1.csvを作成すること</font>"
      ],
      "metadata": {
        "id": "mrdPzMgv5UNh"
      }
    },
    {
      "cell_type": "code",
      "source": [
        "###スマホの場合は下記を実行してdata1.csvを作成\n",
        "export_data <- data.frame(gender=c(2,1,2,1,2,2,2,2,2,2,1,1,1,2,1,2,1,2,1,1,2,1,1,1,2,1,1,1,2,2),region=c(\"京都府\",\"東京都\",\"群馬県\",\"群馬県\",\"奈良県\",\"愛知県\",\"岩手県\",\"北海道\",\"千葉県\",\"山形県\",\"熊本県\",\"群馬県\",\"和歌山\",\"和歌山\",\"和歌山\",\"宮城県\",\"栃木県\",\"神奈川県\",\"東京都\",\"高知県\",\"群馬県\",\"香川県\",\"岡山県\",\"三重県\",\"和歌山県\",\"北海道\",\"埼玉県\",\"宮城県\",\"鳥取県\",\"長野県\"),name=c(\"福井 凛香\",\"大川 陽生\",\"平松 衣月羽\",\"小川 和茂\",\"安永 正巳\",\"中沢 来雅子\",\"滋賀 心優\",\"香川 みう\",\"日下部 小冬音\",\"仲野 留美子\",\"田川 碧仁\",\"岩本 遥夏\",\"野中 弦之助\",\"荒井 彩来\",\"北岡 俊彦\",\"根岸 麻理子\",\"関本 裕太\",\"清田 芹花\",\"金沢 和夢\",\"大熊 諒真\",\"黒田 笑舞\",\"中澤 諒成\",\"平 慶一朗\",\"平沢 健蔵\",\"梶田 茉莉花\",\"三島 咲翔\",\"岡野 裕理\",\"伴 湊音\",\"井原 仁愛\",\"大倉 翼\"),Japanese=c(77,74,52,85,97,57,80,54,51,54,67,87,94,78,54,62,100,92,70,88,97,58,71,98,54,53,75,53,65,99),Math=c(64,97,90,63,56,82,97,73,73,79,95,92,64,66,80,93,72,51,98,60,76,85,75,85,53,67,67,56,67,79),English=c(99,83,59,55,89,65,74,93,72,92,64,88,53,69,98,72,71,76,65,64,88,77,69,50,84,92,60,69,54,67))\n",
        "write.csv(x = export_data, file = \"data1.csv\", row.names=FALSE)"
      ],
      "metadata": {
        "id": "hgc2mTHh3Off"
      },
      "execution_count": null,
      "outputs": []
    },
    {
      "cell_type": "markdown",
      "source": [
        "**やってみよう！**\n",
        "\n",
        "sheet3.csvのデータを下記からダウンロードしてフォルダに追加\n",
        "\n",
        "https://drive.google.com/drive/folders/17sVq0dNXvnZX45NOM_XSxJ-HuCeOq7ao?usp=sharing"
      ],
      "metadata": {
        "id": "DAWWvkGlZubu"
      }
    },
    {
      "cell_type": "markdown",
      "source": [
        "##【2】データの加工"
      ],
      "metadata": {
        "id": "4FQycdxQDf0x"
      }
    },
    {
      "cell_type": "code",
      "source": [
        "data1 <- read.csv( file = \"data1.csv\", header =TRUE)\n",
        "data1\n",
        "class(data1)"
      ],
      "metadata": {
        "id": "z1lb1LzuhvC7"
      },
      "execution_count": null,
      "outputs": []
    },
    {
      "cell_type": "markdown",
      "source": [
        "###【実習2】①データ構造の確認"
      ],
      "metadata": {
        "id": "Mr5K7Y2eny3g"
      }
    },
    {
      "cell_type": "code",
      "source": [
        "#データ構造の確認\n",
        "str(data1)"
      ],
      "metadata": {
        "id": "OPJkYIyhogm1"
      },
      "execution_count": null,
      "outputs": []
    },
    {
      "cell_type": "code",
      "source": [
        "#データの配列\n",
        "dim(data1)"
      ],
      "metadata": {
        "id": "GkVd6c2OorMo"
      },
      "execution_count": null,
      "outputs": []
    },
    {
      "cell_type": "markdown",
      "source": [
        "###【実習2】②抽出"
      ],
      "metadata": {
        "id": "aGZht9EAqBbW"
      }
    },
    {
      "cell_type": "code",
      "source": [
        "# 1行2列の抽出\n",
        "data1[1,2]"
      ],
      "metadata": {
        "id": "CIKIb_JSqPYl"
      },
      "execution_count": null,
      "outputs": []
    },
    {
      "cell_type": "code",
      "source": [
        "# 1行目の抽出\n",
        "data1[1,]\n",
        "# 1行目の抽出が下記のようにも書ける\n",
        "data1[1,1:6]"
      ],
      "metadata": {
        "id": "8JrRD1RtrIC_"
      },
      "execution_count": null,
      "outputs": []
    },
    {
      "cell_type": "code",
      "source": [
        "# 1～3行目の抽出\n",
        "data1[1:3,]\n",
        "# 1～3行目の抽出が下記のようにも書ける\n",
        "data1[1:3,1:6]"
      ],
      "metadata": {
        "id": "wUd6bvPqrMni"
      },
      "execution_count": null,
      "outputs": []
    },
    {
      "cell_type": "code",
      "source": [
        "# 5列目の抽出\n",
        "data1[,5]\n",
        "# 5列目の抽出は下記のようにも書ける\n",
        "data1[1:3,5]"
      ],
      "metadata": {
        "id": "WQf5dV80rgbo"
      },
      "execution_count": null,
      "outputs": []
    },
    {
      "cell_type": "code",
      "source": [
        "# $Math変数へアクセス\n",
        "data1$Math"
      ],
      "metadata": {
        "id": "HtHPJjazr2tR"
      },
      "execution_count": null,
      "outputs": []
    },
    {
      "cell_type": "code",
      "source": [
        "# 演算(4列目+5列目)\n",
        "data1[,4] + data1[,5]"
      ],
      "metadata": {
        "id": "iRT3bkcMsD5L"
      },
      "execution_count": null,
      "outputs": []
    },
    {
      "cell_type": "markdown",
      "source": [
        "###【実習2】③並べ替え　sort()"
      ],
      "metadata": {
        "id": "BI2OuzcqsPxJ"
      }
    },
    {
      "cell_type": "code",
      "source": [
        "# $Math列の並べ替え(昇順)\n",
        "sort(data1$Math)\n",
        "# $Math列の並べ替え(降順)\n",
        "sort(data1$Math,decreasing = TRUE)"
      ],
      "metadata": {
        "id": "RwefOjoWsXVb"
      },
      "execution_count": null,
      "outputs": []
    },
    {
      "cell_type": "markdown",
      "source": [
        "###【実習2】④部分和・apply関数\n",
        "行・列を一括して計算するにはapply関数が便利\n",
        "```R\n",
        "apply(data,値,関数名)\n",
        "```\n",
        "値が1の場合は行、\n",
        "2の場合は列"
      ],
      "metadata": {
        "id": "7NhU4yZNs2Ni"
      }
    },
    {
      "cell_type": "code",
      "source": [
        "# 各行の合計(個人の3教科合計)\n",
        "apply(data1[,4:6],1,sum)"
      ],
      "metadata": {
        "id": "SrwBtnPRtND4"
      },
      "execution_count": null,
      "outputs": []
    },
    {
      "cell_type": "code",
      "source": [
        "# 各列の合計（3教科の合計）\n",
        "apply(data1[,4:6],2,sum)"
      ],
      "metadata": {
        "id": "-RFkn6BHuJve"
      },
      "execution_count": null,
      "outputs": []
    },
    {
      "cell_type": "markdown",
      "source": [
        "###【実習2】⑤表の再構成(data2を作る)\n",
        "```R\n",
        "data.frame(結合するdata1,結合するdata2) \n",
        "```"
      ],
      "metadata": {
        "id": "9Z0EHJKgvWt6"
      }
    },
    {
      "cell_type": "code",
      "source": [
        "#合計をmarkに代入\n",
        "mark <- apply(data1[,4:6],1,sum)\n",
        "mark\n",
        "#このmarkをdata1と結合\n",
        "data2 <- data.frame(data1,mark) #結合\n",
        "data2"
      ],
      "metadata": {
        "id": "6f0jUDBrvzb1"
      },
      "execution_count": null,
      "outputs": []
    },
    {
      "cell_type": "markdown",
      "source": [
        "###【練習2】"
      ],
      "metadata": {
        "id": "ZZ0maVf4xnCE"
      }
    },
    {
      "cell_type": "code",
      "source": [
        "# (1)各教科の平均値を求めなさい。\n",
        "apply(data1[,4:6],2,mean)"
      ],
      "metadata": {
        "id": "KekNoiINxvLJ"
      },
      "execution_count": null,
      "outputs": []
    },
    {
      "cell_type": "code",
      "source": [
        "# (2)各教科の分散と標準偏差を求めなさい。\n",
        "apply(data1[,4:6],2,var)\n",
        "apply(data1[,4:6],2,sd)"
      ],
      "metadata": {
        "id": "YlHWZ_XPx2JC"
      },
      "execution_count": null,
      "outputs": []
    },
    {
      "cell_type": "code",
      "source": [
        "# 英語と数学の相関係数を求めなさい。\n",
        "x <- data1$English\n",
        "y <- data1$Math\n",
        "cor(x,y)"
      ],
      "metadata": {
        "id": "Q0iSy14nx2Re"
      },
      "execution_count": null,
      "outputs": []
    },
    {
      "cell_type": "markdown",
      "source": [
        "##【3】データの一部にアクセス（抽出機能）\n",
        "データの一部にアクセスするために必要な比較演算子と論理演算子は次の通りである。"
      ],
      "metadata": {
        "id": "X219-gRN0NNB"
      }
    },
    {
      "cell_type": "markdown",
      "source": [
        "###比較演算子\n",
        "\n",
        ">|意味|記述|\n",
        "|:--:|:--:|\n",
        "|より大きい|>|\n",
        "|以上|>=|\n",
        "|未満|<|\n",
        "|以下|<=|\n",
        "|等しい|==|\n",
        "|等しくない|!=|\n",
        "\n"
      ],
      "metadata": {
        "id": "Q_L6NdBA0gc9"
      }
    },
    {
      "cell_type": "markdown",
      "source": [
        "###論理演算子\n",
        "\n",
        ">|意味|記述|\n",
        "|:--:|:--:|\n",
        "|否定(not)|!|\n",
        "|かつ(and)|&|\n",
        "|または(or)|\\||\n",
        "|排他的論理和|xor|\n",
        "\n",
        "※<font color=\"red\">'かつ'には&&、'または'には||があるが使い方は少し異なる</font>"
      ],
      "metadata": {
        "id": "7ygE4lJP0oK9"
      }
    },
    {
      "cell_type": "markdown",
      "source": [
        "###【実習3】"
      ],
      "metadata": {
        "id": "084dHQaC4RYW"
      }
    },
    {
      "cell_type": "code",
      "source": [
        "#(1)男子のみの抽出\n",
        "data1[data1$gender == 1,]"
      ],
      "metadata": {
        "id": "gPHZDHCd4j1O"
      },
      "execution_count": null,
      "outputs": []
    },
    {
      "cell_type": "code",
      "source": [
        "#(2)東京都出身を抽出\n",
        "data1[data1$region == \"東京都\",]"
      ],
      "metadata": {
        "id": "hakneFpi6bgS"
      },
      "execution_count": null,
      "outputs": []
    },
    {
      "cell_type": "code",
      "source": [
        "#(3)英語が60点以上を抽出\n",
        "data1[data1$English >= 60,]"
      ],
      "metadata": {
        "id": "dbqPIiR56uIC"
      },
      "execution_count": null,
      "outputs": []
    },
    {
      "cell_type": "code",
      "source": [
        "#(4)女子で国語が60点以上を抽出\n",
        "data1[data1$Japanese >= 60 & data1$gender == 2,]"
      ],
      "metadata": {
        "id": "adfYylAF68pd"
      },
      "execution_count": null,
      "outputs": []
    },
    {
      "cell_type": "markdown",
      "source": [
        "###【補足】attach関数の活用\n",
        "attach(data1)を活用すると、データセットの変数、ここではregionを直接サーチパスできる。<br>\n",
        "【実習3】でattach関数を使うと"
      ],
      "metadata": {
        "id": "cuGJo3Ro7Qoc"
      }
    },
    {
      "cell_type": "code",
      "source": [
        "attach(data1)\n",
        "#(1)男子のみの抽出\n",
        "data1[gender == 1,]\n",
        "#(2)東京都出身を抽出\n",
        "data1[region == \"東京都\",]\n",
        "#(3)英語が60点以上を抽出\n",
        "data1[English >= 60,]\n",
        "#(4)女子で国語が60点以上を抽出\n",
        "data1[Japanese >= 60 & data1$gender == 2,]"
      ],
      "metadata": {
        "id": "Yt9adu5Q7sBf"
      },
      "execution_count": null,
      "outputs": []
    },
    {
      "cell_type": "markdown",
      "source": [
        "###【実習4】\n",
        "attach(data1)を実行する例"
      ],
      "metadata": {
        "id": "Z7LGDuIZ9wtG"
      }
    },
    {
      "cell_type": "code",
      "source": [
        "#(1)東京出身の国語の合計点\n",
        "sum(data1[region == \"東京都\",]$Japanese)"
      ],
      "metadata": {
        "id": "_RpBRUGL-8F5"
      },
      "execution_count": null,
      "outputs": []
    },
    {
      "cell_type": "code",
      "source": [
        "#(2)埼玉県出身の英語の平均点\n",
        "mean(data1[region == \"埼玉県\",]$English)"
      ],
      "metadata": {
        "id": "15z7nlBgAPxY"
      },
      "execution_count": null,
      "outputs": []
    },
    {
      "cell_type": "code",
      "source": [
        "#(3)数学が50点以上の人数\n",
        "dim(data1[Math >= 50,])"
      ],
      "metadata": {
        "id": "OIn62aAgAq3e"
      },
      "execution_count": null,
      "outputs": []
    },
    {
      "cell_type": "code",
      "source": [
        "#(4)神奈川県出身で英語が80点未満の人数\n",
        "dim(data1[English < 80 & region == \"神奈川県\",])"
      ],
      "metadata": {
        "id": "FdvPmJIcArAP"
      },
      "execution_count": null,
      "outputs": []
    },
    {
      "cell_type": "code",
      "source": [
        "#(5)3教科の合計が180点以上の人数\n",
        "dim(data2[data2$mark>=180,])"
      ],
      "metadata": {
        "id": "fsdtamyCArHe"
      },
      "execution_count": null,
      "outputs": []
    },
    {
      "cell_type": "markdown",
      "source": [
        "##【発展】tapply関数の活用"
      ],
      "metadata": {
        "id": "c4EN7uRpGOoj"
      }
    },
    {
      "cell_type": "code",
      "source": [
        "#(1)すべての地域の和\n",
        "tapply(Japanese,region,sum)"
      ],
      "metadata": {
        "id": "ySh2Sn6TGjNS"
      },
      "execution_count": null,
      "outputs": []
    },
    {
      "cell_type": "code",
      "source": [
        "#すべての地域の平均\n",
        "tapply(Japanese,region,mean)"
      ],
      "metadata": {
        "id": "PbmpA5PGG4B0"
      },
      "execution_count": null,
      "outputs": []
    },
    {
      "cell_type": "markdown",
      "source": [
        "##【4】データの書き込み\n",
        "これ結構重要！\n",
        "```R\n",
        "row.names = FALSE\n",
        "```\n",
        "CSV形式の書き出しのときにデータフレームのインデクス番号を付けないで書き出し<br>\n",
        "データを読み込んで処理したときにエラーが出たらまず`row.names = FALSE`忘れを疑え！\n"
      ],
      "metadata": {
        "id": "xbe1xmVOoZwy"
      }
    },
    {
      "cell_type": "code",
      "source": [
        "#初期データの読込み\n",
        "data1 <- read.csv( file = \"data1.csv\", header =TRUE)\n",
        "mark <- apply(data1[,4:6],1,sum)\n",
        "data2 <- data.frame(data1,mark) #結合"
      ],
      "metadata": {
        "id": "YJhH91jUCOpa"
      },
      "execution_count": null,
      "outputs": []
    },
    {
      "cell_type": "code",
      "source": [
        "#書き込み例1\n",
        "write.csv(data2,\"sheet2.csv\",row.names = FALSE)\n",
        "# row.names = FALSEとすると一番左側のヘッダを付けない\n",
        "write.csv(data2,\"sheet0.csv\")\n",
        "# sheet0.csvとsheet2.csvを比較し、一番左側のヘッダが付いていないことを確認しよう"
      ],
      "metadata": {
        "id": "-kzIrXyfDypA"
      },
      "execution_count": null,
      "outputs": []
    },
    {
      "cell_type": "markdown",
      "source": [
        "##【5】欠損値の扱い\n",
        "次はデータに欠損値（NA）が含まれているときの処理である。\n",
        "sheet3.csvのデータは下記URLから\n",
        "\n",
        "https://drive.google.com/drive/folders/17sVq0dNXvnZX45NOM_XSxJ-HuCeOq7ao?usp=sharing\n"
      ],
      "metadata": {
        "id": "1h3rrlIwIYMl"
      }
    },
    {
      "cell_type": "markdown",
      "source": [
        "##●スマホから学習している場合\n",
        "スマートフォンから学習している人は下記を実行してsheet3.csvを作成すること"
      ],
      "metadata": {
        "id": "nvqC_3X4A9Bf"
      }
    },
    {
      "cell_type": "code",
      "source": [
        "###スマホの場合は下記を実行してsheet3.csvを作成\n",
        "export_data <- data.frame(gender=c(2,1,2,1,2,2,2,2,2,2,1,1,1,2,1,2,1,2,1,1,2,1,1,1,2,1,1,1,2,2),region=c(\"京都府\",\"東京都\",\"群馬県\",\"群馬県\",\"奈良県\",\"愛知県\",\"岩手県\",\"北海道\",\"千葉県\",\"山形県\",\"熊本県\",\"群馬県\",\"和歌山\",\"和歌山\",\"和歌山\",\"宮城県\",\"栃木県\",\"神奈川県\",\"東京都\",\"高知県\",\"群馬県\",\"香川県\",\"岡山県\",\"三重県\",\"和歌山県\",\"北海道\",\"埼玉県\",\"宮城県\",\"鳥取県\",\"長野県\"),name=c(\"福井 凛香\",\"大川 陽生\",\"平松 衣月羽\",\"小川 和茂\",\"安永 正巳\",\"中沢 来雅子\",\"滋賀 心優\",\"香川 みう\",\"日下部 小冬音\",\"仲野 留美子\",\"田川 碧仁\",\"岩本 遥夏\",\"野中 弦之助\",\"荒井 彩来\",\"北岡 俊彦\",\"根岸 麻理子\",\"関本 裕太\",\"清田 芹花\",\"金沢 和夢\",\"大熊 諒真\",\"黒田 笑舞\",\"中澤 諒成\",\"平 慶一朗\",\"平沢 健蔵\",\"梶田 茉莉花\",\"三島 咲翔\",\"岡野 裕理\",\"伴 湊音\",\"井原 仁愛\",\"大倉 翼\"),Japanese=c(77,74,52,85,97,57,80,54,NA,54,67,87,94,78,54,62,100,92,70,88,97,58,71,98,54,53,75,53,65,99),Math=c(64,97,90,63,56,82,97,73,NA,79,95,92,64,66,80,93,72,51,98,60,76,85,75,85,53,67,67,56,67,79),English=c(99,83,59,55,89,65,74,93,NA,92,64,88,53,69,98,72,71,76,65,64,88,77,69,50,84,92,60,69,54,67))\n",
        "write.csv(x = export_data, file = \"sheet3.csv\", row.names=FALSE)"
      ],
      "metadata": {
        "id": "78AwU-s1Abi9"
      },
      "execution_count": null,
      "outputs": []
    },
    {
      "cell_type": "code",
      "source": [
        "data3 <- read.csv(\"sheet3.csv\",header = TRUE)\n",
        "data3"
      ],
      "metadata": {
        "id": "vOy3VxHFIsLQ"
      },
      "execution_count": null,
      "outputs": []
    },
    {
      "cell_type": "markdown",
      "source": [
        "###【欠損データがある部分和】\n",
        "\n",
        "apply(data,1:行/2:列,関数名,欠損値NAは無視)\n",
        "```R\n",
        "na.rm=TRUE\n",
        "```"
      ],
      "metadata": {
        "id": "sAewVkLTJoNb"
      }
    },
    {
      "cell_type": "code",
      "source": [
        "#欠損値を無視した列の部分和\n",
        "apply(data3[,4:6],1,sum,na.rm=TRUE)"
      ],
      "metadata": {
        "id": "hFRrxdiwJ8Mn"
      },
      "execution_count": null,
      "outputs": []
    },
    {
      "cell_type": "code",
      "source": [
        "#欠損値を無視した行の部分和\n",
        "apply(data3[,4:6],2,sum,na.rm=TRUE)"
      ],
      "metadata": {
        "id": "fXF6COxXKKMT"
      },
      "execution_count": null,
      "outputs": []
    },
    {
      "cell_type": "code",
      "source": [
        "#欠損値データの削除\n",
        "na.omit(data3)"
      ],
      "metadata": {
        "id": "9avx1qZODaKm"
      },
      "execution_count": null,
      "outputs": []
    },
    {
      "cell_type": "markdown",
      "source": [
        "この<font color='red'>na.omit()</font>は処理のとき、めちゃ使うので覚えておこう！"
      ],
      "metadata": {
        "id": "___XWviSDyVg"
      }
    }
  ]
}