{
  "nbformat": 4,
  "nbformat_minor": 0,
  "metadata": {
    "colab": {
      "provenance": [],
      "collapsed_sections": [],
      "include_colab_link": true
    },
    "kernelspec": {
      "name": "ir",
      "display_name": "R"
    },
    "language_info": {
      "name": "python"
    },
    "gpuClass": "standard"
  },
  "cells": [
    {
      "cell_type": "markdown",
      "metadata": {
        "id": "view-in-github",
        "colab_type": "text"
      },
      "source": [
        "<a href=\"https://colab.research.google.com/github/moshimoshipandasan/waseda/blob/main/R%E8%A8%80%E8%AA%9E%E5%85%A5%E9%96%804.ipynb\" target=\"_parent\"><img src=\"https://colab.research.google.com/assets/colab-badge.svg\" alt=\"Open In Colab\"/></a>"
      ]
    },
    {
      "cell_type": "markdown",
      "source": [
        "#■9　Rでのグラフィックス（データの可視化）"
      ],
      "metadata": {
        "id": "APj2-l1v2yXJ"
      }
    },
    {
      "cell_type": "markdown",
      "source": [
        "##【1】散布図（plot)\n",
        "データの可視化や関数のグラフを描く場合、基本的な命令には<font color ='red'>plot</font>コマンドを使用する。"
      ],
      "metadata": {
        "id": "2315-dKqWFRh"
      }
    },
    {
      "cell_type": "markdown",
      "source": [
        "###【実習１】散布図：plot"
      ],
      "metadata": {
        "id": "Jx5WMnXRahAA"
      }
    },
    {
      "cell_type": "markdown",
      "source": [
        "###2次関数$y=x^2$のグラフ"
      ],
      "metadata": {
        "id": "-gM9w4t8dGd6"
      }
    },
    {
      "cell_type": "code",
      "source": [
        "x <- c(-5:5)\n",
        "y <- c(25,16,9,4,1,0,1,4,9,16,25)\n",
        "plot(x,y,type='p',xlab='x',ylab='y') #type='p'はpointの意味"
      ],
      "metadata": {
        "id": "EWJ_nTvQ9xUb"
      },
      "execution_count": null,
      "outputs": []
    },
    {
      "cell_type": "markdown",
      "source": [
        "###seq()関数\n",
        "seq(x)に入力された値を最大値とし, 1からその値まで, 連続した値を取る.\n",
        "seq(x, y, by = z)で, x から y までを z の値ごとに取っていくというようにする."
      ],
      "metadata": {
        "id": "_S6KT1vrWyWV"
      }
    },
    {
      "cell_type": "code",
      "source": [
        "x <-  seq(-5, 5, length=100) #xの範囲(-5,5)の長さ100の数列を生成\n",
        "y <- x^2\n",
        "plot(x,y,type='l',xlab='x',ylab='y',main='y=x^2') #type='l'はlineの意味"
      ],
      "metadata": {
        "id": "-sHYSyVJksll"
      },
      "execution_count": null,
      "outputs": []
    },
    {
      "cell_type": "markdown",
      "source": [
        "###円"
      ],
      "metadata": {
        "id": "JE3LZq5xYAw5"
      }
    },
    {
      "cell_type": "code",
      "source": [
        "t = seq(0, 2*pi, length=100)\n",
        "plot(cos(t), sin(t), type=\"l\", asp=1)"
      ],
      "metadata": {
        "id": "ScWqvItkYCoR"
      },
      "execution_count": null,
      "outputs": []
    },
    {
      "cell_type": "markdown",
      "source": [
        "###楕円"
      ],
      "metadata": {
        "id": "-rqgQ_c7c5Sm"
      }
    },
    {
      "cell_type": "code",
      "source": [
        "t = seq(0, 2*pi, length=100)\n",
        "plot(2*cos(t), sin(t), type=\"l\", asp=1)"
      ],
      "metadata": {
        "id": "lXTYiH-dbo_z"
      },
      "execution_count": null,
      "outputs": []
    },
    {
      "cell_type": "markdown",
      "source": [
        "## グラフの日本語化\n",
        "ColabはUbuntu上で動いているので、apt-get コマンドを使ってフォントを追加することが可能です。R環境ではシェルマジックが使えないので、system 関数を用います。"
      ],
      "metadata": {
        "id": "weJoATiGsnpm"
      }
    },
    {
      "cell_type": "code",
      "source": [
        "# 日本語化\n",
        "system(\"apt-get install -y fonts-noto-cjk\")"
      ],
      "metadata": {
        "id": "zjGne3kjr1LO"
      },
      "execution_count": null,
      "outputs": []
    },
    {
      "cell_type": "code",
      "source": [
        "#日本語フォント一覧\n",
        "systemfonts::system_fonts()"
      ],
      "metadata": {
        "id": "zx7ecnl3se-b"
      },
      "execution_count": null,
      "outputs": []
    },
    {
      "cell_type": "markdown",
      "source": [
        "##【2】棒グラフ（barplot)\n",
        "<font color ='red'>barplot</font>は棒フラフを描画する命令である。"
      ],
      "metadata": {
        "id": "TxB4s9F6dWCz"
      }
    },
    {
      "cell_type": "code",
      "source": [
        "#縦棒グラフ\n",
        "par(family = \"Noto Sans Mono CJK KR\") #日本語フォントの指定\n",
        "y <- c(182,152,145,175,153,172,184)\n",
        "barplot(y,ylim=c(0,200),xlab='数値',ylab='項目',main='身長', col='blue')"
      ],
      "metadata": {
        "id": "aoUagw3wdxU0"
      },
      "execution_count": null,
      "outputs": []
    },
    {
      "cell_type": "code",
      "source": [
        "#横棒グラフ\n",
        "par(family = \"Liberation Mono\") #日本語フォントの指定\n",
        "y <- c(182,152,145,175,153,172,184)\n",
        "barplot(y,xlim=c(0,200),xlab='数値',ylab='項目',main='身長',beside=TRUE, horiz =TRUE,col = 'red')"
      ],
      "metadata": {
        "id": "fvfY5-9aeTIl"
      },
      "execution_count": null,
      "outputs": []
    },
    {
      "cell_type": "markdown",
      "source": [
        "###【練習1】Rで提供されている「データセット」を棒グラフにしなさい。\n",
        "https://www.math.chuo-u.ac.jp/~sakaori/Rdata.html"
      ],
      "metadata": {
        "id": "nZ4dMhQX_E-q"
      }
    },
    {
      "cell_type": "code",
      "source": [
        "#バージニア州における1940年の1000人あたり田舎と都会の男女別の死亡率\n",
        "VADeaths"
      ],
      "metadata": {
        "id": "Le07QSnqp2BQ"
      },
      "execution_count": null,
      "outputs": []
    },
    {
      "cell_type": "code",
      "source": [
        "barplot(VADeaths,beside=TRUE)"
      ],
      "metadata": {
        "id": "0RBki8MUp6By"
      },
      "execution_count": null,
      "outputs": []
    },
    {
      "cell_type": "code",
      "source": [
        "#例1 詳細表示\n",
        "barplot(VADeaths, beside = TRUE, main = \"Deaths\", legend = rownames(VADeaths))"
      ],
      "metadata": {
        "id": "MCtdAgvUmTeK"
      },
      "execution_count": null,
      "outputs": []
    },
    {
      "cell_type": "code",
      "source": [
        " #例2 一列目のRural Maleデータの棒グラフ\n",
        " barplot(VADeaths[,1], main = \"Death of Rural Male\")"
      ],
      "metadata": {
        "id": "7mnB1ZitmEUM"
      },
      "execution_count": null,
      "outputs": []
    },
    {
      "cell_type": "code",
      "source": [
        " #例3 各列の割合を積み上げ\n",
        " barplot(VADeaths, main = \"Deaths\", legend = rownames(VADeaths))"
      ],
      "metadata": {
        "id": "Y22RjIFHlyyw"
      },
      "execution_count": null,
      "outputs": []
    },
    {
      "cell_type": "markdown",
      "source": [
        "##【3】円グラフ（pie)\n",
        "<font color ='red'>pie</font>は円グラフを描画する命令である。"
      ],
      "metadata": {
        "id": "cpFNmhYYqFhH"
      }
    },
    {
      "cell_type": "code",
      "source": [
        "par(family = \"Liberation Mono\")             #日本語フォントの指定\n",
        "vec1 <- c(42.2,32.3,13.4,12.1)              #非負ベクトル型データ\n",
        "names(vec1) <- c('A','B','C','D')           #names() で要素に名前を付ける ヘッダの追加：ラベル名\n",
        "vec1.col <- c('red','green','blue','white') #色データ\n",
        "pie(vec1,radius=1,col=vec1.col,main='評価')"
      ],
      "metadata": {
        "id": "kQOeExlHqSj9"
      },
      "execution_count": null,
      "outputs": []
    },
    {
      "cell_type": "code",
      "source": [
        "#参考colnames\n",
        "vec0 <- matrix(1:12, nrow = 3, ncol = 4)\n",
        "print(vec0)\n",
        "colnames(vec0) <- c(\"A\",\"B\",\"C\",\"D\")\n",
        "print(vec0)"
      ],
      "metadata": {
        "id": "cQNzK1jiO54W"
      },
      "execution_count": null,
      "outputs": []
    },
    {
      "cell_type": "markdown",
      "source": [
        "##【4】ヒストグラム（hist）\n",
        "ヒストグラムは度数分布を示すグラフの一つで、横軸に階級、縦軸に度数をとり、各階級の度数を長方形の柱で表すものである。Rでは\n",
        "<font color ='red'>hist</font>の命令で描画する。"
      ],
      "metadata": {
        "id": "9HSz9FpRP9Ng"
      }
    },
    {
      "cell_type": "code",
      "source": [
        "nrd = rnorm(1000,0,1) #平均0、標準偏差1である正規分布をなす乱数1000個\n",
        "hist(nrd)"
      ],
      "metadata": {
        "id": "A0bOhK7aGOYJ"
      },
      "execution_count": null,
      "outputs": []
    },
    {
      "cell_type": "code",
      "source": [
        "#もうちょっと細かい設定をしてみよう！\n",
        "par(family = \"Liberation Mono\")    #日本語フォントの指定\n",
        "nrd = rnorm(1000,0,1) #平均0、標準偏差1である正規分布をなす乱数1000個\n",
        "hist(nrd,breaks = 25,xlab = \"正規乱数 NormalRandom\",ylab = \"頻度 Frequency\",main=\"正規分布 NormalDistribution N(0,1)\",col=\"orange\")\n",
        "# breaks = 25の値を変えてみよう！"
      ],
      "metadata": {
        "id": "6FcqA0r9RAzh"
      },
      "execution_count": null,
      "outputs": []
    },
    {
      "cell_type": "markdown",
      "source": [
        "##【5】箱ひげ図（boxplot）\n",
        "箱ひげ図を描くには<font color ='red'>boxplot</font>の命令を用いる。\n",
        "\n",
        "<font color ='red'>四分位数とは</font>\n",
        "https://note.com/toppakou/n/n31ecdd4caedd"
      ],
      "metadata": {
        "id": "_XS6-I3DSpdr"
      }
    },
    {
      "cell_type": "code",
      "source": [
        "par(family = \"Liberation Mono\")    #日本語化\n",
        "vec2 <- c(79,90,80,81,83,60,76,66,91,49,87)\n",
        "range(vec2) #範囲\n",
        "quantile(vec2) #四分位数\n",
        "IQR(vec2) #四分位範囲\n",
        "boxplot(vec2,horizontal = TRUE,main='箱ひげ図')"
      ],
      "metadata": {
        "id": "Zrf1p1MvTDdS"
      },
      "execution_count": null,
      "outputs": []
    },
    {
      "cell_type": "markdown",
      "source": [
        "##【6】グラフィックの保存\n",
        "グラフを右クリックして[名前を付けて画像を保存]をクリック<br>\n",
        "![image.png](data:image/png;base64,iVBORw0KGgoAAAANSUhEUgAAAVoAAAEzCAYAAABwqsvkAAAAAXNSR0IArs4c6QAAAARnQU1BAACxjwv8YQUAAAAJcEhZcwAADsMAAA7DAcdvqGQAAEyySURBVHhe7Z0NXFRV/v8/ijr2IG3p9No2NltZK8kKbBN6gvoptAm2CbQ+VSi1IrUqlUC7PLQJbgHuivpfCUt8aNHcACvACmwL3ApsEyrD0sW0HdcKbXfHthqf+J/vuefO3BmGAZXhye9bD+fhnnvnPpz7ud/zvWfmDGgV4CynqqoK+168E3NuP6lKPDNhMfBGmsp0QMJqIGY8EHGNKvDA4SNAdD6w9bfAYB9V6IErFwLPPgiEXqUKPLB+G1C6HXj5MVXgge+OArc8CWx7Ajh3iCr0QNVHwL7LCzAnYa4qYRjGyEAVMwzDMF6ChZZhGMbL9BmhtdlsePvttzsd3n//fbUmwzBMz9JnhHb79u2Ydtct+FNyx2HFwltw5//9DN9//71am2EYpufoM0JL7+yu/wmw4dcdh+cfAsb8CDh5snMvtxiGYbwJ+2gZhmG8TL8VWhq09uWXX+KLL77oMPz73/9WazEMw3Q9/VJoj58Avj0KFP/mSqx77LIOw6sF97KbgWEYr9GvLdpHf34MqZEdh9gbjqu1GIZhuh720TIMw3gZFlrmjKHew4cffYTy8vJOhbq6OrUmw5wdsNAyZ8yxE0Jot65ERf5dnQrpKYlqTYY5O2ChZbqEGTcDhQ90Lvz4IrUSw5wlsNAyDMN4GRZahmEYL8NCyzAM42VYaBmGYbwMCy3DMIyXYaFlGIbxMiy0DMMwXoaFlmEYxsuw0DIMw3gZFlqGYRgvw0LLMAzjZVhoGYZhvAwLLcMwjJdhoWUYhvEyLLQMwzBehoWWYRjGy7DQnkUMGKASDMN0Kyy0DMMwXoaFlmEYxsuw0DIMw3gZFlqGYRgvw0J7FtHaqhIMw3QrLLQMwzBehoWWYRjGy7DQMgzDeBkWWoZhGC/DQsswDONlWGgZhmG8DAstwzCMl2GhZRiG8TIstAzDMF6GhZZhGMbLsNAyDMN4GRZahmEYL8NCyzAM42VYaBmGYbwMCy3DMIyXYaFlGIbxMiy0DMMwXoaFlmEYxsuw0DIMw3gZFlqGYRgvw0LLMAzjZVhoGYZhvAwLLcMwjJdhoWUYhvEyLLQMwzBehoWWYRjGy7DQMgzDeBkWWoZhGC/DQsswDONlWGgZhmG8DAstwzCMl+lRoa2pqcEfluTij3/oOGzatFGtxTAM07foUaFdunQpfD5MReDXHYdh/3xGrcUwDNO36HHXwbjLgf+7uuMQcKlagWEYpo/BPlqGYRgvw0LLdDt7PvsCv/vd7zoVsrKysG/fPrUmw/RNWGiZbufkd18geuiTnQonGn+H3bt3qzUZpm/CQst0O+cMBq69rHPhRxeplRimD8NCyzAM42VYaBmGYbwMCy3DMIyXYaHtR7S2egidqWMIp1JX/NeCscxDINyVuw2ybisHDh2G3gwLbT+A2pjezqQwGcJJ8YeCXkfPdxTEf7fl7oL3t92KkydPcuBgD+5E1pjubbDQ9nGoWenBLkwYINIDRHqAKDWEAaJMxJ0J9M9deXuBtu+u3F04lW3L7aobiAMHHUqfpDI93Y749hZYaPsoejuimAIJqy52os3JshNCeY+f0MJJkabGd0KkOwx6XRG7Xe4SaNsU3C1zF+gGcVfuLmjbPinSJzhwwPHjx2WgdCtZtxRTYxdI4VWB0OPeAAttH4Taj70JCStVt/qkMAqRFfokYxLfkyS8SoCpnp73GEi0xXaN63sKZDlLge9k6PR+iCAtW3Fsxm4jBw4UpPhSrNIkvATdG7TcKLo9DQttH0MXWT2WliQFEkUZqIzEdgCOUzg5QCzXlpHAUbozQYqhm3J3QRdEd8vcBRJxd+Xugmahs0XLwRGOq0ACSxatDNRGVDvRrVxj6GkGiJ3osr2gg5wzZw6+++47VeKZbdu2oXi2BaFXqQIPrN8GlL0HvPSoKvDAd0eBW54U238COHeIKvRARQNg+RqYO0EVdMCExcAbaSrTAQmrgZjxQMQ1qsADh48A0fnA1t8Cg31UoQG6UnSxZCxCQCpQMFsc65UkSsDxH9wAXD4TQ4YHYPDwa+Fz7sXaigzTDyG9OXbsGI4eFTe8YNCgQRjo4yMezcKCHDhQPM8HtAk9RZdatDabDe+/UYQE/414+IqOw4DvLGpN5lSRT0fxhyzV4zDh2Jgn4PuLd+AbOB9DfzyRRZbp9/gIUR06dCh8fX1lINHVrVvdddBb6HLXwQXnADddAdzciXBOJ6xNxmHBUrPR06IdySe0acTVGDRpOy4IFub7ADdmMMOcJVxwwQVSfKXgipvE6Kc1hp6AfbS9HNd2IX2wFKRfFBgxJkaIbSf8EgxzFmAymaSYSsuWYmXdGukJsWWh7cW0EVnVXkhoadk1192AgJ9naoUMw0jIsj1+/Lg2/EvdND0ttiy0vRRjO6AkiStB7eWkuGz0Nj7y7mnAAL6EDOMOadmK+8YotkaB7U6x5bu0F+IqsjIWCUprw7Q0wQ0YGyTTDMM4QyMQNIEl94Gzf7YnxJaFtg+gtwUpsuI/5clHO+bq67QFDMM4Qb5a+U0xXWzVTdSdVqwRFtpejLFJtBrGAFJboW9jXfCDC1UJwzBGyKLV7hN1F4nY6X4yCG53iC8LbS9Fv/RaYxkgnsxanh7QZNl2Q9tgmD5N60kaU6uNPNDy5KOl+0m7ebrTumWh7UW4XnetUdA3Wgx5GtYlY4ZhPEFC2iosFO0+0u4YupeMeR1viy4LbS/EeMllwxAxBd2SlXmRZhimfXRBJbE1vhAzeOFkvjtgoe0luF5vymu/iqWnVbnMa+UMw7SPszXrEFot6OUOXPNdCQttL8bpySsysrlQA1ExwzDtowmq8Wu4aoGgu61aFtpeCF13Z2tW8x/ItPLR6uNpGWcs5dkoaa5HQW4jbKqMOTuxuwtEWhNTTWyNwtsdIkuw0PYC9GttvOTO1qxWR/fL6nH3YUFJ8kY0qxyEhJGI2VqaUVeSjXlZtWjRFqClJB5xJXruzLFWpWJeVee35xcWiLqqYQgbVoE6qyrsiIZs/GTU6E6EbDSoVSR1eUir0T6kuTgD5Z34MTpreZI4Hnc71ohFTp8VDzqNDVnGMhGyGlV9Z2wNeZhT7LhCDKGJKf3R7h8RG+4yd1att4SXhbZX4mgB8rqra28XXBF3j0Wr3/y3I7k0ExNlWoiNuKmnzV+L8iYb/CanY0VGKMxqDcLX16RSbiBRa0cs2mJDQ20ZKube5CQ2aTUk867CpELgI2g4chT+iekIs5UiTpRdO/EuTIrUwrSEREwZr9VdpKtmUDo+27vHKWzPjUNevXPZZ3vT4fgung111TZMDvEVyXoUP/MC5odq251Q5CJ4BiG/bkGlOJ7r7Xn7PhCzX7R/1vbcUaowDmX2z38Rs1WpE5ZSJGTYkBjrrwoYQlq0UmwNAktpJzHtjvuIhbbXIXWVxNQeaw1BxpQXAivbSbe0j0BkNr6ItRU7tZt/zVKUNWpiEzR7FmLDAuDnRlPNZiE+HhgzaphKKay1SEsotVvFdqzVKG5Zig/sQrMTa2eMQYD8ULFv9nJDKI3DXqHDcrfMMVgnyj7c+gq2VIqwdiH8LQfgn/Iytu/ag8wz+Qaz2LeSEdEIMYmHQfEuTN5Kn78TZXOjkRjhIni6kFcsRGDyy07767QPa+6xC/D4lL2qcB2iVdlPRt2DNarUjk08cBIqEVWQhiAPz7ezErpl1NhZ+iNjLSmCEmAVvA0LbW/EKKKavjqEl/K62HYHvsNg2VAtRLAJJdUm+HvW0E5hNrlsxDcUMwM3oqRJ5SVCwJathd/ccDhqW2BpGo8AD4abzWpD6JhLVc6AEKScWWsRVPgKlsQGiH2woCRLF3chVum14hMdVvL4lHVIDlYCJy1wsWx+NbROv7Bmly1Bi9mEpoKZmJa9GNFjqO5YRD9ThmRl2Tq7UKyoWmNBUnyAyrvhlC1acQwJmUB2AWJ/3C1P3j6FJqJ07yhBVbHr/dUdsND2QvRrL8VUF1TZYEhlVXl3tBDZ5f050jc8gvGjfoHcDQ/hOvIdip7xmhglQiqcil+2bu8BlXIQEBGDqg31QsI0yOeY1pKAeGse5hTUa4LY0oiqgFB4kCq0tOyFv5/RkaFhKclG0+wcxPpRphSLSkyYHHoI5XovX4i/NAiV2DlcBwZxM5ul6Nvq8lBimgh/HBI7HoWZue9oQlj/NPJKlSiKtPF5YGtYjvyGD7DwutG4MjIPDeJArc21KJiVhzr9oE/JohUPoqwkVMWsFFYxm7JukfeKdsNo95K8cVReS3eTzrLQ9jT2a69FAu3Sa+V62tEcqFyzalWBN7H7Lt9BYfpKbJfpIpArcLYUlHeQF6pZXOti24qbe4Qo6MJixH88Ypuqhd0ssDWh+BkTFueFwy8sHYsDKhAXXYiSko3wCw/WBNEtVjTVmtxYvC1oqB6D+MlqH/3CEbSrEpYwIeSudZXYOSzatt11C6KQOXuMSI1CQMAwNKcoH3Lw40jWH0AibffUCms6P3kjTBFp2PLJHvxt9i4sjI7FvCogYnkyQvQDMli08jyL3Q3K0PMUDKJvrUVxXRRSJ9OTg3GHkxWrcCSpV6hn9PtMyxvrdxUstL0Q42XW0xRrgVTWUe5VGgpxrbSkbkJC9kPCqqW0y5v3U8VvFEJU0hl/+AdtRR0prSkA8YXJdp+jOSwLm1NakL8hHDPDPFhvQnxKrJEIa6P5B8Q+ByLAvqovJmfMcrI47XiyaBX+IYEOd4Y5BqvqX0ZhciRC5/4ZH1SkIaOC1nsTSeoDbE3CIp/7ujiGUWguSERaqRVhGSVYlxja1hXTor3A0yxYQ5jl4sP2DUfSAiHYCRVC+Bl3kMiSspJuGgXXWXi75U5ioe1NyGtuuO66IasXyQYjM9oYW68TlIAPheh8siYOowLHIGbZm0JA0uHXfAhmD3rXlkYUpNcq/yahTNqWahSUO+TDf8woNFncDX2yoal6u7DupntwG5BPdxXMs6OcRkBoDIHZeshZqNqjExatgwOoK16LcosvgiKiEWLJQ0HLGNhKS1GetQR1yvY2ifO4JNYXVcmZaI7Ix6qUQPW2zg3qBV7ZbOWbLY3Teg9rY9ocl19EDlbEbMMcIcL/7JYG0bfQRFSzXO0iq+4cPSaMy70FC21vw+ElcILcB3IRGbTUJrzbLuzYmtYixxqOxKA4JPpvxcKiejQ0DvP4QsoVa9ValFw6QrMCzcJybbJoVlhzvcM/KTD7j0KL1VVobWguFlYgFmFJhKv558BSotXJdGvxBiAsvBolxg9zSzsjGTKEMLplCHzFLjVVbBTHMQaTZwSjrsKKiODtqAtdJM6ZYX8t1agKXIiZ/p6fUPq42eg1yjcbs075w7Vxta6Q2K6KqsTclGq2bF3RBVTcM3TvtKul7dxzXQkLbS9FtQ8ndH3V2ks3tA4hsvNqxiN1svYG3DdgFpaE7UURohx+RRdMQnka6hrtb+ctdXmISx6GTPvb9lEIMVeiTliuNRW7EBFisNOC0vGCfFulsDahJHkmFu6dhXVC7Nx+pKwTi3m7PNQRBMSnA+k3YlpBLZpb3Aiu4UWU++Bi2baQhWxGwOTpiI8ahYYNZbD4z0L8KCt8IxYhtn4xipudP8e69wDkR4vjdDu07FAL/KVP9mWkzFipDWvTLVrps3X/oPCLLUC27x8Ql8XfhnPGYc3aLVYVa8KryroBFtpeRhtxddcWRKVuaSNCWFclBhjES3ThayyIT2n/hZRvxEIkHsjGLVKcbkTcGl+kbs2Cw9D0RdjsYBRNvBE5vsnaKAB30NjaWatgjSnAZpcvRNhp3ohpszYCs4var6NjEtbq1teRZCrDwshx6ksPBpxeRLkLLr5aW4t4mBxATUk1rOYoZM4AFgbfhPwj/uIITQhKWQi/Dako0c1MvygkXboRcbde7STg186noXMKYc3bbBaUp290GdYmPq4mQ9SPR9OYEarEiPi8jOeQ2LIWNZ3yj5wd6NasK64C2w0mCwaID+2yW/bbb7/Fndefh62/BQb7qEIPXLkQePZBIPQqVeCB9duAsveAlx5VBR747ihwy5PAtieAc4eoQg9UNIie3dfA3AmqoAMmLAbeSFOZDkhYDcSMByLamRFcP/sUHRJm4D3LB+C1xwEfElPRBORPI4plx44PwAmROH5yAI6eGIiTJwfisoe/lesyDNOWzz//J3wG+WDwoEFyxgUfn0EYPHgQBgwYgIEDBzrFBMXGdFfSpyzabrHieg0uF5qEl0TXIMwMw7QP2ZCOIArst5Se6Fox9QS7DvoAurg60X1thGH6Jr3oHmGhZRjmrKELPaWnBAttL6SH2gLDnHV0l/Cy0DIMw3iZPjXqoHQ78PJjqsADfX3UwaupwKCB2mgDGnVwUiRotMHxEyKI+BilTw7EObH75LoMw7Tlu++/k6MNBg8aLONBg0Xw8cHAgRRohAGNOBDW5kDN3uRRBwzDMH0YFlqGYRgvw0LLMAzjZVhoGYZhvAwLLcMwjJdhoWUYhvEyLLTMKbAHZet3duqn+PZtzkaZYfSZbWcBUjbvVzk37H4eD6zfozLu2bn+cVQfVBmdfZuRvtm58HDlo1i6Q2UUsmynynSSnfk3I+TGToR85w3vWJmHd49Qaj/KcrbCdZfbcgTVGZmoOdL+SMuDlY/jTzsPojLJ/ee7X1NsN2cZdvJvJ/Y4LLRMJ7EJ4clEbkECwuw3+XS80M5Q3ssnhmDHSzuUKO/Bps0j8ciUkTJn5/AWJOnbinsGHxfMsotHUuVhrY6dPdixfyJCLlFZnWEmDB/iPFj6oNDzK1zruSBFNGwy7rs/ToVHkZ40Xfv8pC2gTx+b9Dbq3jWGV5AxNQ2VTmUiJI3VNkrYdqDm6ASMG0bJl/D8S09gijymtufKIeQ/R8bWN5AacYvKC3FUdTQOY0fd1QgfK47zctfPL8RUUUMf9en8cBDbfekvePA2Y5kK6hiZ7oGFlukUByvzUDNxreMGL0tD5H3JiLxcVSCMwhnxBLZumqdEeRZWblmsBIfCHRCGMTB8EvJpW1VPYuLEp1BtF4+3kR85XNumwlb3Eg5H3gqhXx1y9Oj5OP98lWkHKaI15Xh+/ToRViFrirBEj07CyrK/oi5/Epw/vfMcqd0iDmscTLad2Lx7Al6g43mrEPdNug9hxnMl0IV8feLVeGid49jr3l0Ag3QLa38L3g2ZhCtU1hOOh8Nf8dzUO5FVZdyuIZzBMTKnDgst0wFHRJc9E2VHR+Pg5nqtG3xkB/70HPDgQ+OchU8XTg+hpqwQ6ytewf0GJdm9eSvGPRDqQUSFRZx/EFeMNLXtzkctxqbsu2Racw0cxsF9wzFcbIzcBXq9yOx6bPqVSLux5A5X/wYZ++/FppX3Ydwlhp8037kMOTT9jYi17dyFrE2LEam2KT9PLEuvkX4Cac0+V/C1sLD3YP3D85C/TFn/tyXgefuD5lFUGnfgSC02HYzH1HZV9CAqVz6D4SOVLO5zfL4WErBJFLu6Dmw7/4KVF03F8NXGuloITeqMO4PpSlhoGQ8cRHVqHnaHpuHhKVOR/eA3+FNGHrLy9yMyZRLc9s6NVi0F6b88jMokrTtsOvgGKg8axEzUX7n5IDaTCIYrH+zhnSjLyhT1tCr7Nq/Gjh9qn9amO1+Rhqnpr8j0I1K8v4ENF4GcCcMj/2ivV5kejKnPirSrJUfiuHokUhNdHhqKIedr+yrXNboOnv2lLCeGk6qLT91RsAVDQkcCXwOjJ96NjAr9s9PwnH0/jO4TG3auXo2dHy9G+I23476VH4mSI9hX9zySVmpul4OVq1GNn2rVxZ5H5uvb+aV9++S6cPrCqK0OuRlf46GpozHOeL4qViAlZQU25090f+0Yr8FCy3jgEoTnLEL05ZrYHNz5MY4OvxUPZUyBKnLLSCV8uv/QCSd36mFUZ+Xh4LipyCgT9ZeOxPrUOXhg5R5c8dAiRJIa7NuE/IP3IilcX/Ew3q3eI0XIPUewXwhSp7vFe+qxe+rdGOvheAhpDRst2l/9RS3R+QKYuADTRovkyNG4Yth+ZEVpD5vI7MV4UD14IrMdLwRtO4uQtdkkLMy1qH23BNP2PIUHH3wCtQhFlugtmEh0h9wtjp2OZieWqm1o2/mLffsy2C11YQFnPoFqsQ9G4xwHtyCrejiip4xjl0EPwELLdMiR3Vux9KE7MCXzJdRuesyl66p32R3sV115vVvbLocbsOOKFVifMQFDavOQ8lwDLpn6JFYLIR+rq8HlU5H/0FiDtTkclx9djfwOZ7TtHIf378HY0S4v6dzgyaLVGIlxYw17GfkUKtc9hYcmBuO+P72G9QvmYz2tVxYvahI27NlxGPe/sAoPj9wvHjB5qDwSjEee+yPuDxmpjncYbgzXj30sHtEt07I0TPxhMK6etFDzAVOQlvoRvJuzGIcfeBJTaBW7y0OE6MWoXDbDkXcZKcF4FxZapn1sO/Gn++cgZ+tRhGc8ianBbd+4U5fcFY8WrZHhE5EqRHT/+sewaXi86O7eLWxo5xEE7rgkMhGjN78E9wMeTEJwqAPuzJGj4uPcbHrI+efj8GHX2m3p2KI1cHAHyl54AweHXY3QyCAcXPlnHL7iKCorxQNrZYOy6k0Ye386Is+vRVbufoQuehriVHR89OKaLM23IfLBkYieOhybV+4wHKsQ5tT/h/uvUG8Cxy5wXCuDi0UG40gJxuuw0DLtYxqLh9evQvZDkzD2kg5e4xvotEUr2YFKcg2EnEqHVohMzlS4vMRXXCTE+nNykxo4gj1152OkG8fksHGhOLp5m+eXQ0bBMgTNJ+yGIcOE5O1B9eYGHB09EdHjGrD1SCjG7WhASMp9MBi+OFhbi6sTPbti7Byuw9LUN8Q2pmgjEIaHCov5Y2RkbMbujp8Vbtn3QhzSa7TJ4SmdJV/s2bAj5w7k7OiaXgPDQsucCvWub7y1t/mutLVo6SWONmTJ9o0wLV05eBAH6Z4ePgmPuAzr0jl8uJ1Rn202NxyXXLGfNmnnYOUTWD/ylwgxCJydYRPxSPhW3Hd/Nsp2Hmzj+9UsWQ/BxbKV+zl8NMKn/BLhIz/G5sqDGDn1lxj5zfkIS7kTO/I3Y5/Th3yD/V8clp87NsllWJeRg1uRnrEf4VkLcKPhFJmuuA/5Dw3Dptwtnh8Wbk47032w0DKdJ/jJTrkOJLufx5Qb52HHD3V124P1U25GWMZhYR2rIsk4TJvyD+TG3eEkYKGRzzsN2j/69TcqpbMfZfeLutHL8I2LT2DsQ3/UXqQJS3bHyjnIORKPlaJf3p7ReEnkH7E5PQT7n38UkfdvxmeGsVKab9ZDcPHVHv36f0IU61BZ+w2GT1yAKRAPp6jVODJS9Aioh/DQJdic7RDFSyY+gEs2P4opYY5jp3HG6TUuD5ZLJiJ75VQna9iOWJaR1c4oEHEOajLcnyfi8mnrkB3ma09nhNEHmDAu9XWkjuuMmc10Bp5hQcAzLDBM/4NnWGAYhjmLYKFlGIbxMiy0DMMwXoZ9tIK+4qO1/f0cnHjvXKBFnVyfoVrMMEzHkA9WJX1++lMM/dUcDL1rMvtoGQfH3z4XJ17xBQ4OEhnRCCjYbBw4cOhs+P57tKpwfOdOfLNgPr7f1PFI766gQ6Gtev11RP5fEGJ/3nGYcdeNai2mqznRxNYrw3Q1R6urVcq7dCi0+/Z9hl8FNqLono5D/uQP1VpMV9N6UiUYhuk6jh9XCe/SKdfBuSbA95yOwzA2uryGT8D3KsUwTFcxJCJCpbwL+2j7CINv/RaD7jwCXHhClTAMc7oMvOwynPd0DobOmKFKvEuHow5WFT6Dy/cltvvW3Aj9CFJ0PnjUgQGvfDPs2EAcbx2IkXP/I9dlGKYt+z//3P7NMB8fH6dvhvmYhoC/GcZ4xkco78BWDBg8mAMHDu0EobL20GZZN8NCy/RLrHVrkZObgZxyiyphmJ6DhZZpn5ZSxI0ajZ90GOJR0qLWISylWFjcLJO2mkLkNGi/d+qRpkJMKWhSmVOlEYtmlcKxCy2osYxBakoWIqzbwFLL9DQstEz7mGOwbu8efGYMpXGYXepStrcIsWa1jsBSsx1BYf6UQvmaJXgm5nopyFcmV8NJco1CHrUEjXm/sIt3nF25W1AySxd0Y3ARdyfMCPNrRFpWBqp8b4WfKmWYnoKFlulimlDeeCsmC3WzlFfClK2J8bbcaMTPCIX2y6cKXcgblyIqaiU+MIj3OrtymxG71lGuhXeQF6oWt4NvSAIWZ2QhlXaEYXoYFlrGA8KaTN+IZqNVGbMOa2JUWnbXxbL5hUJeNSwlS5Dra4a1KhVxC5ZgfqhW99aUMmHZjtXWy2pUtTWaiisRsiDcWYTPBGsjCpJpvxmmd8BCy3jGNEQTQP+nsZ2sSbvrQFiV5B0gzCOE3SmwlCJ/7xjMgA02v/EIm/2iskBfRF7uO/b0bLmSoqUUORsOoDhaCPB1iZDvrloaUZychJLTcK621BVi2q3xaLjuBnYZML0GFlqmczQ/jvFOFu1NSHYxGa0tfkhMCYdJSLN/gFDhNfdoFuyoe5CccpM9vUbVJ4u5PDkTlpA4LNkmRHjtKBQkxGJK7i4EpOQj9lSUsnkjFkbfiLgNJiRt3YFV9/7UMXVNQ7b6bNfgyc/LMF0HCy3TOTxZtArfoGA4igKRuetNbMyahtCop7Gtfikylr0v1tuJrVHDtEkQW+pRF1CMLXlRMFVlYM6yevjNzsfmvOkIMrxc6xS+gYgvfBdbls9CiOu6QenKmnYNzi/xGMZbsNAynaMTFq0DG5rKC1FcZ4N/WAwizJXIqTLD3LgR5cWZKLCYNGvTHIXFKYFoLohHkXk+VgmB9Wt3CsUOMI9BAIsm00thoWU6gbs3/yKsjdF8s24wm33RXLsW5ZYRiIiJhKm0Ef4xQDnmYInTSIB6lBxIQGYYqyTTf2GhZTyjW7LtBhfL1krjEEwwh0QjcUY4ULEWNQjHTJG0BQhBNa3CohoXx6jlACzkSzDHILNNX97dOFrxmbVqsU7LEbRIf4QDG/3YM8P0AlhoGc/ovtl2g4uv1mYF/WuqqkAzAhGfEoyaqOsxrf5SOQrAL3YRZloWI6dOF8FgxM9oQlrkOCcxvXJ8IRrk8nasaSf/6hhMjqpA3HVGMR6NqxIqhEwzTM/DQst4QIhcRvvuAQ2XOvQlhIxQBETEIMTfF/ANxwohjJ+ujVJ1TPCfmY/UEIcv1i8iCy9s3eEkpJ9uT0CQWt4xJgQlluC9T4xCLIIH1wbDdCcstAzDMF5m4B3Bl8BTyMlKVVUZhmGY02Hg5rlfwFO4bXQnfnmJYRiGaZeBNB+YpzCInQsMwzBnBMsowzCMl2GhZRiG8TIstAzDMF6GhZZhGMbLsNAyDMN4GRZahmEYL8NCyzAM42VYaJm+R0s1ckqaUVeQh4a+8ANd1noU5eYhLbeCpz4/S2GhZdrHOB24x+AyJYylFAuLtd9OtNUUIqfhzL9d2FISj0Xaz3kB5kD4N26HOcwX5XXatp2WnzFWlM9PQtVp7nZDlvP5aKmxICAlGYvDj0AkmbMQFlqmffTpwI3BPpWNMThPCWOp2Y6gMPrtRAvK1yzBMzHXS0G+MrlaSJiBDoT8loKPVUVXzAga04xmM/1geOfmziUhdv8Z+vy9JJB6+fWYX1GJhEA9n61+slHQ3vxjLjP7GjGH+aEhPRtp1cMgksxZCAst08U0obzxVtAkCpbySpiyNTHelhuN+BmhzlOKuxNyFbZmjUEYTfDYDv4z0xFxCr+BaI4tavMZlcmXOn1GUIZeHoiUCmPddMdPNrqbf0w8fDziG4zE7HQsTonimXnPUlhoGQ+0oCR9I5qNsxzY5wwTYVapWCKWzS8U8qphKVmCXF8zrFWpiFuwBPNDtbq3ppQJy3asB+uvEYvslqMFdaWjEBZokjkdi8WiTerYJVjQUB2IsCDnz4C1GmsOzEN8gMqfMVY0FKRCeVKYsxQWWsYzpiGaFeppFlzzCO0Hti2lyN87BjOEHNr8xiNs9ovK6nsRebnv2NOz5UrtY61aguKQWQi9YIAq0WipWIJpE2ORVtzYyZkTLCgXdd2Ks2UbSvwiEeJkYtvQsGwFdjSk4tpRV2NSLq1rRXNNIeJy609d5FvqUTD9NsQ1BiKETdmzGhZapnN0YhZca4sfElPCYRLS7E9d8jX3aBbsqHuQnHKTPb1G1W/DGH/4WhtRUHopFi8IxFBVrBM0Nx+btxZhpmkj4sbPREGdZ7m1NaxF0V6VcaGpvBRBs51dGbaG5VhYPAQR6S/j071vIb4pFVOik1CFiViREnwK8/PuRXFyLG6YtRGmBa/jw8Lp8Lev7G4ONBWyuuxtHtPLYKFlOocni1bhGxQMR1EgMne9iY1Z0xAa9TS21S9FxrL3xXo7sTVqWFvrkCZ1NAvr2TcQqYXJcO3RO/BFQGwOtlQmoKVhrwcrU1izy/Zi5tzAtgLZUoqcvF1objYKtQ1NdYeQuLUEqT/9DAUJmSix3orMsiIkhokHgKrVOXyFiBfgvcp8xIe4OpLbmwNNhIzOT97D9C1YaJnO0QmL1oEQrfJCFNfZ4B8WgwhzJXKqzDA3bhRd+UwUWExtxM/WVIsaYQV3+v2WORSZie1bmc3Fj6M8apHTaAgNC0qSyxBR/SJC1ggxtQ+3onnHchDrW43kjL2IWF6AVKF77eq9R0YgIOAU3tQx/R4WWqYTtGOFeZj80Gz2RXPtWpRbRiAiJhKm0kb4xwDlmIMlNCTBCWF9PrMNiVGBKn9mWEriMX/vQqyKdf2cFtSkPyQEOAcz/QMQnz0GRenOM+VaqrYiMHmaoavPMGcOCy3jGd2SbTe4WLbkAhB2oDkkGokzwoGKtahBOGaKpC0gAZmmVVhUY5A2ayOKpt+FAn/RzT7DN/02S6P0jaZZ52NDhovLwNqE4oR7URy8EuuUAJuC5iPVLxOLnL6ZYEWzpUW6JIIyDMO6dNyNoxVWvjOHxGlwcWrYbB7cHEx/h4WW8Yzum203uPhqbVYhVVY0VVWgGYGITwlGTdT1mFZ/qRxD6he7CDMti5FTp8lOS1Uh6qL+jM2uwniKmHzNqCuth9/cIqyLD8QFqlxia0JR8jqYFryIVU7WtAlhc9PEw8Th6/WbPA9+G3+FW64yiuk4zKtSDwd342gpiP3XCYiKRPmscYb1RRiTiHLP7+6YfsyA1mK0qrRbElYDMeOBiGtUgQcOHwGi84GtvwUG+6hCD1y5EHj2QSD0KlXggfXbgNLtwMuPqQIPfHcUuOVJYNsTwLlDVKEHKhpEl/FrYO4EVdABExYDb4j7szN0dP5a1dmn6JAwrO5ZPgCvptJcbQNk2cnWASIAx08OwPETIoj4GKVPDsTlD38r12UYpi379u/HoEGDMHjQYBkPGiyCjw8GDqQwAAMGDBRBWJsDNXtzgMhQ0NNdCVu0DMMwXoaFlmEYxsuw0DIMw3gZFlqGYRgvw0LLMAzjZVhoGYZhvAwLLcMwjJdhoWUYhvEyLLQMwzBehoWWYRjGy7DQMgzDeBkWWoZhGC/DQsswXsAxdXkHwWWiyrrcDNTIX21sRnF6Bey/S94uVpTPT0LVf9v5bShLBRaVO2/FWp6EeU4/DdkejVgkJ+BkzhQWWqZDrE2lSIu+EdeOF2HUOExIKERDZ+7T04REatEpTZ9lnEHXy7SUIk4I5LUT78KkSC1MS0jElPGacC7aoQmePnW5I7yDvNlufnLS8POKsNWjyhYlJ4y01W1EwYZHcKsU5DtQ5DKbhUPIr8f8ikokBF2h8i7nwWQTGzP8AKW1GjmNkYhtXGyYXUKhjs3+EKD53Wpdf484HiWsvKcMCy3jEVtDNqanH0Ls2nfx4XYR9u7ACzNGwHq2/oq1OQbrhEB+uPUVbKkUYe1C+FsOwD/lZWzftQeZ407/5/WsVZvF5oOFNjaiuCkKb5AQ73oRc2PmIMJlfjZdyCuTr0NKhUG49+o/Vq4mgQx+HGtoYkyynMV2c+Y3IjYlHGEp8+C7LAkFxiemOjbHtl7E7FDXh0ORm+mBmI5goWXaR1hYi2bZkLJhDoIMsxOaw2IQxjebJlyz1iKo8BUsiQ2A2WRBSZbqaosHVFqNeBrZZ2S4CclrHNahtNjFMnsXXpzr/LyvxDaaUDB9JrKy78FVVHfMPXim9HFl2bpYk8I6LTowv52ZKbTphz54JhKXJr+Mz2a3YGHCWjRbVyF6DG3rdiSUmmBqysSU9Fr7PjssVwruLFq178wpwULLtE9TNTbERiF0qAcrzdaMkvRYrRs98Q7EFdQ7fHoelzWhaNYdmEDLpmejuCAece76pLKe3k2PR1HTqZjSFlTpnx8Zi7Qq1VemLrIQyPIi0eWPvAM3RKZCX2RrWouEcG12hGvnVzv21w2Wkmw0zc6BnBnHUopFJSZMDj2EctXNN/lqXXb7rMG666A0TpYTNLea+FTU5ZbBFD6KDFEERE1HXr1mQW7PfRplyprcniuW27GhYdkKNDSk4tpRV2NSboMosaK5phBxufVqxghRp7YaptJK1CEQqWvzsapM+3xtn3IQPzMfmzOC7XO/hea+Iz+LwicbFiKjdKdI78Qn9n24VdVkTgUWWqZdWpr3YtSlI1RO5KtSpWhNuE63aqyoSn4ITVFFWjdadKeTDmViTjGplr5sdTvLHoFl7it4g5ZtnAVT/TbaoAtUbwl8s1U3vXI+WubnddoX21SQhLqoYrVuAUJKMx0WYV0tbBEF2Fz5Ov6WMgQL19BLqRaU51YjtIimRd+DD5eHe5iVtwUN1WMQP1nV8AtH0K5KWMISEO/SzbfPGqxbtG3mGBPnJCoN8WNE0j8AAb57kRysWY/jUx5HtLIkx6fs1aoLbA3LsbB4CCIyXsGne99C/K7fYEp0EqowEStS1OzAwuJuQjQSZ/uhvM6GZt2va5/JmEI2dgxRPlxzsHRRNBUXoqahFGm1wZgZZBIPlEzk1GmWt29ANNrMoM50CAst0y6+5kux98AhlRP3YUSOFK0lsapA3Mg1DdGIpbc3EhOCZsyCrboRLfqyYH32LsMy7EKdXE9/SeOHsCg3lhJto2oXihJ0izYTNaYjaPFkZtppRkPFXtRk3aPWfQAFlkOwKssVIZEIU9OHmQICEdTcLPbLjIDQI9iQvQ41zR297TsgBD8QAfb3TL6YnDELLhor8WTRavgjxOCbMccWYHvFSqSIczJ3w/uoTE9DJa1XO19t34amukNI3FqCVP+9KEgQD5D/3oLMsiIkhvmLPdGwVlXDl2YWFuIY60fHE6dZxxviMFffp1DA3l8RD4uZQeIczJwO37qtwJhhQmQzUO6XhswQG6qyMlDjG4UI47RrTKdgoWXaxRQUjHBxszZ+rwrc4evrPKmiaYgoMmll7S2zWtHisqz9OWKjsVhapHrIQUSnLapAJK01rvsK4ttMa+tMQPwrKMsIRMuGeNyQ4DwVuTNDYLYe8rDcQccWrQFLPYqLKmDxDURETDAsuYVoCbChpKQCi3Lr6XklEA+txBzE+lZjYfpeRCwvQKo4LqdzLR40JY2BmCyVWdQPCRB/12nW8Yx1eEbfp1ptvjrCKqzYnNw8EQpRdWQUbM/8HNNKj8IiegLz5i8W1rIfGnJT245WYDqEhZZpH2G9JM3ejvSMCjQbdNCmp02BCPNfi2LVrZSWVnkZzFHB8NWX1f+37TLfMQgxiWUNakO2JpSXOo8nlYhthIRVim5vR9alO/wRFLUXJbrz9RQw+QUiNmMR4pu3eRjGFoCw8GqUqNl826WdWXMz2xN80zBhke5C+YZ62AIiMTOkHuXWiQipr0dYdoLTS0lL1VYEpUyHv7PCKvwxMyVcWrdNzdrjQBup8BqyY6IRI6zrbXJf0qEPlPANikLi3AQkpcxH/IwErKh8EZNN45GUl4/MBfOQmZGA1OVpiDDsA9M5WGgZjwTEv4jloY3IiRyHayfegWuvuwP51jRlKfkiIm8p/Nbcq7rn9yDflIYl8k5Uy9be72aZH2YuXwhb1l2YEBmLKekfICA8mDboguiOZ+fA/Mw92kuz6JmYU+wyoNROGRbKz9FC0Y5Wse+rMXlXEibIMa8zMS23Fp4luwVV88dhFFl912XCkjLPo6gExKcD6TdiWkEtmlvaCq7DD9pOcLFsW1oOA+YATJ45C5NHNaK45AD8Z8+Cv1Wcy+wY1GVtdHrgkQ+72dIi+wJBGfqwLgcmk4sCW5tQkrwKpgU5WDLXjKL5eahzMslN4oxbUJ6e2mZqdLNpF3LmF6LOIuqw0J4yPN24gKcb73maCm5DSchb7Vt6vZYW1BUtRs4z1QjI24HsMJPm82zIxiKkez4elzoNWQ+gOSpONMYRCIkIgLXoNkTmmTC39BWkBgnRbKnFoqwWxC+PEY8qAY3ImP84Cmp24ZBo8xrDEPXM61ih+1eaCjGvKRJJtiVYtOtWpKbEIMAulNq+5x+ajnX0As1mQVX5AQRMDoaf1Gj6ZlgzEtfGqJeCLWgo3wszLZf53k1vmm6chVbAQtvDtFRg3sR6zNyeBfv7MYY5Q3qT0LLrgOkZWuqFNTZTdOnvwISEeoSVpbPIMv0WFlqmZzAHiy4wjXF9HW+UZSHW/RsdhukXsNAyDMN4GRZahmEYL8NCyzAM42VYaBmGYbwMCy3DMIyXYaFlGIbxMiy0DMMwXoaFlmEYxsvwV3AFffkruHua98v1GYZxMNp/JP/WgQ4LLf/WAcN4C/6tA4ZhGC+zY8cOvP/++3jvvfewfft21NfXo66uDrt371Y1ug8WWoZh+iUb8mbi+ad+iXWLo7Fm0V1Y/cQkPJtxB5Ienq1qdB8stAzD9EuWzATy7wf+3yygIB5Y9SCweg4wcrhHb6lXYKFlGIbxMgO/+A/gKXx7FPj3/9wvcw1fWYGjx90vcxeOnwC+/sb9Mtfw3++A74+5X+YavvwvcExsm2J3y10DHZ9VbN/dMnfhVI7xdM4f7bdr+IqCWN6iwqEj6goyDOMWukf0+4XuHbqH6F4ibehuBjz9+yyPdvR3tqMY0NqKoUM7/r1Q2lDLoa9x8YiLtIIOaDn8b1zgOwxDBg9SJe1z9NhxWK1HMGL4harEM1+dwn58/72NXjNiqKkTQxQE//7vEVx4wTCV80xH569VH3YgOCnSh8Q5MYtj1Ipb7fEJkWg9cRInT7aKeidF+UlkL36aFjIM44b0tMfFbT0QAynQKAOfgfAR9/kPf3QZ7r13plxGgwu6Z3iX8U5nuh399FOsp0+eJCGlMiWsJ08I618E8bA5fvw4jh0/JuPLR46U9RmGaQsP72IYhjmLYKFlGIbxMiy0DMMwXoaFlmEYxsuw0DIdYENDbh4abCoraULB9ELxty0NWaPxk1EqZDViR9YVjrw9xKOkRa3AMGcBPOqgh+kLow4asrKBjHQEqXxTQSoagsajodYfi1MC0bmJwhuxaFYzEtfGwKxKGMab8KgDpm/QkC0t0Og16xCtrFBLeRIKzPMwMyQGi6PqsTC5AhZVXa/vCNnYwY9xhmGLtqfp/RZtEwpCV8CvIh/+xYko2AVUVWzDUbU0eO4iBNRVwz+vADP9Pdm2bNEy3QtbtEzfofkDVJt2oaS8GebYfKxYXoRP976DvNlPY/vePXghZToyywoQq0TW6KONEyZwa0sp4rIa5TLUPo7xytJt0EoY5qyAhZbxiKXOijGzEhBxoAzN1mrESaG8CclrdNEkQbXa/bRBGXvwmRBgCutizXCyC0I1cf5sr8PfyzBnAyy0jAeaUH4gEBGmIQiLCYfJBvjnviOE8k1h0S7VRLM0TtXVaGPRqnKGOZthoWXaxVpTBkQFw1ekTf7BCDIDzSk3CRG9XVi0j2gWbcw6rbKdOJSRANc/DX+R61pPF8P0TQaYzeY+YXQcO3YM3333HXx96bbvn9DLMKvVigsuuEDkyDFPpSqmP+JKSSe9+E8O/AMW+/t+72CzwWYyoclleJetJgNpFSaYZyQjNcj5BZh9KFhLKRbVhCIzrBZxz/hjXQb4ZRjTrVzq5ydfLNN9I180030kXzrTUi3W33npL6Jd+f777/HCCy9g0qRJquT0GPCf//zH/Sf0Mt555x2sWLECGzduVCX9A/0CU/y///0PU6dORUlJCQYNGkylbUYdnBCxPurgmrFj5brexjiOtqUuD4tqw7EkZQwsxZkoMMUhMzZAWr0EuQ6i12jp0Nx3sFYI7SwWWqYH+GjnTvuoAx8fnzajDkh5SWg9jTpYt24drrrqKkRERMj86dJnhnfV1tbiD3/4A15++WVV0j9wFdqoqCi8+uqrUmh7x/AuK6oWLIc5PRTlyRthnrsIiSEOqbQ2VSB/WSWCMgow2c9o0VajqMEGS+KjWOOmiZEI08syhvEWXTG869lnn8VIcZ+x0PZxer/QMkzfpDcJLb8MYxiG8TIstAzDMF6GhbYPoXdnGIY5NXr63ukzQksnSvel9FfoGDvbIPqEY51hepCuuEdIc7pCpPvMy7Bvv/0WBw4cwOjRo1VJ/8D4MozG/H366afqGAc4vQw7IZYZX4Ydo5dhl10m12UYpi37Pv8cg11ehvkI4TyVl2H/+c9/ZFob23768K939TBGodXT7n69yyG0msjSKIQfXnwxTKbO/Rosw5xN2Gw2fPHVV3KUAYktjeI5HaHtKthH24ewNwSKRf7b777TFjAM4wTdG1Iq1T3T1cJ5qrDQ9kI6ahR6w7F9/70qYRjGCN0bnRHYjpZ3FSy0fQBjg5FpmaLu0VG7u4FhGA1yvX3/vTbJHd0rTveOSnc3LLR9CL2haEG7dP/6179kzDCMxoED/7LfI8Z7pidhoe216JaqikVEbYUaDDnvB1LjEfHRY8fkL34xDAMcOXIEx08cl/cG3SP68Cy6dxzjvVzurW6AhbYXY3wK25/KKpZBlbe0HJJD3xjmbIbuga++anG6NyiIP460wpjuDnh4Vw+jn36KZdAy0s9EUKwFxzCvE8dFrH4ukWJaRuNrqe2ce845OEeE8847H0OG0E8tMkz/5OjRY/jf/76Rvxn7v2+/pdtGjpeloVv0s4jGn0fUrFttWJfsEYpAyJhEWKSNYtzVQsxC28O0J7SUPkkxiSylT9DYWiGydqHVxtLqontC1qFxtiS82jq0DVomLrLcrv0zRJDNSPwRSYbpdUidE22TmqcugDJQsYhJQCmvuwcGDRIi6jMIPmqZj8jTGFofKhNpGj9LPtuBPg63m4xFEH9YaPs7+unXBVDLammj0FJMIqsJrrBghaiSoJLQSsGlvFimCa4mtvo6VF82UMPnGHHNM0xP4ipyugDqbZjSUjhJLCmQoIoyElESVimwJLxi2SCRp/pymb6O3B6tqwsrxY7PIfS4q+izQvvuu+/io48+wpw5c1RJ30Q//UePHsVLL72E3bv3YPjwi/CLX/wCZvPFYrnDbaBbtsY0Wawkuq3kPpACS6KrWb+0niMWnyMC/aOGZbzs3d0E6Pd2zWYzfvazn6mS/sPXX38tfzv5m2++wSWXXIJbbrml3317jx7if//73/GPf/xDCtKVV16JwMBArRveBRhFTkuToSCVUOb1b3XpsQ9ZqQM1C3aAKCNxJavWLq4GS9b1W2G0PT3t+DxHTMf65z//Wd4j9913n1j39I6xTwktHfSePXvkgW/YsAEXXnihvOB9GTr9FB566CE5Xc+UKdHiIfKO9Llu2fKqbABGwdT9tCSs0qIl0SXBpbQSXBLhE2J9urBUR6ysWcUqELIZiT9aXmtU3oTme/v444/ltaP47rvvxsMPP6yW9g/oXCckJGDIkCG4/vrr8eabb2Lo0KEoLCw87Ru0t0HtpaCgAFVVVYiMjJQPltdeew3Z2dm4+eabVa0zRQgrNXzRNHVx0gRRCCWVU0wCKsp9yCdLy4R4SjeBKNcFlkRVlqu0q0DTprTrQnn5MSLWEnq8e/du3HTTTbj22mvlMZMP+HToU0JLTm+aZYHm8Pnxj38sxamvCy1BljlZPvX19fIHZeiGDQ8PR3JyMiZOnCgbt27BSj+tjIWYKpHV07pVq7sbxAKtXCbpMpPQ6mkNY9qbfPDBB9i+fTuCg4NRUVGBYcOGYd68eWpp/6C5uRmbNm3C448/Lm9gsvgeeOABrF+/Xv5Kf3+AelDUIxkzZgz8/WmeY2DRokW47LLLMGvWLJnvCnShIzSRlSl72kcIJyU0kSUXgS6qyncrxVZLk8VrtGq1bSixFrHjMxxp4quvvpL3Hz1A6MeezhqhNfLJJ5/g3nvv7RdC+5e//AULFixAU1OT7HbeKJ6gi4WFQDP/Ls3P14RTt2rF5ZLuA0q7iKweS+tVrEMXVrdoKU117ZebYtGeeuLyP/XUUzj33HPlMfdntm3bht///vdSfPvb7M1k9NC9Rxbf3/72N2RmZuLyyy9XS88cKXbUNF2EUOZErFu0dp+rLrIuYjvQSWBFTNasvo4ItC25HT2v0sTChQulUUe9sc2bN5+R0PbK/syOHTuQmpoqAz0t6ScS+zM0yJp8ShRTl/rTTz6VFt+XX35Jz3B7I5BB5kVjEP+o0YhINiZqYFqsGpGK5dOcGqVIU57WkYEsANnwqEvVvUHufQ99dneFTz/dLR4oT2PZsuX4wQ8udFunLwf6+vfbb7+D1157Xdyf34kHyQVu651u0CxQSqv2Sm1atWvpk1VpR+y4B+Q9IdLyn7pXXO8hO+3YGW+88Yb8iUTqkXQFvVJoSXRoLCgF8nH1d8477zzZJaPfvCS/3tixY+XLFHphpLcEajD0h2JdOCnjLLKqQYpYe8NK9TV/lWycFOwNWasj/VdyO90X5KGI4G5ZXw/UUyh/5RXk5uTgd088gTHCInJXry8HunbDL7oIab/9LUpefBG3hYXh/61Y4bbu6QS9XVIbtYuvaLvUhrVyrW3LtKHNO4sttX0qp/qOe0dD8wEbg5F9+/bJ3tb8+fOl8UPWO70zofTpwq6DXgBZ8BMmTMD7778vu1/U3b/zzjsxd+5c3HXXXXZ/q/MoAi0mF4LmLnAT05Wl9fQ0IRL2S67aV3c3Aeql0MPlscceUyX9h+eff16+qF23bh0uvvhiVdp/ILGJjY3F8uXL5WgD4q9//SuKiorki86uwC58ejOlvCqjyCGkrr0551hatS4xrSSFmVamWG3fKLbkIpgxY4bKaW4ScuORIUR+W2PdztKnhJaeKm+99Za82PR1u/z8fOTl5cll1OU+nRPQGyBr9sEHH5QXkYZ1vffee9iz5x+iW/aqtO7pCpGw0qXS/a9GsaUW6Sq61EhJsEUtub72h4opr6UJQ9Kr0LHRCzGCfJY05Imu2YgRIxAUFCTL+zr0sm/hwsfw8MO/xkXC4tOh46Pj7A9QWyV/LL3AnTp1qpwinx4s9GL6l7/8pap15hhvZSmEulVAaZGkvBwxINKu4kqFTiIr6uniKq1hWp/+0FZUWtcOiulHw8ltoLN69Wps2bJFvkv50Y9+pEpPjT436uDRRx+FxWJRJQ7KyspO21HdG6CLu0J0v+rq6uQb6qSkJHlR6fJIgbULKomnSJHY0jIlutqytiIr/6ttyDzVFGlqZCqjxV6GrHUa5uTKNddcg1//+tf2ht6XKS0txeuvv65yDuj4aHhQf4HElkSHhiPSA/P222/Hz3/+c2kUdBn29qCGegmEHMq0zMv/bcVWKxN/dXEl14FYV9bTl+nboJJ2YiM0SobG7VNP7HSPsc+6DvobxssgRVEGmXPkKUcCKhKuFi6VaSKrCa6sLetpaX0b1BDlVmkFA655hukJXIVOz1MbprQM9I/K5X9NPEWBJraUdGfBKsHVtyHXlKvpeQ1juithoe1F6JfCXawFSmsCa0wbLVq5TPyT/1WaYvFH1HF8I0yPZetT2MsYpgdwEjm9eaoyLRaFIqa0/Edl8r+WloIr0g6rVYlsmzTV09LuYm/AQtuLMF4KSmt5uvhaWgu0zCC29E+3co1pWi7+ybX1PCVUW5JphunlSPFTTZXSlKWYikTOUSYtVjdpudxVZCk4LGQdY7qrYaHtZeiXwxhrSee8Q2xJTuUClaeasoIjT39UG5JpLaHFHvFew2MYaqkdosTPLoLUlKVAqjJKG0RVy+t1KDhEVsNQl3Iusbdgoe1lGC+HnqZYpox5kWwjqC55WZf+iQw1I4p1DEmG6bUY9Y/EkJotxZqcasulSKqydvOqMqX0vL1cYEx7AxbaXoizIGpCKdNagZZW5VrWWKbFskXJvL5MRhL7cobp7VBTdRJEPRYJCmq5ltXrOfL2MkrLSMs76jqnvQULbS/EeEkcQqnHss3IvLFM5LSEzDvKZUzLZELFBvS6DNObcCt+ukgqK0Gv4iymJK56ltL0ArhtXeP2jWlvwULbSzFelrZpahhGoTXG1L0ScZt1HDi2wTC9He2llRGnvEjTP2M959h5GdFe2puw0PZi3AukMaaG4lzPuY4azqXaEkXGugzTVyBBtLdcatJSINuKKyHryjqOvDHWcc17ExbaXo7r5THm9bSMRJuhZuNuuY5rXluDYXorzu3Vk1BSWtYWf/Ri1+VGXPPehoW2D+DuEhnLHGmHBas3o85e3s7WYxhv0lkB1OvJVktNXua1NmzchrvtdfYzuhIW2j6Eu0vlWuacV42RylTb6v4mxjBnjr1VU1O2C6WjrbuKZ28RWB0W2j6Iu0vW3mXky8v0R9oTzd4msDostH2Yji4dX1qmP9ORgPYGgdVhoe0n8GVkmN4lrkZYaPsxfGmZ/kxvFVV3sNAyDMN4GfrZcYZhGMaLnDVCS1PF0NQbpwNNC9PY2Ci74hTT/Feu0PQeBM0t9I9//EPOBU/rHT16FC+99BJ34xnmLKbPuQ5IMGmWys5w2223YdiwYTJ96NAhzJs3Dxs3bpR5muPoyy+/lGni3//+N6ZPn46nnnpKTjdMM9N++umn+PDDD/H555/j/PPPl3MGZWRkYM6cOXImUCO0Hs0LRdunmWtpwrr4+HiEhIQgMjJSTrjIMMzZSZ+zaGkmXJpi3Bho8jSahbO+vt6pnKzK9hg6dCjefvtte3jyySfVEsiZPWkiyMmTJ8vZdl977TVpqQYHB6sabbnnnnvw8ssvSyu2paUFV199tRTYnTt3IjAwUNXq+6Snp+PSSy+VgR5EPQHNgkwPMHoAMkxfoF+8DKNprElo33zzTQwZMkSVOkhOTsaePXuklXrjjTfKaZGfe+45p6mDm5ub5TKyTI2Eh4ejurpa5YCIiIg2Fi2Jf0JCgrS2N2/ejMsvv1yKMs17v3fvXrl/ZrNZxr6+vti2bRsuvPBCtbZ7iouLpZVNx0UzeO7fv18+EIzzzfcEtB/UE3jggQfwwgsvyAeKDu0znWdi8ODBGDVqFCZNmiTnw+9K/vvf/8qH1xtvvCE/g2F6O33SR0vPBhIh3S/aEXl5eVJYb775ZmzatAkxMTFymmSar10PJJQEbfMXv/iFFEIKb731lj19xx13SJ+rKzTNeUFBgZwmnCxasqTJNUFitHbtWjnddHl5Ofz9/aVF2JHIEiRa5KbQhYusN3JH6NB+Hj58GAcPHpRuERJ7HRJ8EkO9zr/+9S95voivv/5aWoRffPGFtNxp/nq9LkHnloSMtku+aNqWETrG8ePH47zzzlMlDmifydVyzjnnyM+jB5x+Xoljx47JbdK2aTmdKx3aD31/aN9oudEGoPNO+0nBdZ8IWpeW0brffPONKu34eBmmO+iTQks3zE033SRfOnUE3VD0Eox8pCRIlCbLkm5W8qXqYcmSJbI+zdtOokyCQYG6qHr6+eefl5aaKySs999/v7yB77zzTjzxxBPSuibL97LLLpOWNNX55JNPpJXbWaZMmSLnz3cHuTruvvtu/P73v5fW9W9+8xu1BPjoo48wZswYZGZmym08/vjjdpGePXs24uLisHTpUnncJPxRUVFYt26dXE5uEjpmWpceEGTBkzh1Fqqfmpoqzycd99atW9USyM8lv3V2drb0n9PDRyclJUWer6effhpr1qzBDTfcgNdff10thXxokTVPPQ7axrfffquWAA0NDbj11lulsNN5oAcquZGIjo6XYboFch30NaxWa6voirfu3LlT5hsbG1uFFdV61VVXtQqBkWHhwoVymbghWydPntwqBKD1xz/+sUzPmzevVdxsrU1NTfYgrN5WIUhyHSMTJ05UKY3w8PDWF198UeU0hJi3Pvvss61CTOV23333XVk+ffr0VtHdbxWWcOvu3btbR4wY0SqsK7msI4Rgt27ZsqX1mmuuaRUPiNba2trWyMhIuez9999vvfTSS2U5Iay2Vj8/v9a///3vMi8s2NaBAwe2CiFuFZagLNOJjo5uFQ8FmR4+fLjcHyE+cl+Jl19+uXX9+vWtwtpsFQLbevHFF7eWlpbKZUaCg4Pt51+H9llY9jItHmStlZWVrVdffbXM07bEw6FVPCTl+RI9hdbbb79dLiOE5ds6duxYeQ4JIazyOhFCNFuFJS23QQgBbx0yZEhrc3OzzN97772tDz/8sNxnYv78+a0zZ86U6Y6Ol2G6g34zvIve+JMPc/v27TJkZWXJcurGvvLKK7ILT35TSi9fvlwuI/+pHoxDtqjbqr/wIX+qniZrzx3Ubb/uuusgBElaxBTIgn7kkUdw/fXXQzwYpMtC3PRuu9ztQf7cn/3sZ3ZrW4d8k+SGoOUEjYj4yU9+It0cBB0z+XXJInVngY8ePVrGP/zhD+W6NDJDtxDJT03nkbZPVjG5HnS3Q2cg65nOFbkYaBTHH/7wB1lOflqyUoW4Qjzw5MtD6gEYIXcLvaQkaB+py0/Qi03xIJHHRZAPXDwAZJqgIXeJiYn2bwqR9UtWvY6n42WY7qDfCC2JG91EetBvWB26WcllkJubK90JdKNPmzZNvuiiLicJ04QJE2Rd8h0K60d2bWk96sLSzUojEYxQPfGwkjetsHLxq1/9Sr6cKSwshLCoZJeWfMEkICTujz322Cl9bZDqknDRiAdddAhye9Dx6tuimPJG/zEJbHu+YPIpE3TMhHGfqPtOrhl6IAnLXJ6HU4G66vRQo8+m7jn5tQk6z3R+yO9MQk4vDencGdGF1BU6XtpX4/Ea95l8v+eee67Kadsx+qw9HS/DdAf9Rmg9QTc0+ShJAMln+Le//U2KKt2c5E+96qqrpF+R/Hz6zU83a0BAAER3VgbdejSya9cuKUy0THTxpZVFwkhWLFmTtIy2R2JFwqeP6T0VrrjiCumPrqmpUSWwW5r6SyGKKU/lRnRhORVoONrixYvlMdM+k4idCuSDppEaf/zjH6XfmobHESSudJ7Jh00WaVNTkyzvDGQBU69A3xd62WW0smm58csolCYLmGF6C2eF0JJVSi4A6t7/6U9/kpYpWVs0+uAHP/iBqgWsWLFCuhE8YbSGaLwsvUGnMrqx6UUOjVigrj65CQga40sC/+CDD8phZSQYpwq9/CkqKlI5yCFTJN70YufVV1/Fb3/7Wzl8jCznM4XEkLr75Pqg46CHx8cffywtanr5SMdDgV6Q1dbWyjT1FFwhF8HEiRPlvhH0go1GUNTV1clRHmTt0zboBaGrZesKvWCj80ZfGKEHJp1Lo0tk1qxZ8iUYLaMXlmlpafIFGMP0Fvqc0NJNRL7WESNGyO4/WZ3kCyQLh8ZWUl4P9CabuvfUXSURveiii+R6JBzkzyQhIZGkG50Ei6wuWk5QHbIkyTqlQKJCkO+RusHkViC/K/lQCRpVQHXIuqVRACR65DcktwSNYiBLl3yEU6dOdTtEzBU6Rtpfgo6L3pjTsCqCrG36bH2IGrlKKK+7S0iESIzdWeG0vz/96U9lOiwsTMbkjyX/KUEiS64Q3f1BwkVW6WeffSZHEaxatUoGsrTpnFH6r3/9q1yX9pnOD0H7tn79enms//znP+X5oOuwbNkyaZHm5+dLNwONMKBuPvnYjSMyaB/pwUjQcdCXQWiYGn1WTk6OdPvox0v7uXLlSrk/9K3BZ5991j7euKPjZZjuoE9+Bbez3VnyzdENT1aT3q0m0aCuJQmR/mKKlpPI0lAs6vaSONDwoHHjxtm73yQWZN2RiNGQK7KwyKokq5iEjwSDrLhLLrlE1qGhZGS90TAmXfBov0mMqd7pdOsZhumb8M8kMgzDeBk2qxiGYbwMCy3DMIyXYaFlGIbxMiy0DMMwXoaFlmEYxsuw0DIMw3gZFlqGYRgvw0LLMAzjZVhoGYZhvAwLLcMwjFcB/j+BPbq681uFRgAAAABJRU5ErkJggg==)"
      ],
      "metadata": {
        "id": "DjywlK-haOnC"
      }
    }
  ]
}