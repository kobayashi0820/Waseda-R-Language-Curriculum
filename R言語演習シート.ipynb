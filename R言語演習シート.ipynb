{
  "nbformat": 4,
  "nbformat_minor": 0,
  "metadata": {
    "colab": {
      "provenance": [],
      "collapsed_sections": [],
      "include_colab_link": true
    },
    "kernelspec": {
      "name": "ir",
      "display_name": "R"
    },
    "language_info": {
      "name": "python"
    },
    "gpuClass": "standard"
  },
  "cells": [
    {
      "cell_type": "markdown",
      "metadata": {
        "id": "view-in-github",
        "colab_type": "text"
      },
      "source": [
        "<a href=\"https://colab.research.google.com/github/moshimoshipandasan/waseda/blob/main/R%E8%A8%80%E8%AA%9E%E6%BC%94%E7%BF%92%E3%82%B7%E3%83%BC%E3%83%88.ipynb\" target=\"_parent\"><img src=\"https://colab.research.google.com/assets/colab-badge.svg\" alt=\"Open In Colab\"/></a>"
      ]
    },
    {
      "cell_type": "markdown",
      "source": [
        "#R言語演習シート"
      ],
      "metadata": {
        "id": "APj2-l1v2yXJ"
      }
    },
    {
      "cell_type": "markdown",
      "source": [
        "GoogleコラボラトリでR言語を動かすには、Googleアカウントが必要です。<br>\n",
        "必ず[Googleアカウントを取得](https://support.google.com/accounts/answer/27441?hl=ja)してから学習を始めましょう。<br>"
      ],
      "metadata": {
        "id": "RzS6SC9rFHm3"
      }
    },
    {
      "cell_type": "code",
      "source": [
        "# 演習\n"
      ],
      "metadata": {
        "id": "DBga6hPAK1mn"
      },
      "execution_count": null,
      "outputs": []
    }
  ]
}