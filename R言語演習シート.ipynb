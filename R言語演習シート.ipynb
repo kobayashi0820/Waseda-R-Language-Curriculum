{
  "nbformat": 4,
  "nbformat_minor": 0,
  "metadata": {
    "colab": {
      "provenance": [],
      "include_colab_link": true
    },
    "kernelspec": {
      "name": "ir",
      "display_name": "R"
    },
    "language_info": {
      "name": "python"
    },
    "gpuClass": "standard"
  },
  "cells": [
    {
      "cell_type": "markdown",
      "metadata": {
        "id": "view-in-github",
        "colab_type": "text"
      },
      "source": [
        "<a href=\"https://colab.research.google.com/github/kobayashi0820/Waseda-R-Language-Curriculum/blob/main/R%E8%A8%80%E8%AA%9E%E6%BC%94%E7%BF%92%E3%82%B7%E3%83%BC%E3%83%88.ipynb\" target=\"_parent\"><img src=\"https://colab.research.google.com/assets/colab-badge.svg\" alt=\"Open In Colab\"/></a>"
      ]
    },
    {
      "cell_type": "markdown",
      "source": [
        "#R言語演習\n",
        "<font color ='red'>【注意事項】</font>演習内容は自動保存されません。必ずメニューの<font color ='red'>[ファイル]-->[保存]</font>で保存しましょう。"
      ],
      "metadata": {
        "id": "APj2-l1v2yXJ"
      }
    },
    {
      "cell_type": "code",
      "source": [
        "#最初に下記コードを実行し、所属と氏名を入力しましょう\n",
        "name1 <- readline(\"2年B組37番\") # 例）3年B組11番\n",
        "name2 <- readline(\"小林颯太\") # 例）早稲田太郎"
      ],
      "metadata": {
        "id": "DBga6hPAK1mn"
      },
      "execution_count": 6,
      "outputs": []
    },
    {
      "cell_type": "markdown",
      "source": [
        "メニュー下の<font color ='blue'>+コード</font>でコードセルを追加し演習を始めましょう"
      ],
      "metadata": {
        "id": "ZqJanpgeQp6O"
      }
    },
    {
      "cell_type": "code",
      "source": [
        "# 演習\n"
      ],
      "metadata": {
        "id": "RNf3njGEPkYo"
      },
      "execution_count": null,
      "outputs": []
    }
  ]
}