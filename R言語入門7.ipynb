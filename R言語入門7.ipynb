{
  "nbformat": 4,
  "nbformat_minor": 0,
  "metadata": {
    "colab": {
      "provenance": [],
      "collapsed_sections": [],
      "toc_visible": true,
      "include_colab_link": true
    },
    "kernelspec": {
      "name": "ir",
      "display_name": "R"
    },
    "language_info": {
      "name": "python"
    },
    "gpuClass": "standard"
  },
  "cells": [
    {
      "cell_type": "markdown",
      "metadata": {
        "id": "view-in-github",
        "colab_type": "text"
      },
      "source": [
        "<a href=\"https://colab.research.google.com/github/moshimoshipandasan/waseda/blob/main/R%E8%A8%80%E8%AA%9E%E5%85%A5%E9%96%807.ipynb\" target=\"_parent\"><img src=\"https://colab.research.google.com/assets/colab-badge.svg\" alt=\"Open In Colab\"/></a>"
      ]
    },
    {
      "cell_type": "markdown",
      "source": [
        "#■12　繰り返し（for文、while文）"
      ],
      "metadata": {
        "id": "APj2-l1v2yXJ"
      }
    },
    {
      "cell_type": "markdown",
      "source": [
        "##【1】for文\n",
        "同じ種類の作業を繰り返す処理を反復処理と呼び、for文やwhile文などの構文がある。\n",
        "```R\n",
        "for (変数 in ベクトル・リスト){\n",
        "  繰り返す処理（複数行可）\n",
        "}\n",
        "```"
      ],
      "metadata": {
        "id": "2315-dKqWFRh"
      }
    },
    {
      "cell_type": "code",
      "source": [
        "#1から10までカウント\n",
        "for (i in 1:10){\n",
        "  print(i)\n",
        "}"
      ],
      "metadata": {
        "id": "wIjGyrRmoO1L"
      },
      "execution_count": null,
      "outputs": []
    },
    {
      "cell_type": "code",
      "source": [
        "#1から10までの平方和\n",
        "x <- 0\n",
        "for (i in 1:10){\n",
        "  x <- x + i^2\n",
        "}\n",
        "print(x)"
      ],
      "metadata": {
        "id": "XUy2KZkY5wKK"
      },
      "execution_count": null,
      "outputs": []
    },
    {
      "cell_type": "code",
      "source": [
        "#1からnまでの平方和を関数を使って表すと\n",
        "example8_01 <-function(n){\n",
        "  x <- 0\n",
        "  for (i in 1:n){\n",
        "    x <- x + i^2\n",
        "  }\n",
        "  return(x)\n",
        "}"
      ],
      "metadata": {
        "id": "pIGQy2SGojnp"
      },
      "execution_count": null,
      "outputs": []
    },
    {
      "cell_type": "code",
      "source": [
        "num <- as.numeric(readline(\"値を入力しなさい\"))\n",
        "example8_01(num)"
      ],
      "metadata": {
        "id": "kCZoEpu97DPH"
      },
      "execution_count": null,
      "outputs": []
    },
    {
      "cell_type": "markdown",
      "source": [
        "##【2】for文とif文の組み合わせ"
      ],
      "metadata": {
        "id": "Jx5WMnXRahAA"
      }
    },
    {
      "cell_type": "markdown",
      "source": [
        "###【実習2】３の倍数ならFizz、5の倍数ならBuzzを表示する関数を用いたプログラム例"
      ],
      "metadata": {
        "id": "nPlG04MMAn3G"
      }
    },
    {
      "cell_type": "code",
      "source": [
        "example8_02 <-function(n){\n",
        "  x <- NULL #xは値が入っていないベクトルと定義しておく\n",
        "  for (i in 1:n){\n",
        "    if(i %% 3 == 0){\n",
        "      x[i] <- \"Fizz\"\n",
        "    }else if(i %% 5 == 0){\n",
        "      x[i] <- \"Buzz\"\n",
        "    }else{\n",
        "      x[i] <- i\n",
        "    }\n",
        "  }\n",
        "  return(x)\n",
        "}"
      ],
      "metadata": {
        "id": "FKCUj6HtOCCx"
      },
      "execution_count": null,
      "outputs": []
    },
    {
      "cell_type": "code",
      "source": [
        "num <- as.numeric(readline(\"値を入力しなさい\"))\n",
        "example8_02(num)"
      ],
      "metadata": {
        "id": "GcPH8yXzCQOm"
      },
      "execution_count": null,
      "outputs": []
    },
    {
      "cell_type": "code",
      "source": [
        "# example8_02の別解\n",
        "# R言語はベクトルに値を代入するときちょっと癖のある書き方をする\n",
        "example8_02 <-function(n){\n",
        "  x <- NULL #xは値が入っていないことにする\n",
        "  y <- 0\n",
        "  for (i in 1:n){\n",
        "    if(i %% 3 == 0){\n",
        "      y <- \"Fizz\"\n",
        "    }else if(i %% 5 == 0){\n",
        "      y <- \"Buzz\"\n",
        "    }else{\n",
        "      y <- i\n",
        "    }\n",
        "    x <- c(x,y) #R言語の癖のある書き方\n",
        "  }\n",
        "  return(x)\n",
        "}"
      ],
      "metadata": {
        "id": "YoAkyqkuo9Xd"
      },
      "execution_count": null,
      "outputs": []
    },
    {
      "cell_type": "code",
      "source": [
        "num <- as.numeric(readline(\"値を入力しなさい\"))\n",
        "example8_02(num)"
      ],
      "metadata": {
        "id": "5WFJeR1fNgTF"
      },
      "execution_count": null,
      "outputs": []
    },
    {
      "cell_type": "code",
      "source": [
        "#例 ベクトルに値を追加\n",
        "x <- c(NULL,1)\n",
        "x\n",
        "x <- c(x,2)\n",
        "x\n",
        "x <- c(x,3)\n",
        "x"
      ],
      "metadata": {
        "id": "hueduCMsMCfu"
      },
      "execution_count": null,
      "outputs": []
    },
    {
      "cell_type": "markdown",
      "source": [
        "###考えてみよう!\n",
        "３の倍数ならFizz、5の倍数ならBuzz、両方で割り切れるときはFizzBuzzを表示する関数を用いたプログラム"
      ],
      "metadata": {
        "id": "6RurjeMxzr-g"
      }
    },
    {
      "cell_type": "markdown",
      "source": [
        "##【3】While文\n",
        "\n",
        ">```python\n",
        "while (条件式){\n",
        "  繰り返す処理(複数行可)\n",
        "}\n",
        "```\n",
        "for文は指定回数繰り返すが、While文<font color=\"red\">条件式が成立している間</font>，繰り返し処理を行う"
      ],
      "metadata": {
        "id": "EUxagqSCgG2z"
      }
    },
    {
      "cell_type": "markdown",
      "source": [
        "###【実習3】example8_01をwhile文で書き直してみる\n",
        "![image.png](data:image/png;base64,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)"
      ],
      "metadata": {
        "id": "h_HlP1mqtpQk"
      }
    },
    {
      "cell_type": "code",
      "source": [
        "example8_03 <-function(n){\n",
        "  x <- 0\n",
        "  i = 1\n",
        "  while(i <= n){\n",
        "    x <- x + i^2\n",
        "    i = i + 1\n",
        "  }\n",
        "  return(x)\n",
        "}"
      ],
      "metadata": {
        "id": "H_EEVeptt0_r"
      },
      "execution_count": null,
      "outputs": []
    },
    {
      "cell_type": "code",
      "source": [
        "num <- as.numeric(readline(\"値を入力しなさい\"))\n",
        "example8_03(num)"
      ],
      "metadata": {
        "id": "JzJWD-Hdt-yD"
      },
      "execution_count": null,
      "outputs": []
    },
    {
      "cell_type": "markdown",
      "source": [
        "###【実習4】0から4までの間の正数をコンソールから入力し、プログラムが選んだ数値（乱数）と一致すれば\"正解!\"して終了し、一致しなければ継続するプログラム"
      ],
      "metadata": {
        "id": "ipSb50uzplpp"
      }
    },
    {
      "cell_type": "code",
      "source": [
        "example8_04 <- function(){\n",
        "  i <- 0\n",
        "  while(i == 0){\n",
        "    x <- readline(\"0から4までの数値を入力してください：\")\n",
        "    y <- floor(runif(1)*5) #小数点以下切り捨て\n",
        "    cat(\"コンピュータ:\",y,\" あなたの数\",x,\"\\n\")\n",
        "    if(x == y){\n",
        "      cat(\"正解!\\n\")\n",
        "      i <- 1\n",
        "    }else{\n",
        "      cat(\"残念!\\n\")\n",
        "    }\n",
        "  }\n",
        "  cat(\"終了\\n\")\n",
        "}"
      ],
      "metadata": {
        "id": "VilgkfYZqYTe"
      },
      "execution_count": 1,
      "outputs": []
    },
    {
      "cell_type": "code",
      "source": [
        "example8_04()"
      ],
      "metadata": {
        "id": "6ZTqFJsaYPcU"
      },
      "execution_count": null,
      "outputs": []
    },
    {
      "cell_type": "code",
      "source": [
        "# 定義関数を使わなくてもよい\n",
        "i <- 0\n",
        "while(i == 0){\n",
        "  x <- readline(\"0から4までの数値を入力してください：\")\n",
        "  y <- floor(runif(1)*5)\n",
        "  cat(\"コンピュータ:\",y,\" あなたの数\",x,\"\\n\")\n",
        "  if(x == y){\n",
        "    cat(\"正解!\\n\")\n",
        "    i <- 1\n",
        "  }else{\n",
        "    cat(\"残念!\\n\")\n",
        "  }\n",
        "}\n",
        "cat(\"終了\\n\")"
      ],
      "metadata": {
        "id": "mBhKFgamcakU"
      },
      "execution_count": null,
      "outputs": []
    },
    {
      "cell_type": "markdown",
      "source": [
        "#for文とWhile文の使い分け\n",
        "* for文・・・繰り返しの回数が予測可能\n",
        "* while文・・・繰り返しの回数が<font color=\"red\">予測不可</font>\n"
      ],
      "metadata": {
        "id": "tQ8ptEoq0KSS"
      }
    }
  ]
}