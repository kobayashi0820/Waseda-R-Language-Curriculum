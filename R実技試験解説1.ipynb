{
  "nbformat": 4,
  "nbformat_minor": 0,
  "metadata": {
    "colab": {
      "provenance": [],
      "collapsed_sections": [],
      "include_colab_link": true
    },
    "kernelspec": {
      "name": "ir",
      "display_name": "R"
    },
    "language_info": {
      "name": "python"
    },
    "gpuClass": "standard"
  },
  "cells": [
    {
      "cell_type": "markdown",
      "metadata": {
        "id": "view-in-github",
        "colab_type": "text"
      },
      "source": [
        "<a href=\"https://colab.research.google.com/github/moshimoshipandasan/waseda/blob/main/R%E5%AE%9F%E6%8A%80%E8%A9%A6%E9%A8%93%E8%A7%A3%E8%AA%AC1.ipynb\" target=\"_parent\"><img src=\"https://colab.research.google.com/assets/colab-badge.svg\" alt=\"Open In Colab\"/></a>"
      ]
    },
    {
      "cell_type": "code",
      "source": [],
      "metadata": {
        "id": "9bqWoxxDR2BW"
      },
      "execution_count": null,
      "outputs": []
    },
    {
      "cell_type": "markdown",
      "source": [
        "#R言語演習\n",
        "<font color ='red'>【注意事項】</font>演習内容は自動保存されません。必ずメニューの<font color ='red'>[ファイル]-->[保存]</font>で保存しましょう。または<font color ='red'>CTRL+S</font>でも保存できます。"
      ],
      "metadata": {
        "id": "APj2-l1v2yXJ"
      }
    },
    {
      "cell_type": "markdown",
      "source": [
        "##問題1 Helloの表示\n",
        "入力値なしで \"Hello Gakuin!\" を出力する関数<br>\n",
        "`hellogakuin()`<br>\n",
        "を作成せよ。値を表示させるだけでなく、関数として値を出力するようにすること）"
      ],
      "metadata": {
        "id": "ZqJanpgeQp6O"
      }
    },
    {
      "cell_type": "code",
      "source": [
        "hellogakuin <- function(){\n",
        "  return(\"Hello Gakuin!\")\n",
        "}\n",
        "\n",
        "hellogakuin()"
      ],
      "metadata": {
        "id": "RNf3njGEPkYo"
      },
      "execution_count": null,
      "outputs": []
    },
    {
      "cell_type": "markdown",
      "source": [
        "<font color =\"red\">問題１のポイント</font>\n",
        "```R\n",
        "関数名 <-- funstion(){\n",
        "  return(\"表示する文字\")\n",
        "}\n",
        "\n",
        "関数名()\n",
        "```\n",
        "<hr>"
      ],
      "metadata": {
        "id": "ss80diCnGZ7P"
      }
    },
    {
      "cell_type": "markdown",
      "source": [
        "###問題2～問題4のサンプルデータmarkの準備"
      ],
      "metadata": {
        "id": "aPO6Ls8bIfcZ"
      }
    },
    {
      "cell_type": "code",
      "source": [
        "# 問題2を解く前に、平均：65, 標準偏差：12 の正規分布に従う乱数を100個生成してサンプルデータを用意しておく。\n",
        "mark <- round(rnorm(100, mean = 65, sd = 12),0)\n",
        "mark"
      ],
      "metadata": {
        "id": "enRyFVuKHmfe"
      },
      "execution_count": null,
      "outputs": []
    },
    {
      "cell_type": "markdown",
      "source": [
        "##問題2 平均\n",
        "mark を 母集団の点数データとする平均を返す関数<br>\n",
        "`average( data )`<br>\n",
        "を作成せよ。（ただしmean関数は使わない）\n",
        "\n"
      ],
      "metadata": {
        "id": "LUVj0VNHHQ3R"
      }
    },
    {
      "cell_type": "code",
      "source": [
        "average <- function(data){\n",
        "  n <- length(data)\n",
        "  s <- sum(data)\n",
        "  return(s/n)\n",
        "}\n",
        "\n",
        "average(mark)"
      ],
      "metadata": {
        "id": "T1XusfuqIt8W"
      },
      "execution_count": null,
      "outputs": []
    },
    {
      "cell_type": "markdown",
      "source": [
        "<font color =\"red\">問題２のポイント</font>\n",
        "```R\n",
        "関数名 <-- funstion(引数){\n",
        "  関数内での処理（複数行可）\n",
        "  return(戻り値)\n",
        "}\n",
        "\n",
        "関数名()\n",
        "```\n",
        "<hr>"
      ],
      "metadata": {
        "id": "3G5zvmzJJBO7"
      }
    },
    {
      "cell_type": "markdown",
      "source": [
        "##問題3 分散\n",
        "mark を 母集団の点数データとする分散を返す関数<br>\n",
        "`variance( data )`<br>\n",
        "を作成せよ。（Excelのvar.p関数にあたるもの）ここではvar関数を使わず、分散の定義にもとづいて計算する\n"
      ],
      "metadata": {
        "id": "D_3wslHqK4Jp"
      }
    },
    {
      "cell_type": "code",
      "source": [
        "variance <- function(data){\n",
        "\tn <- length(data)\n",
        "\tm <- average(data) #mean(data)も可\n",
        "\tss <- (data-m)^2\n",
        "\treturn(sum(ss)/n)\n",
        "}\n",
        "\n",
        "variance(mark)"
      ],
      "metadata": {
        "id": "lTaBwPOULOyg"
      },
      "execution_count": null,
      "outputs": []
    },
    {
      "cell_type": "markdown",
      "source": [
        "<font color =\"red\">問題３・問題４のポイント</font><br>\n",
        "![image.png](data:image/png;base64,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)\n",
        "\n",
        "<hr>"
      ],
      "metadata": {
        "id": "ZOnOpyyPL3nd"
      }
    },
    {
      "cell_type": "markdown",
      "source": [
        "##問題4 標準偏差\n",
        "mark を 母集団の点数データとする標準偏差を返す関数<br>\n",
        "`stdev( data )`<br>\n",
        "を作成せよ（Excelのstdev.p関数にあたるもの）"
      ],
      "metadata": {
        "id": "qaGcvZl1M2SJ"
      }
    },
    {
      "cell_type": "code",
      "source": [
        "stdev <- function(data){\n",
        "\treturn(sqrt(variance(data))) #variance(data)^(1/2)も可\n",
        "}\n",
        "\n",
        "stdev(mark)"
      ],
      "metadata": {
        "id": "pUddFMf8NKg4"
      },
      "execution_count": null,
      "outputs": []
    },
    {
      "cell_type": "markdown",
      "source": [
        "<hr>"
      ],
      "metadata": {
        "id": "PER5Y1z3NXOz"
      }
    },
    {
      "cell_type": "markdown",
      "source": [
        "##問題5のサンプルデータの準備"
      ],
      "metadata": {
        "id": "vK3gcWueN8Wn"
      }
    },
    {
      "cell_type": "code",
      "source": [
        "# 一様乱数を1000個作成する\n",
        "rndx <- runif(1000, min = 0, max = 1)\n",
        "rndy <- runif(1000, min = 0, max = 1)\n",
        "rndye <- runif(1001, min = 0, max = 1)"
      ],
      "metadata": {
        "id": "bS2TVSxCOCaK"
      },
      "execution_count": null,
      "outputs": []
    },
    {
      "cell_type": "markdown",
      "source": [
        "##問題5 モンテカルロ法で円周率を求める1\n",
        "この生成した0～1の数値を，rndxをx座標，rdnyをy座標として，前から順番に座標として捉える。<br>\n",
        "このとき，半径1の円の内側にある点の個数と，すべての点の個数の比を4倍した値を求める関数<br>\n",
        "`pi2`<br>\n",
        "を作成せよ。\n",
        "その際，rndx，rdnyそれぞれの要素の個数が一致しない場合はエラーメッセージを出すように条件分岐をさせなさい。\n"
      ],
      "metadata": {
        "id": "P36hbhEkORs_"
      }
    },
    {
      "cell_type": "code",
      "source": [
        "pi2 <- function(x,y){\n",
        "\tif(length(x) != length(y)){\n",
        "\t \treturn(\"Dimension Error!!\")\n",
        "\t}\n",
        "\telse{\n",
        "\t\tn <- length(x)\n",
        "\t\tm <- sum(floor(sqrt((x^2+y^2)))) # sum(sqrt((x^2+y^2))>1) のような書き方もある\n",
        "\t\treturn(4*(n-m)/n)\n",
        "\t}\n",
        "}\n",
        "\n",
        "pi2(rndx,rndy)\n",
        "\n",
        "#エラーメッセージ \"Dimension Error!!\"\n",
        "pi2(rndx,rndye)"
      ],
      "metadata": {
        "id": "EEK26VMkOve4"
      },
      "execution_count": null,
      "outputs": []
    },
    {
      "cell_type": "markdown",
      "source": [
        "<font color =\"red\">問題５のポイント</font>\n",
        "###モンテカルロ法\n",
        "http://www.cmpt.phys.tohoku.ac.jp/open-campus/2020/pi/"
      ],
      "metadata": {
        "id": "TiYKCjI_QWSg"
      }
    },
    {
      "cell_type": "markdown",
      "source": [
        "###floor関数\n",
        "指定した値(整数部分)を超えない最大の整数を求める"
      ],
      "metadata": {
        "id": "azUpoyeSVlYa"
      }
    },
    {
      "cell_type": "code",
      "source": [
        "# floor関数を使って半径1の円の内側にある点の個数を数える\n",
        "# 例 半径の内側の場合は0\n",
        "floor(0.32231)\n",
        "# 例 半径の外側の場合は1\n",
        "floor(1.21862)"
      ],
      "metadata": {
        "id": "grwJ93CXQx8c"
      },
      "execution_count": null,
      "outputs": []
    },
    {
      "cell_type": "markdown",
      "source": [
        "<hr>"
      ],
      "metadata": {
        "id": "89axKE-6R06H"
      }
    },
    {
      "cell_type": "markdown",
      "source": [
        "##問題6 モンテカルロ法で円周率を求める2\n",
        "上記の関数 pi2 を用いて，乱数をn個発生させてπ（円周率）の近似値を求める<br>\n",
        "`monte_pi`<br> \n",
        "関数を作成せよ。\n",
        "\n"
      ],
      "metadata": {
        "id": "qAhC7jOgSPXe"
      }
    },
    {
      "cell_type": "code",
      "source": [
        "monte_pi <- function(n){\n",
        "\tx <- runif(n, min = 0, max = 1)\n",
        "\ty <- runif(n, min = 0, max = 1)\n",
        "\n",
        "\treturn(pi2(x,y))\n",
        "}\n",
        "\n",
        "monte_pi(100000)"
      ],
      "metadata": {
        "colab": {
          "base_uri": "https://localhost:8080/",
          "height": 34
        },
        "id": "QZOFNn2BUOOn",
        "outputId": "a61682dd-a9ee-48db-8d73-10ca1d40ca44"
      },
      "execution_count": null,
      "outputs": [
        {
          "output_type": "display_data",
          "data": {
            "text/html": [
              "3.14172"
            ],
            "text/markdown": "3.14172",
            "text/latex": "3.14172",
            "text/plain": [
              "[1] 3.14172"
            ]
          },
          "metadata": {}
        }
      ]
    },
    {
      "cell_type": "markdown",
      "source": [
        "<font color =\"red\">問題６のポイント</font><br>\n",
        "\n",
        "```R\n",
        "一様乱数をn個作成する\n",
        "rndx <- runif(n, min = 0, max = 1)\n",
        "rndy <- runif(n, min = 0, max = 1)\n",
        "```\n",
        "と<br>\n",
        "`pi2(rndx,rndy)`<br>\n",
        "を組み合わせて関数monte_piを作成する。\n",
        "<hr>"
      ],
      "metadata": {
        "id": "Nl_i-uBYUmiO"
      }
    },
    {
      "cell_type": "markdown",
      "source": [
        "##問題7 内積\n",
        "2つのベクトルa，bの内積を，次の2通りの方法で求めよ。<br>\n",
        "(1) 対応する要素同士の積の総和を計算する（数学Ⅱ(b)で習った内容）<br>\n",
        "(2) ベクトルの内積の「演算子」を使って計算する<br>"
      ],
      "metadata": {
        "id": "Rp3294rLVyDm"
      }
    },
    {
      "cell_type": "code",
      "source": [
        "a <- c(1,2,3)\n",
        "b <- c(-1,0,3)\n",
        "\n",
        "a*b\n",
        "sum(a*b)\t# (1)の方法\n",
        "\n",
        "a %*% b\t\t# (2)の方法"
      ],
      "metadata": {
        "id": "UZiXnr8oV6yK"
      },
      "execution_count": null,
      "outputs": []
    },
    {
      "cell_type": "markdown",
      "source": [
        "<font color =\"red\">問題７のポイント</font><br>\n",
        "問題７の内積は問題８の準備問題である\n",
        "<hr>"
      ],
      "metadata": {
        "id": "Wx5IIBMzXTsG"
      }
    },
    {
      "cell_type": "markdown",
      "source": [
        "###問題8のサンプルデータkakaku、kosuuの準備\n",
        "ある100個の商品の単価と，それぞれの購入個数が次のベクトルで与えられているとる。<br>\n",
        "kakaku :単価のベクトル<br>\n",
        "kosuu :購入個数のベクトル\n"
      ],
      "metadata": {
        "id": "qc_vMj-IW_Xu"
      }
    },
    {
      "cell_type": "code",
      "source": [
        "kakaku <- floor(100*runif(100, min = 0, max = 1)+50)*10\n",
        "kakaku\n",
        "kosuu  <- floor(4*runif(100, min = 0, max = 1))\n",
        "kosuu"
      ],
      "metadata": {
        "id": "0LNrOY6JXmmL"
      },
      "execution_count": null,
      "outputs": []
    },
    {
      "cell_type": "markdown",
      "source": [
        "##問題8 単価と合計金額\n",
        "このとき，これらの商品の購入合計金額を求める<br>\n",
        "`inner_product`<br>\n",
        "関数を作成せよ（自分でコードを書くこと）。"
      ],
      "metadata": {
        "id": "8pSY8tdMX6ex"
      }
    },
    {
      "cell_type": "code",
      "source": [
        "inner_product <- function(x, y){\n",
        "\treturn( x %*% y )\n",
        "}\n",
        "\n",
        "inner_product(kakaku, kosuu)"
      ],
      "metadata": {
        "id": "VabNMH4FYmXv"
      },
      "execution_count": null,
      "outputs": []
    },
    {
      "cell_type": "markdown",
      "source": [
        "<hr>"
      ],
      "metadata": {
        "id": "FQlk7NNIY6b9"
      }
    },
    {
      "cell_type": "markdown",
      "source": [
        "##問題9 速さと距離\n",
        "あなたは校門が閉まるまでに学校に到着しなければなりません。（時間ぴったりであればセーフです）<br>\n",
        "あなたは、以下の速度で移動することができるものとします。<br>\n",
        "* 普通に歩く（\"slow walk\"）: 分速100メートル\n",
        "* 急いで歩く（\"fast walk\"）: 分速120メートル\n",
        "* 急いで走る（\"fast run\"） : 分速160メートル\n",
        "\n",
        "ただし、なるべくゆっくり移動するものとします。（途中で移動のペースは変えず、一定の速度をキープします）\n",
        "自宅から学校までの距離が n メートル、家を出発する時間が校門が閉まる m 分前としたとき，\"slow walk\"，\"fast walk\"，\"fast run\"のどれが最適かを出力する<br>\n",
        "`moving`<br>\n",
        "関数を作成しなさい（メッセージは return 関数で出力する）。<br>\n",
        "なお、急いで走っても間に合わない場合は「普通に歩く」ことにします。\n"
      ],
      "metadata": {
        "id": "lq4Kqrf-Y3O8"
      }
    },
    {
      "cell_type": "code",
      "source": [
        "moving <- function(n, m){\n",
        "\tif(n/100 <= m){\n",
        "\t\treturn(\"slow walk\")\n",
        "\t}\n",
        "\telse if(n/120 <= m){\n",
        "\t\treturn(\"fast walk\")\n",
        "\t}\n",
        "\telse if(n/160 <= m){\n",
        "\t\treturn(\"fast run\")\n",
        "\t}\n",
        "\telse{\n",
        "\t\treturn(\"slow walk\")\n",
        "\t}\n",
        "}\n",
        "\n",
        "# 以下の実行出力結果\n",
        "# moving(1200, 20) ... \"slow walk\"\n",
        "# moving(1600, 15) ... \"fast walk\"\n",
        "# moving(1800, 12) ... \"fast run\"\n",
        "# moving( 500,  2) ... \"slow walk\"\n",
        "\n",
        "moving(1200, 20) \n",
        "moving(1600, 15) \n",
        "moving(1800, 12) \n",
        "moving( 500,  2) \n"
      ],
      "metadata": {
        "id": "CwlhgBhYYyoi"
      },
      "execution_count": null,
      "outputs": []
    },
    {
      "cell_type": "markdown",
      "source": [
        "<hr>"
      ],
      "metadata": {
        "id": "jVYwNV5zcWPr"
      }
    },
    {
      "cell_type": "markdown",
      "source": [
        "##問題10 if文・else文の組合せ\n",
        "スーパーマーケット「ガクイン」では，買い物をすると会員種別によって，以下のようにポイントが付きます（ただし、小数点以下は切り捨てとします）。\n",
        "* シルバー会員は，ポイントが支払い総額の5パーセント付きます。\n",
        "* ゴールド会員は，ポイントが支払い総額の8パーセント付きます。\n",
        " * さらに，支払総額が5000円を超えると，1000円ごとに100ポイント付きます。\n",
        "* 会員でない人はポイントが付きません。\n",
        "いま，会員種別 class と，支払総額 total を入力したときに取得できるポイントを出力する<br>\n",
        "`g-point`<br>\n",
        "関数を作成しなさい。ただし，会員種別は<br>\n",
        "* シルバー会員：1\n",
        "* ゴールド会員：2\n",
        "* 会員でない：0\n",
        "\n",
        "とし，それ以外の会員種別が入力された場合は\"Input Error !!\"と出力するようにしてださい。"
      ],
      "metadata": {
        "id": "_XLC2IlWaJbX"
      }
    },
    {
      "cell_type": "code",
      "source": [
        "gpoint <- function(class, total){\n",
        "\tx <- 0\n",
        "\tif(class == 1){\n",
        "\t\tx <- floor(total*.05)\n",
        "\t}else if(class == 2){\n",
        "\t\tx <- floor(total*.08)\n",
        "\t\tif(total > 5000){\n",
        "\t\t\tx <- x + 100*floor((total - 5000)/1000)\n",
        "\t\t}\n",
        "\t}else if(class == 0){\n",
        "\t\tx <- 0\n",
        "\t}else{\n",
        "\t\tx <- \"Input Error !!\"\n",
        "\t}\n",
        "\treturn(x)\n",
        "}\n",
        "\n",
        "# 以下の実行出力結果\n",
        "# gpoint(0, 20000) ... [1] 0\n",
        "# gpoint(1, 5999)  ... [1] 299\n",
        "# gpoint(1, 6000)  ... [1] 300\n",
        "# gpoint(2, 5999)  ... [1] 479\n",
        "# gpoint(2, 6000)  ... [1] 580\n",
        "# gpoint(3, 20000) ... [1] \"Input Error !!\"\n",
        "\n",
        "gpoint(0, 20000)\n",
        "gpoint(1, 5999)\n",
        "gpoint(1, 6000)\n",
        "gpoint(2, 5999)\n",
        "gpoint(2, 6000)\n",
        "gpoint(3, 20000)"
      ],
      "metadata": {
        "id": "rRSozB11bER6"
      },
      "execution_count": null,
      "outputs": []
    },
    {
      "cell_type": "markdown",
      "source": [
        "<hr>"
      ],
      "metadata": {
        "id": "o3mMcAHicZhr"
      }
    },
    {
      "cell_type": "markdown",
      "source": [
        "##問題11 並べ替え バブルソート1\n",
        "2つの整数値からなるベクトル zseq を入力したときに、この値を昇順にしたベクトルを出力する<br>\n",
        "`asort`<br>\n",
        "関数を作成しなさい。<br>"
      ],
      "metadata": {
        "id": "TUEiZQHQcbNk"
      }
    },
    {
      "cell_type": "code",
      "source": [
        "asort <- function(zseq){\n",
        "\tif(zseq[1] > zseq[2]){\n",
        "\t\tx <- zseq[1]\n",
        "\t\tzseq[1] <- zseq[2]\n",
        "\t\tzseq[2] <- x\n",
        "\t}\n",
        "\treturn(zseq)\n",
        "}\n",
        "\n",
        "v <- c(2, 1)\n",
        "asort(v)"
      ],
      "metadata": {
        "id": "5xK8neUSf9TM"
      },
      "execution_count": null,
      "outputs": []
    },
    {
      "cell_type": "code",
      "source": [
        "# 問題11の別解\n",
        "asort <- function(zseq){\n",
        "\tif(zseq[1] > zseq[2]){\n",
        "\t\tx <- zseq[1]\n",
        "\t\ty <- zseq[2]\n",
        "\t\tzseq[1] <- y\n",
        "\t\tzseq[2] <- x\n",
        "\t}\n",
        "\treturn(zseq)\n",
        "}"
      ],
      "metadata": {
        "id": "iDi9FNiQdGpC"
      },
      "execution_count": null,
      "outputs": []
    },
    {
      "cell_type": "markdown",
      "source": [
        "##問題12 並べ替え バブルソート2\n",
        "3つの整数値からなるベクトル zseq を入力したときに、この値を昇順にしたベクトルを出力する<br>\n",
        "`asort3`<br>\n",
        "関数を作成しなさい。"
      ],
      "metadata": {
        "id": "dQ01i8r7efWO"
      }
    },
    {
      "cell_type": "code",
      "source": [
        "asort3 <- function(zseq){\n",
        "\tif(zseq[1] > zseq[2]){\n",
        "\t\tx <- zseq[1]\n",
        "\t\tzseq[1] <- zseq[2]\n",
        "\t\tzseq[2] <- x\n",
        "\t}\n",
        "\tif(zseq[2] > zseq[3]){\n",
        "\t\tx <- zseq[2]\n",
        "\t\tzseq[2] <- zseq[3]\n",
        "\t\tzseq[3] <- x\n",
        "\t}\n",
        "\tif(zseq[1] > zseq[2]){\n",
        "\t\tx <- zseq[1]\n",
        "\t\tzseq[1] <- zseq[2]\n",
        "\t\tzseq[2] <- x\n",
        "\t}\n",
        "\treturn(zseq)\n",
        "}\n",
        "\n",
        "v <- c(2, 3, 1)\n",
        "asort3(v)"
      ],
      "metadata": {
        "id": "Hm8n07rzetR7"
      },
      "execution_count": null,
      "outputs": []
    },
    {
      "cell_type": "markdown",
      "source": [
        "##おまけ バブルソート完成版"
      ],
      "metadata": {
        "id": "A13e6aBEgfp_"
      }
    },
    {
      "cell_type": "code",
      "source": [
        "bubblesort <- function(zseq){\n",
        "  n <- length(zseq)\n",
        "  for (i in 1:(n - 1)){\n",
        "    for (j in 1:(n - i)){\n",
        "      if(zseq[j] > zseq[j + 1]){\n",
        "        x <- zseq[j]\n",
        "        zseq[j] <- zseq[j + 1]\n",
        "        zseq[j + 1] <- x\n",
        "      }\n",
        "    }\n",
        "  }\n",
        "  return(zseq)\n",
        "}\n",
        "\n",
        "v <- c(5, 3, 1, 2, 4)\n",
        "bubblesort(v)"
      ],
      "metadata": {
        "id": "O5BwwlwWg2aO"
      },
      "execution_count": null,
      "outputs": []
    }
  ]
}