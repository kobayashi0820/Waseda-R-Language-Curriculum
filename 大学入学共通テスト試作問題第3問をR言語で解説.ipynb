{
  "nbformat": 4,
  "nbformat_minor": 0,
  "metadata": {
    "colab": {
      "provenance": [],
      "include_colab_link": true
    },
    "kernelspec": {
      "name": "ir",
      "display_name": "R"
    },
    "language_info": {
      "name": "python"
    },
    "gpuClass": "standard"
  },
  "cells": [
    {
      "cell_type": "markdown",
      "metadata": {
        "id": "view-in-github",
        "colab_type": "text"
      },
      "source": [
        "<a href=\"https://colab.research.google.com/github/moshimoshipandasan/waseda/blob/main/%E5%A4%A7%E5%AD%A6%E5%85%A5%E5%AD%A6%E5%85%B1%E9%80%9A%E3%83%86%E3%82%B9%E3%83%88%E8%A9%A6%E4%BD%9C%E5%95%8F%E9%A1%8C%E7%AC%AC3%E5%95%8F%E3%82%92R%E8%A8%80%E8%AA%9E%E3%81%A7%E8%A7%A3%E8%AA%AC.ipynb\" target=\"_parent\"><img src=\"https://colab.research.google.com/assets/colab-badge.svg\" alt=\"Open In Colab\"/></a>"
      ]
    },
    {
      "cell_type": "markdown",
      "source": [
        "#大学入学共通テスト第3問をR言語で解説\n",
        "> [試作問題](https://www.dnc.ac.jp/albums/abm.php?f=abm00041798.pdf&n=6-2-1+%E8%A9%A6%E4%BD%9C%E5%95%8F%E9%A1%8C%E3%80%8E%E6%83%85%E5%A0%B1%E2%85%A0%E3%80%8F.pdf)<br>\n",
        "> [解答](https://www.dnc.ac.jp/albums/abm.php?f=abm00041770.pdf&n=6-3-1+%E6%AD%A3%E8%A7%A3%E8%A1%A8%E3%80%8E%E6%83%85%E5%A0%B1%E2%85%A0%E3%80%8F.pdf)<br>\n",
        "\n",
        "100円以下の支払いで最小のコイン枚数を計算するプログラム"
      ],
      "metadata": {
        "id": "IwBEmOeOEcC8"
      }
    },
    {
      "cell_type": "code",
      "source": [
        "Kouka = c(1,5,10,50,100)\n",
        "kingaku = 46 #支払い金額\n",
        "maisu = 0 #コインの枚数\n",
        "nokori = kingaku\n",
        "for (i in 5:1){\n",
        "  maisu = maisu + nokori %/% Kouka[i]\n",
        "  nokori = nokori %% Kouka[i]\n",
        "}\n",
        "print(maisu)"
      ],
      "metadata": {
        "id": "RNf3njGEPkYo",
        "colab": {
          "base_uri": "https://localhost:8080/"
        },
        "outputId": "76f260a8-266b-4f75-a456-856348902f8b"
      },
      "execution_count": 37,
      "outputs": [
        {
          "output_type": "stream",
          "name": "stdout",
          "text": [
            "[1] 6\n"
          ]
        }
      ]
    },
    {
      "cell_type": "markdown",
      "source": [
        "# コイン枚数を計算する関数"
      ],
      "metadata": {
        "id": "fYS_w8KcLlSB"
      }
    },
    {
      "cell_type": "code",
      "source": [
        "maisuu <-function(kingaku){\n",
        "  Kouka = c(1,5,10,50,100)\n",
        "  maisu = 0 #コインの枚数\n",
        "  nokori = kingaku\n",
        "  for (i in 5:1){\n",
        "    maisu = maisu + nokori %/% Kouka[i]\n",
        "    nokori = nokori %% Kouka[i]\n",
        "  }\n",
        "  return(maisu)\n",
        "}\n",
        "\n",
        "maisuu(46)"
      ],
      "metadata": {
        "colab": {
          "base_uri": "https://localhost:8080/",
          "height": 34
        },
        "id": "_1hLoekzLtSo",
        "outputId": "d1e79d22-f62f-4545-af36-7963dc23ddff"
      },
      "execution_count": 39,
      "outputs": [
        {
          "output_type": "display_data",
          "data": {
            "text/html": [
              "6"
            ],
            "text/markdown": "6",
            "text/latex": "6",
            "text/plain": [
              "[1] 6"
            ]
          },
          "metadata": {}
        }
      ]
    },
    {
      "cell_type": "markdown",
      "source": [
        "#お釣りを含めたコインの最小枚数"
      ],
      "metadata": {
        "id": "ZX9F2wZPM6TB"
      }
    },
    {
      "cell_type": "code",
      "source": [
        "# コイン枚数を計算する関数\n",
        "maisuu <-function(kingaku){\n",
        "  Kouka = c(1,5,10,50,100)\n",
        "  maisu = 0 #コインの枚数\n",
        "  nokori = kingaku\n",
        "  for (i in 5:1){\n",
        "    maisu = maisu + nokori %/% Kouka[i]\n",
        "    nokori = nokori %% Kouka[i]\n",
        "  }\n",
        "  return(maisu)\n",
        "}\n",
        "\n",
        "# お釣りの最小枚数\n",
        "kakaku = 46\n",
        "mini_maisu = 100\n",
        "for(tsuri in 0:99){\n",
        "  shiharai = kakaku + tsuri\n",
        "  maisu = maisuu(shiharai) + maisuu(tsuri)\n",
        "  if(maisu < mini_maisu){\n",
        "    mini_maisu = maisu\n",
        "  }\n",
        "}\n",
        "print(mini_maisu)"
      ],
      "metadata": {
        "colab": {
          "base_uri": "https://localhost:8080/"
        },
        "id": "0TSJg8KNNAgs",
        "outputId": "c7e4b3b8-909b-44b0-f84e-1c1f06b6924e"
      },
      "execution_count": 41,
      "outputs": [
        {
          "output_type": "stream",
          "name": "stdout",
          "text": [
            "[1] 3\n"
          ]
        }
      ]
    }
  ]
}