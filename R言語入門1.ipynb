{
  "nbformat": 4,
  "nbformat_minor": 0,
  "metadata": {
    "colab": {
      "provenance": [],
      "collapsed_sections": [],
      "include_colab_link": true
    },
    "kernelspec": {
      "name": "ir",
      "display_name": "R"
    },
    "language_info": {
      "name": "python"
    },
    "gpuClass": "standard"
  },
  "cells": [
    {
      "cell_type": "markdown",
      "metadata": {
        "id": "view-in-github",
        "colab_type": "text"
      },
      "source": [
        "<a href=\"https://colab.research.google.com/github/moshimoshipandasan/waseda/blob/main/R%E8%A8%80%E8%AA%9E%E5%85%A5%E9%96%801.ipynb\" target=\"_parent\"><img src=\"https://colab.research.google.com/assets/colab-badge.svg\" alt=\"Open In Colab\"/></a>"
      ]
    },
    {
      "cell_type": "markdown",
      "source": [
        "#■6　Rの基本操作"
      ],
      "metadata": {
        "id": "APj2-l1v2yXJ"
      }
    },
    {
      "cell_type": "markdown",
      "source": [
        "GoogleコラボラトリでR言語を動かすには、Googleアカウントが必要です。<br>\n",
        "必ず[Googleアカウントを取得](https://support.google.com/accounts/answer/27441?hl=ja)してから学習を始めましょう。<br>\n",
        "R言語入門解説動画はこちら https://youtube.com/playlist?list=PLdv_7culeRTQvgEb1Ulse1PXhzjEggrhT<br>\n",
        "R言語入門テキスト一覧はこちら https://github.com/moshimoshipandasan/waseda"
      ],
      "metadata": {
        "id": "RzS6SC9rFHm3"
      }
    },
    {
      "cell_type": "markdown",
      "source": [
        "##【1】Rとは\n",
        "R言語は統計解析や機械学習に使用されるプログラミング言語で、学術研究分野で好まれている言語。"
      ],
      "metadata": {
        "id": "e302dsmK_GQV"
      }
    },
    {
      "cell_type": "code",
      "source": [
        "# 例1)豊富なデータセット\n",
        "plot(quakes)"
      ],
      "metadata": {
        "id": "Jl76DTxgJkiF"
      },
      "execution_count": null,
      "outputs": []
    },
    {
      "cell_type": "code",
      "source": [
        "# 例2)簡単にグラフが描ける\n",
        "x = rnorm( 10000 )\n",
        "hist( x, nclass = 40 )"
      ],
      "metadata": {
        "id": "2ldYqJ40JiMU"
      },
      "execution_count": null,
      "outputs": []
    },
    {
      "cell_type": "markdown",
      "source": [
        "##【2】Rの基本演算\n",
        "|意味|記述|\n",
        "|:--:|:--:|\n",
        "|加算（足し算）|+|\n",
        "|減算（引き算）|-|\n",
        "|積算（かけ算）|*|\n",
        "|除算（割り算）|/|\n",
        "|べき算（n乗）|^|\n",
        "|商|%/%|\n",
        "|余り|%%|\n",
        "|||"
      ],
      "metadata": {
        "id": "AdEf3ux-6SLI"
      }
    },
    {
      "cell_type": "code",
      "source": [
        "4 + 3\n",
        "12 - 3\n",
        "24 / 6\n",
        "3^2\n",
        "7 %/% 3\n",
        "1 %% 3"
      ],
      "metadata": {
        "id": "-kMhhHjj7LsJ"
      },
      "execution_count": null,
      "outputs": []
    },
    {
      "cell_type": "markdown",
      "source": [
        "###平方根・合計"
      ],
      "metadata": {
        "id": "RsgOPD_N7fiR"
      }
    },
    {
      "cell_type": "code",
      "source": [
        "#正の平方根\n",
        "sqrt(16)\n",
        "#次のデータ（リスト形式）の合計を返す\n",
        "sum(1,2,3,4,5)"
      ],
      "metadata": {
        "id": "NUglr0Yt7ju5"
      },
      "execution_count": null,
      "outputs": []
    },
    {
      "cell_type": "markdown",
      "source": [
        "##【3】プログラミング言語としてのRとコンピュータプログラミング"
      ],
      "metadata": {
        "id": "HJWv93-O4ACp"
      }
    },
    {
      "cell_type": "code",
      "source": [
        "# データの作成\n",
        "c(1,2,3,4) #ベクトル記述\n",
        "# データをオブジェクトdataに代入\n",
        "data <- c(1,2,3,4,5)\n",
        "# データの合計\n",
        "sum(data)\n",
        "#データの平均値\n",
        "mean(data)\n",
        "# 各データdataの2乗\n",
        "data^2"
      ],
      "metadata": {
        "id": "MQyxquv_9M0s"
      },
      "execution_count": null,
      "outputs": []
    },
    {
      "cell_type": "markdown",
      "source": [
        "##【4】Rでの簡単な統計処理\n",
        "\n",
        "|意味|記述|\n",
        "|:--:|:--:|\n",
        "|合計|sum|\n",
        "|平均|mean|\n",
        "|中央値|median|\n",
        "|最頻値|table|\n",
        "|最大|max|\n",
        "|最小|min|\n",
        "|データの個数|length|\n",
        "|不偏分散|var|\n",
        "|不変標準偏差|ad|\n",
        "|標準偏差|sd|\n",
        "|要約|summary|\n",
        "|不変共分散|cov|\n",
        "|相関係数|cor|\n",
        "|||"
      ],
      "metadata": {
        "id": "VauTvwWs36ao"
      }
    },
    {
      "cell_type": "code",
      "source": [
        "data1 <- c(7,6,4,8,9,6,5,7,8,5,8,7,10,6,7,7,8,9,4)\n",
        "# 合計\n",
        "sum(data1)\n",
        "# 平均値\n",
        "mean(data1)\n",
        "# 中央値\n",
        "median(data1)\n",
        "# 最頻値\n",
        "table(data1)\n",
        "# 最大値\n",
        "max(data1)\n",
        "# 最小値\n",
        "min(data1)\n",
        "# データの個数\n",
        "length(data1)\n",
        "#不偏分散\n",
        "var(data1)\n",
        "#標準偏差\n",
        "sd(data1)\n",
        "#ちなみに標準偏差は下記のようにも表現できる\n",
        "sqrt(var(data1))\n",
        "# 要約\n",
        "summary(data1)"
      ],
      "metadata": {
        "id": "EvsnrrUN5SQ-"
      },
      "execution_count": null,
      "outputs": []
    },
    {
      "cell_type": "code",
      "source": [
        "# 相関係数\n",
        "x <- c(7,6,4,8,9,6,5,7,8,5,8,7,10,6,7,7,8,9,4)\n",
        "y <- c(3,5,1,8,3,5,2,9,3,9,1,5,9,4,6,2,9,5,3)\n",
        "cor(x,y)"
      ],
      "metadata": {
        "colab": {
          "base_uri": "https://localhost:8080/",
          "height": 34
        },
        "id": "E-sqnR2190V6",
        "outputId": "250b3996-6780-412e-b871-92d1944105ff"
      },
      "execution_count": null,
      "outputs": [
        {
          "output_type": "display_data",
          "data": {
            "text/html": [
              "0.307056731787879"
            ],
            "text/markdown": "0.307056731787879",
            "text/latex": "0.307056731787879",
            "text/plain": [
              "[1] 0.3070567"
            ]
          },
          "metadata": {}
        }
      ]
    },
    {
      "cell_type": "markdown",
      "source": [
        "#■7　Rデータ形式（データ型とデータ構造）"
      ],
      "metadata": {
        "id": "p9lZDLcL-po5"
      }
    },
    {
      "cell_type": "markdown",
      "source": [
        "##【1】ベクトル c()\n",
        "R言語はベクトルという記述を使う。<br>\n",
        "　<font color=\"red\">c</font>(1,2,3,4,5)<br>"
      ],
      "metadata": {
        "id": "z6b1XUVz_Oe-"
      }
    },
    {
      "cell_type": "markdown",
      "source": [
        "###(1)基本的なベクトルデータの作り方"
      ],
      "metadata": {
        "id": "cuHbZ86HC8T2"
      }
    },
    {
      "cell_type": "code",
      "source": [
        "vec1 <- c(1,2,3,4) # c(1:4)とも書ける\n",
        "vec2 <- c(5,6,7,8) # c(5:8)とも書ける\n",
        "# ベクトルの和\n",
        "vec1 + vec2\n",
        "# ベクトルの差\n",
        "vec1 - vec2\n",
        "# 成分ごとの積のデータ\n",
        "vec1 * vec2\n",
        "# ベクトルの内積\n",
        "vec1%*%vec2\n",
        "# vec2の第2要素\n",
        "vec2[2]\n",
        "# vec2の第1～第3要素の取り出し\n",
        "vec2[1:3]\n",
        "#vec2の第2要素の削除\n",
        "vec2[-2]\n",
        "# オブジェクトの長さ\n",
        "length(data1)"
      ],
      "metadata": {
        "id": "m8uNG49p_YbU"
      },
      "execution_count": null,
      "outputs": []
    },
    {
      "cell_type": "markdown",
      "source": [
        "###(2)いろいろなベクトルのデータの作り方\n",
        "|記述|意味|\n",
        "|:--:|:--|\n",
        "|1:5|1から5まで1ずつ減る整数のベクトル|\n",
        "|5:1|5から1まで１ずつ減る整数のベクトル|\n",
        "|seq(1,10,by=2)|１から10の間の初項1,公差2の等差数列のベクトル|\n",
        "|rep(x,times=2)|ベクトルxの数列の並びを2回繰り返してできる数列のベクトル|\n",
        "|rep(x,each=2)|ベクトルxの各要素を2回繰り返してできる数列のベクトル|\n",
        "|runif(n)|０＜x＜１でn個の乱数を発生する関数|\n",
        "|ceiling(x)|入力値を下回らない最大の整数と返り値とする。入力値が正数である場合には小数点以下を切り上げる関数|\n",
        "|round(x)|入力値に近い整数を返り値とする。ただし、入力値に近い整数が２つある場合は偶数を返り値をする（つまり四捨五入ではない）関数|\n",
        "|floor()|入力値を上回らない最大の整数と返り値とする。特に、入力値が正数である場合には小数点以下を切り捨てる関数|\n",
        "|||"
      ],
      "metadata": {
        "id": "Ci64epINCxkN"
      }
    },
    {
      "cell_type": "code",
      "source": [
        "1:5\n",
        "5:1\n",
        "seq(1,10,by=2)\n",
        "x <- c(1,2,3,4,5)\n",
        "rep(x,times=2)\n",
        "rep(x,each=2)\n",
        "runif(5)\n",
        "x <- 2.5\n",
        "ceiling(x)\n",
        "round(x) # 偶数の2が返り値\n",
        "floor(x)\n",
        "x <- 3.5\n",
        "ceiling(x)\n",
        "round(x) # 偶数の4が返り値\n",
        "floor(x)"
      ],
      "metadata": {
        "id": "IAgNR_IoFmG_"
      },
      "execution_count": null,
      "outputs": []
    },
    {
      "cell_type": "code",
      "source": [
        "#実習1④乱数\n",
        "#1と6の間の自然数乱数10個\n",
        "ceiling(runif(10)*6)"
      ],
      "metadata": {
        "id": "l78xTrbYFwaL"
      },
      "execution_count": null,
      "outputs": []
    },
    {
      "cell_type": "markdown",
      "source": [
        "##【2】行列matrix\n",
        "\n",
        "<font color = \"red\">後に説明しますが、、オブジェクトの表示(行列の構造も含めてそのまま表示）にはprint()関数を使います（値の表示にはcat()関数）</font>"
      ],
      "metadata": {
        "id": "RjA_DVnqHcE8"
      }
    },
    {
      "cell_type": "code",
      "source": [
        "m <- matrix(c(1:6),2,3) # 2行3列の行列のコマンド\n",
        "print(m)"
      ],
      "metadata": {
        "id": "DWQuQztIGjdw"
      },
      "execution_count": null,
      "outputs": []
    },
    {
      "cell_type": "markdown",
      "source": [
        "|記述|意味|\n",
        "|:-:|:-|\n",
        "|length(x)|オブジェクトxの長さ|\n",
        "|dim(x)|オブジェクトxの次元|\n",
        "|nrow(x)|オブジェクトxの行数|\n",
        "|ncol(x)|オブジェクトxの列数|\n",
        "|class(x)|データの型の確認|"
      ],
      "metadata": {
        "id": "8ugjtEqBOkn-"
      }
    },
    {
      "cell_type": "code",
      "source": [
        "length(m) #オブジェクトの長さ\n",
        "dim(m)  #オブジェクトの次元\n",
        "nrow(m) #オブジェクトの行数\n",
        "ncol(m)  #オブジェクトの列数\n",
        "class(m)  #オブジェクトの型"
      ],
      "metadata": {
        "id": "Kz5LytkwJOPR"
      },
      "execution_count": null,
      "outputs": []
    },
    {
      "cell_type": "markdown",
      "source": [
        "##【3】配列array\n",
        "参照 https://stats.biopapyrus.jp/r/basic/array.html\n",
        "\n",
        "<font color = \"red\">後に説明しますが、、オブジェクトの表示(配列の構造も含めてそのまま表示）にはprint()関数を使います（値の表示にはcat()関数）</font>"
      ],
      "metadata": {
        "id": "KTe-8LP1HkkW"
      }
    },
    {
      "cell_type": "code",
      "source": [
        "a <- array(1:4,dim = c(4))  #1次元配列（1行4列）\n",
        "print(a)"
      ],
      "metadata": {
        "id": "dpm65-4fKIiM"
      },
      "execution_count": null,
      "outputs": []
    },
    {
      "cell_type": "code",
      "source": [
        "b <- array(1:6,dim = c(2,3))  #2次元配列（2行3列）\n",
        "print(b)"
      ],
      "metadata": {
        "id": "wqpHlN6AKWpx"
      },
      "execution_count": null,
      "outputs": []
    },
    {
      "cell_type": "markdown",
      "source": [
        "#####3次元配列"
      ],
      "metadata": {
        "id": "nPhPB4dDP290"
      }
    },
    {
      "cell_type": "code",
      "source": [
        "#3次元配列\n",
        "c <- array(1:12, dim = c(2, 3, 2)) \n",
        "print(c)"
      ],
      "metadata": {
        "id": "oVNeSTMpKvAk"
      },
      "execution_count": null,
      "outputs": []
    },
    {
      "cell_type": "markdown",
      "source": [
        "##【4】データフレームdata.frame"
      ],
      "metadata": {
        "id": "Yx8lyeuHHut-"
      }
    },
    {
      "cell_type": "code",
      "source": [
        "fr <- data.frame(name=c(\"青木\",\"大木\",\"加藤\",\"山崎\"),mark=c(20,24,12,32)) #データフレームの作成\n",
        "print(fr)\n",
        "mean(fr$mark) #要素の操作（平均値）"
      ],
      "metadata": {
        "id": "8zXcjScRM_xS"
      },
      "execution_count": null,
      "outputs": []
    },
    {
      "cell_type": "markdown",
      "source": [
        "##【5】リストlist"
      ],
      "metadata": {
        "id": "wWN53H3hH1tm"
      }
    },
    {
      "cell_type": "code",
      "source": [
        "list1 <- list(\"2年\",\"早稲田太郎\",c(10,20,32))\n",
        "print(list1)"
      ],
      "metadata": {
        "id": "Y8Q4oqJOLufN"
      },
      "execution_count": null,
      "outputs": []
    },
    {
      "cell_type": "code",
      "source": [
        "list1[[1]]"
      ],
      "metadata": {
        "id": "NzDo_F_zL-vt"
      },
      "execution_count": null,
      "outputs": []
    },
    {
      "cell_type": "markdown",
      "source": [
        "##まとめ\n",
        "###データの型\n",
        "* 数値型：integer、numeric、complex\n",
        "* 文字列型：character\n",
        "* 論理型：logicalなど\n",
        "\n",
        "###データの構造\n",
        "\n",
        "要素が共通の型に対応\n",
        "* ベクトル： c(data)\n",
        "* 行列：matrix(data,m,n)\n",
        "\n",
        "要素が異なる型にも対応\n",
        "* 配列：array(data,dim)\n",
        "* リスト：list(data)\n",
        "* データフレーム：data.frame(data)"
      ],
      "metadata": {
        "id": "dHTNOQK9VauF"
      }
    },
    {
      "cell_type": "markdown",
      "source": [
        "#おまけ1 csvファイルの読込み\n",
        "/sample_dataのcsvファイルを読み込んで表示してみよう。<br>\n"
      ],
      "metadata": {
        "id": "rGqPczNNI2Hi"
      }
    },
    {
      "cell_type": "code",
      "source": [
        "dat = read.csv( file = \"sample_data/california_housing_train.csv\", header = TRUE )\n",
        "head( dat )"
      ],
      "metadata": {
        "id": "x-ubOPeN4NJ7"
      },
      "execution_count": null,
      "outputs": []
    },
    {
      "cell_type": "markdown",
      "source": [
        "#おまけ2 RとPythonどっちを学んだ方がいいの?\n",
        "PythonにはPandasというデータ分析を行うための強力なライブラリがある。データの読み込みや編集、統計量の表示などを高速に処理することが出来る。\n",
        "一方、Rは処理が非常に遅く、AIのディープラーニング等大量のデータを処理するには向かないため、あくまでも学術研究レベルで使うのがよい。\n",
        "\n",
        "ただ、PythonにはPandasとRのデータフレームの処理概念は似ているため、Rを学習することは無駄ではない。\n",
        "\n",
        "参考 https://pythondatascience.plavox.info/python%E3%81%A8r%E3%81%AE%E9%81%95%E3%81%84"
      ],
      "metadata": {
        "id": "vBtrqg5lGIif"
      }
    }
  ]
}