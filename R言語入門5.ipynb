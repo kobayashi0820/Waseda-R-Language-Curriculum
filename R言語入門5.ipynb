{
  "nbformat": 4,
  "nbformat_minor": 0,
  "metadata": {
    "colab": {
      "provenance": [],
      "collapsed_sections": [],
      "toc_visible": true,
      "include_colab_link": true
    },
    "kernelspec": {
      "name": "ir",
      "display_name": "R"
    },
    "language_info": {
      "name": "python"
    },
    "gpuClass": "standard"
  },
  "cells": [
    {
      "cell_type": "markdown",
      "metadata": {
        "id": "view-in-github",
        "colab_type": "text"
      },
      "source": [
        "<a href=\"https://colab.research.google.com/github/moshimoshipandasan/waseda/blob/main/R%E8%A8%80%E8%AA%9E%E5%85%A5%E9%96%805.ipynb\" target=\"_parent\"><img src=\"https://colab.research.google.com/assets/colab-badge.svg\" alt=\"Open In Colab\"/></a>"
      ]
    },
    {
      "cell_type": "markdown",
      "source": [
        "#■10　関数の作成"
      ],
      "metadata": {
        "id": "APj2-l1v2yXJ"
      }
    },
    {
      "cell_type": "markdown",
      "source": [
        "GoogleコラボラトリでR言語を動かすには、Googleアカウントが必要です。<br>\n",
        "必ず[Googleアカウントを取得](https://support.google.com/accounts/answer/27441?hl=ja)してから学習を始めましょう。<br>\n",
        "R言語入門解説動画はこちら https://youtube.com/playlist?list=PLdv_7culeRTQvgEb1Ulse1PXhzjEggrhT<br>\n",
        "R言語入門テキスト一覧はこちら https://github.com/moshimoshipandasan/waseda"
      ],
      "metadata": {
        "id": "nYE2_sGL6ruj"
      }
    },
    {
      "cell_type": "markdown",
      "source": [
        "##【1】Rにおける関数\n",
        "Rではsqrtやsumのような関数を自作できる。\n",
        "\n",
        "●なぜ関数が必要かというと・・・<br>\n",
        "プログラムでは構造をわかりやすくするため関数という形で，<br>プログラムの機能ごとにメインのプログラムからは切り離してまとめ，それを組み合わせて使う。<br>\n"
      ],
      "metadata": {
        "id": "2315-dKqWFRh"
      }
    },
    {
      "cell_type": "markdown",
      "source": [
        "##【2】基本的な書き方\n",
        "関数は以下のように定義する。\n",
        "\n",
        "```R\n",
        "関数名　<-function(引数){\n",
        "  関数内で行う処理\n",
        "  return(戻り値)\n",
        "}\n",
        "```\n",
        "関数の中で値を<font color=\"blue\">受け取る</font>ようにに指定された変数を<font color=\"red\">引数</font>と呼びます。<br>\n",
        "<font color=\"red\">return</font>で関数内の処理を終了し、呼び出し元に値（<font color=\"red\">戻り値</font>）を<font color=\"blue\">受け渡す</font>ことが出来ます。<br>\n",
        "戻り値は返り値/リターン値とも言う。\n",
        "\n",
        "要約すると\n",
        "* <font color=\"red\">引数</font>で値を<font color=\"blue\">受け取る</font>\n",
        "* <font color=\"red\">return</font>で<font color=\"red\">戻り値</font>を<font color=\"blue\">受け渡す</font>"
      ],
      "metadata": {
        "id": "Jx5WMnXRahAA"
      }
    },
    {
      "cell_type": "markdown",
      "source": [
        "##【3】引数が１つの関数"
      ],
      "metadata": {
        "id": "EUxagqSCgG2z"
      }
    },
    {
      "cell_type": "markdown",
      "source": [
        "###【実習1】入力値を２倍にした値を出力する関数\n",
        "> $y=x^2$を計算する関数example01の作成"
      ],
      "metadata": {
        "id": "dZg4EdooggY3"
      }
    },
    {
      "cell_type": "code",
      "source": [
        "#これがユーザー定義関数の基本なので丸暗記する\n",
        "example01 <-function(x){\n",
        " y <- x^2\n",
        " return(y)\n",
        "}"
      ],
      "metadata": {
        "id": "8D6g06cTcCCL"
      },
      "execution_count": null,
      "outputs": []
    },
    {
      "cell_type": "code",
      "source": [
        "x <- as.numeric(readline(\"xの値を入力しなさい\")) #readline() 関数は入力された「文字列」を返すので，数値として計算するために as.numeric() で数値（浮動小数点数）に変換します。\n",
        "example01(x)"
      ],
      "metadata": {
        "id": "fOAM9k9wckDk"
      },
      "execution_count": null,
      "outputs": []
    },
    {
      "cell_type": "markdown",
      "source": [
        "###【実習2】偏差値を出力する関数\n",
        "> 引数は数値だけではなく、文字列やベクトルなども使用することができる"
      ],
      "metadata": {
        "id": "-gM9w4t8dGd6"
      }
    },
    {
      "cell_type": "code",
      "source": [
        "example02 <-function(x){\n",
        "  y <- 10 * (x - mean(x)) / sd(x) + 50\n",
        "  return(y)\n",
        "}"
      ],
      "metadata": {
        "id": "vFLOnblHhk6p"
      },
      "execution_count": null,
      "outputs": []
    },
    {
      "cell_type": "code",
      "source": [
        "tensuu <- c(83,63,72,33,94)\n",
        "example02(tensuu)"
      ],
      "metadata": {
        "id": "EWJ_nTvQ9xUb"
      },
      "execution_count": null,
      "outputs": []
    },
    {
      "cell_type": "markdown",
      "source": [
        "##【4】引数が複数の関数\n",
        "\n",
        "```R\n",
        "関数名　<-function(引数1,引数2){\n",
        "  関数内で行う処理\n",
        "  return(戻り値)\n",
        "}\n",
        "```"
      ],
      "metadata": {
        "id": "JE3LZq5xYAw5"
      }
    },
    {
      "cell_type": "code",
      "source": [
        "example03 <-function(x,y){\n",
        "  z <- x ^ y\n",
        "  return(z)\n",
        "}"
      ],
      "metadata": {
        "id": "ScWqvItkYCoR"
      },
      "execution_count": null,
      "outputs": []
    },
    {
      "cell_type": "code",
      "source": [
        "example03(2,10)"
      ],
      "metadata": {
        "id": "YOkwAdL1kjS5"
      },
      "execution_count": null,
      "outputs": []
    },
    {
      "cell_type": "markdown",
      "source": [
        "##【5】引数がない関数\n",
        "\n",
        "```R\n",
        "関数名　<-function(){\n",
        "  関数内で行う処理\n",
        "  return(戻り値)\n",
        "}\n",
        "```"
      ],
      "metadata": {
        "id": "weJoATiGsnpm"
      }
    },
    {
      "cell_type": "code",
      "source": [
        "example04 <-function(){\n",
        "  x <- 'こんにちは'\n",
        "  return(x)\n",
        "}"
      ],
      "metadata": {
        "id": "wqpMkwC-k7z8"
      },
      "execution_count": null,
      "outputs": []
    },
    {
      "cell_type": "code",
      "source": [
        "example04()"
      ],
      "metadata": {
        "id": "FZseTU9olJd5"
      },
      "execution_count": null,
      "outputs": []
    },
    {
      "cell_type": "markdown",
      "source": [
        "##【6】返り値が複数の関数\n",
        "\n",
        "```R\n",
        "関数名　<-function(引数1,引数2){\n",
        "  関数内で行う処理\n",
        "  return(戻り値をベクトルで扱う)\n",
        "}\n",
        "```"
      ],
      "metadata": {
        "id": "q6KrvUMnlVLK"
      }
    },
    {
      "cell_type": "code",
      "source": [
        "example06 <-function(x,y){\n",
        "  z1 <- x %/% y #商\n",
        "  z2 <- x %% y #余り\n",
        "  z <- c(z1,z2)\n",
        "  return(z)\n",
        "}"
      ],
      "metadata": {
        "id": "Cay6qPyelsPR"
      },
      "execution_count": null,
      "outputs": []
    },
    {
      "cell_type": "code",
      "source": [
        "example06(17,6)"
      ],
      "metadata": {
        "id": "zjGne3kjr1LO"
      },
      "execution_count": null,
      "outputs": []
    },
    {
      "cell_type": "markdown",
      "source": [
        "##【7】補足 print関数とcat関数の比較"
      ],
      "metadata": {
        "id": "TxB4s9F6dWCz"
      }
    },
    {
      "cell_type": "markdown",
      "source": [
        "####cat() 文字列の表示\n",
        "cat()関数は、括弧内の文字列をそのまま出力する。\n",
        "\n",
        "catは最後に改行をつけないので、改行させたい時は`\\n`を付ける。"
      ],
      "metadata": {
        "id": "qNtmiav3qO7N"
      }
    },
    {
      "cell_type": "code",
      "source": [
        "#cat関数\n",
        "example07 <-function(x,y){\n",
        "  z1 <- x %/% y #商\n",
        "  z2 <- x %% y #余り\n",
        "  z <- c(z1,z2)\n",
        "  cat(z,\"\\n\") #改行する\n",
        "  cat(\"商は\",z1,\"余りは\",z2,\"\\n\")\n",
        "}\n",
        "\n",
        "example07(17,6)"
      ],
      "metadata": {
        "id": "HGVP9JEGozjX"
      },
      "execution_count": null,
      "outputs": []
    },
    {
      "cell_type": "markdown",
      "source": [
        "####print() 一般的な表示\n",
        "オブジェクトの内容をそのまま表示する。\n",
        "\n",
        "デフォルトでは文字列が””で囲われるが、quote=Fを指定すると””が表示されなくなる。"
      ],
      "metadata": {
        "id": "ozEAwty3qkRE"
      }
    },
    {
      "cell_type": "code",
      "source": [
        "example08 <-function(x,y){\n",
        "  z1 <- x %/% y #商\n",
        "  z2 <- x %% y #余り\n",
        "  z <- c(z1,z2)\n",
        "  print(z)\n",
        "  print(c(\"商は\",z1,\"余りは\",z2),quote=F)\n",
        "#  paste(\"商は\",z1,\"余りは\",z2)\n",
        "}\n",
        "\n",
        "example08(17,6)"
      ],
      "metadata": {
        "id": "jdryKTKDpQt0"
      },
      "execution_count": null,
      "outputs": []
    },
    {
      "cell_type": "markdown",
      "source": [
        "##行列を作ってprint()とcat()を使って表示すると違いが一目瞭然"
      ],
      "metadata": {
        "id": "LWAdkYuylYV4"
      }
    },
    {
      "cell_type": "code",
      "source": [
        "#参考colnames\n",
        "vec0 <- matrix(1:12, nrow = 3, ncol = 4)\n",
        "colnames(vec0) <- c(\"A\",\"B\",\"C\",\"D\")\n",
        "print(vec0)"
      ],
      "metadata": {
        "id": "5bilvC_HuRqY"
      },
      "execution_count": null,
      "outputs": []
    },
    {
      "cell_type": "code",
      "source": [
        "print(vec0)"
      ],
      "metadata": {
        "id": "QMgzKkViufPl"
      },
      "execution_count": null,
      "outputs": []
    },
    {
      "cell_type": "code",
      "source": [
        "cat(vec0)"
      ],
      "metadata": {
        "id": "RqGV9nzquhXt"
      },
      "execution_count": null,
      "outputs": []
    }
  ]
}