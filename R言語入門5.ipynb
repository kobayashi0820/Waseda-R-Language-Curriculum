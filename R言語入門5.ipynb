{
  "nbformat": 4,
  "nbformat_minor": 0,
  "metadata": {
    "colab": {
      "provenance": [],
      "collapsed_sections": [],
      "toc_visible": true,
      "include_colab_link": true
    },
    "kernelspec": {
      "name": "ir",
      "display_name": "R"
    },
    "language_info": {
      "name": "python"
    },
    "gpuClass": "standard"
  },
  "cells": [
    {
      "cell_type": "markdown",
      "metadata": {
        "id": "view-in-github",
        "colab_type": "text"
      },
      "source": [
        "<a href=\"https://colab.research.google.com/github/moshimoshipandasan/waseda/blob/main/R%E8%A8%80%E8%AA%9E%E5%85%A5%E9%96%805.ipynb\" target=\"_parent\"><img src=\"https://colab.research.google.com/assets/colab-badge.svg\" alt=\"Open In Colab\"/></a>"
      ]
    },
    {
      "cell_type": "markdown",
      "source": [
        "#■10　関数の作成"
      ],
      "metadata": {
        "id": "APj2-l1v2yXJ"
      }
    },
    {
      "cell_type": "markdown",
      "source": [
        "##【1】Rにおける関数\n",
        "Rではsqrtやsumのような関数を自作できる。\n",
        "\n",
        "●なぜ関数が必要かというと・・・<br>\n",
        "プログラムでは構造をわかりやすくするため関数という形で，<br>プログラムの機能ごとにメインのプログラムからは切り離してまとめ，それを組み合わせて使う。<br>\n"
      ],
      "metadata": {
        "id": "2315-dKqWFRh"
      }
    },
    {
      "cell_type": "markdown",
      "source": [
        "##【2】基本的な書き方\n",
        "関数は以下のように定義する。\n",
        "\n",
        "```R\n",
        "関数名　<-function(引数){\n",
        "  関数内で行う処理\n",
        "  return(戻り値)\n",
        "}\n",
        "```\n",
        "関数の中で値を<font color=\"blue\">**受け取る**</font>ようにに指定された変数を<font color=\"red\">**引数**</font>と呼びます。<br>\n",
        "<font color=\"red\">**return**</font>で関数内の処理を終了し、呼び出し元に値（<font color=\"red\">**戻り値**</font>）を<font color=\"blue\">**受け渡す**</font>ことが出来ます。<br>\n",
        "戻り値は返り値/リターン値とも言う。\n",
        "\n",
        "要約すると\n",
        "* <font color=\"red\">**引数**</font>で値を<font color=\"blue\">**受け取る**</font>\n",
        "* <font color=\"red\">**return**</font>で<font color=\"red\">**戻り値**</font>を<font color=\"blue\">**受け渡す**</font>"
      ],
      "metadata": {
        "id": "Jx5WMnXRahAA"
      }
    },
    {
      "cell_type": "markdown",
      "source": [
        "##【3】引数が１つの関数"
      ],
      "metadata": {
        "id": "EUxagqSCgG2z"
      }
    },
    {
      "cell_type": "markdown",
      "source": [
        "###【実習1】入力値を２倍にした値を出力する関数\n",
        "> $y=x^2$を計算する関数example01の作成"
      ],
      "metadata": {
        "id": "dZg4EdooggY3"
      }
    },
    {
      "cell_type": "code",
      "source": [
        "#これがユーザー定義関数の基本なので丸暗記する\n",
        "example01 <-function(x){\n",
        " y <- x^2\n",
        " return(y)\n",
        "}"
      ],
      "metadata": {
        "id": "8D6g06cTcCCL"
      },
      "execution_count": null,
      "outputs": []
    },
    {
      "cell_type": "code",
      "source": [
        "x <- as.numeric(readline(\"xの値を入力しなさい\")) #readline() 関数は入力された「文字列」を返すので，数値として計算するために as.numeric() で数値（浮動小数点数）に変換します。\n",
        "example01(x)"
      ],
      "metadata": {
        "id": "fOAM9k9wckDk",
        "colab": {
          "base_uri": "https://localhost:8080/",
          "height": 53
        },
        "outputId": "24048b87-d4a7-4d52-9141-fcb5b37bbdfd"
      },
      "execution_count": null,
      "outputs": [
        {
          "name": "stdout",
          "output_type": "stream",
          "text": [
            "xの値を入力しなさい2\n"
          ]
        },
        {
          "output_type": "display_data",
          "data": {
            "text/html": [
              "4"
            ],
            "text/markdown": "4",
            "text/latex": "4",
            "text/plain": [
              "[1] 4"
            ]
          },
          "metadata": {}
        }
      ]
    },
    {
      "cell_type": "markdown",
      "source": [
        "###【実習2】偏差値を出力する関数\n",
        "> 引数は数値だけではなく、文字列やベクトルなども使用することができる"
      ],
      "metadata": {
        "id": "-gM9w4t8dGd6"
      }
    },
    {
      "cell_type": "code",
      "source": [
        "example02 <-function(x){\n",
        "  y <- 10 * (x - mean(x)) / sd(x) + 50\n",
        "  return(y)\n",
        "}"
      ],
      "metadata": {
        "id": "vFLOnblHhk6p"
      },
      "execution_count": null,
      "outputs": []
    },
    {
      "cell_type": "code",
      "source": [
        "tensuu <- c(83,63,72,33,94)\n",
        "example02(tensuu)"
      ],
      "metadata": {
        "id": "EWJ_nTvQ9xUb",
        "colab": {
          "base_uri": "https://localhost:8080/",
          "height": 52
        },
        "outputId": "ff015f0c-502c-482e-d39b-06a933e002b7"
      },
      "execution_count": null,
      "outputs": [
        {
          "output_type": "display_data",
          "data": {
            "text/html": [
              "<style>\n",
              ".list-inline {list-style: none; margin:0; padding: 0}\n",
              ".list-inline>li {display: inline-block}\n",
              ".list-inline>li:not(:last-child)::after {content: \"\\00b7\"; padding: 0 .5ex}\n",
              "</style>\n",
              "<ol class=list-inline><li>56.0218535106708</li><li>47.419205638284</li><li>51.290397180858</li><li>34.5152338297038</li><li>60.7533098404835</li></ol>\n"
            ],
            "text/markdown": "1. 56.0218535106708\n2. 47.419205638284\n3. 51.290397180858\n4. 34.5152338297038\n5. 60.7533098404835\n\n\n",
            "text/latex": "\\begin{enumerate*}\n\\item 56.0218535106708\n\\item 47.419205638284\n\\item 51.290397180858\n\\item 34.5152338297038\n\\item 60.7533098404835\n\\end{enumerate*}\n",
            "text/plain": [
              "[1] 56.02185 47.41921 51.29040 34.51523 60.75331"
            ]
          },
          "metadata": {}
        }
      ]
    },
    {
      "cell_type": "markdown",
      "source": [
        "##【4】引数が複数の関数\n",
        "\n",
        "```R\n",
        "関数名　<-function(引数1,引数2){\n",
        "  関数内で行う処理\n",
        "  return(戻り値)\n",
        "}\n",
        "```"
      ],
      "metadata": {
        "id": "JE3LZq5xYAw5"
      }
    },
    {
      "cell_type": "code",
      "source": [
        "example03 <-function(x,y){\n",
        "  z <- x ^ y\n",
        "  return(z)\n",
        "}"
      ],
      "metadata": {
        "id": "ScWqvItkYCoR"
      },
      "execution_count": null,
      "outputs": []
    },
    {
      "cell_type": "code",
      "source": [
        "example03(2,10)"
      ],
      "metadata": {
        "id": "YOkwAdL1kjS5",
        "colab": {
          "base_uri": "https://localhost:8080/",
          "height": 34
        },
        "outputId": "14397b63-cc9b-4e1c-f71a-12fc468e6afe"
      },
      "execution_count": null,
      "outputs": [
        {
          "output_type": "display_data",
          "data": {
            "text/html": [
              "1024"
            ],
            "text/markdown": "1024",
            "text/latex": "1024",
            "text/plain": [
              "[1] 1024"
            ]
          },
          "metadata": {}
        }
      ]
    },
    {
      "cell_type": "markdown",
      "source": [
        "##【5】引数がない関数\n",
        "\n",
        "```R\n",
        "関数名　<-function(){\n",
        "  関数内で行う処理\n",
        "  return(戻り値)\n",
        "}\n",
        "```"
      ],
      "metadata": {
        "id": "weJoATiGsnpm"
      }
    },
    {
      "cell_type": "code",
      "source": [
        "example04 <-function(){\n",
        "  x <- 'こんにちは'\n",
        "  return(x)\n",
        "}"
      ],
      "metadata": {
        "id": "wqpMkwC-k7z8"
      },
      "execution_count": null,
      "outputs": []
    },
    {
      "cell_type": "code",
      "source": [
        "example04()"
      ],
      "metadata": {
        "id": "FZseTU9olJd5",
        "colab": {
          "base_uri": "https://localhost:8080/",
          "height": 34
        },
        "outputId": "afec82f3-eb24-4dca-f27a-5ef7da2ec970"
      },
      "execution_count": null,
      "outputs": [
        {
          "output_type": "display_data",
          "data": {
            "text/html": [
              "'こんにちは'"
            ],
            "text/markdown": "'こんにちは'",
            "text/latex": "'こんにちは'",
            "text/plain": [
              "[1] \"こんにちは\""
            ]
          },
          "metadata": {}
        }
      ]
    },
    {
      "cell_type": "markdown",
      "source": [
        "##【6】返り値が複数の関数\n",
        "\n",
        "```R\n",
        "関数名　<-function(引数1,引数2){\n",
        "  関数内で行う処理\n",
        "  return(戻り値をベクトルで扱う)\n",
        "}\n",
        "```"
      ],
      "metadata": {
        "id": "q6KrvUMnlVLK"
      }
    },
    {
      "cell_type": "code",
      "source": [
        "example06 <-function(x,y){\n",
        "  z1 <- x %/% y #商\n",
        "  z2 <- x %% y #余り\n",
        "  z <- c(z1,z2)\n",
        "  return(z)\n",
        "}"
      ],
      "metadata": {
        "id": "Cay6qPyelsPR"
      },
      "execution_count": null,
      "outputs": []
    },
    {
      "cell_type": "code",
      "source": [
        "example06(17,6)"
      ],
      "metadata": {
        "id": "zjGne3kjr1LO",
        "colab": {
          "base_uri": "https://localhost:8080/",
          "height": 34
        },
        "outputId": "951f45e2-3969-4855-ce06-5737d256bb22"
      },
      "execution_count": null,
      "outputs": [
        {
          "output_type": "display_data",
          "data": {
            "text/html": [
              "<style>\n",
              ".list-inline {list-style: none; margin:0; padding: 0}\n",
              ".list-inline>li {display: inline-block}\n",
              ".list-inline>li:not(:last-child)::after {content: \"\\00b7\"; padding: 0 .5ex}\n",
              "</style>\n",
              "<ol class=list-inline><li>2</li><li>5</li></ol>\n"
            ],
            "text/markdown": "1. 2\n2. 5\n\n\n",
            "text/latex": "\\begin{enumerate*}\n\\item 2\n\\item 5\n\\end{enumerate*}\n",
            "text/plain": [
              "[1] 2 5"
            ]
          },
          "metadata": {}
        }
      ]
    },
    {
      "cell_type": "markdown",
      "source": [
        "##【7】補足 print関数とcat関数の比較"
      ],
      "metadata": {
        "id": "TxB4s9F6dWCz"
      }
    },
    {
      "cell_type": "markdown",
      "source": [
        "####cat() 文字列の表示\n",
        "cat()関数は、括弧内の文字列をそのまま出力する。\n",
        "\n",
        "catは最後に改行をつけないので、改行させたい時は`\\n`を付ける。"
      ],
      "metadata": {
        "id": "qNtmiav3qO7N"
      }
    },
    {
      "cell_type": "code",
      "source": [
        "#cat関数\n",
        "example07 <-function(x,y){\n",
        "  z1 <- x %/% y #商\n",
        "  z2 <- x %% y #余り\n",
        "  z <- c(z1,z2)\n",
        "  cat(z,\"\\n\") #改行する\n",
        "  cat(\"商は\",z1,\"余りは\",z2,\"\\n\")\n",
        "}\n",
        "\n",
        "example07(17,6)"
      ],
      "metadata": {
        "colab": {
          "base_uri": "https://localhost:8080/"
        },
        "id": "HGVP9JEGozjX",
        "outputId": "c7b63ed4-8c58-4d8b-d92b-71ec5bbceaa2"
      },
      "execution_count": null,
      "outputs": [
        {
          "output_type": "stream",
          "name": "stdout",
          "text": [
            "2 5 \n",
            "商は 2 余りは 5 \n"
          ]
        }
      ]
    },
    {
      "cell_type": "markdown",
      "source": [
        "####print() 一般的な表示\n",
        "オブジェクトの内容をそのまま表示する。\n",
        "\n",
        "デフォルトでは文字列が””で囲われるが、quote=Fを指定すると””が表示されなくなる。"
      ],
      "metadata": {
        "id": "ozEAwty3qkRE"
      }
    },
    {
      "cell_type": "code",
      "source": [
        "example08 <-function(x,y){\n",
        "  z1 <- x %/% y #商\n",
        "  z2 <- x %% y #余り\n",
        "  z <- c(z1,z2)\n",
        "  print(z)\n",
        "  print(c(\"商は\",z1,\"余りは\",z2),quote=F)\n",
        "#  paste(\"商は\",z1,\"余りは\",z2)\n",
        "}\n",
        "\n",
        "example08(17,6)"
      ],
      "metadata": {
        "colab": {
          "base_uri": "https://localhost:8080/"
        },
        "id": "jdryKTKDpQt0",
        "outputId": "fe9e09f7-7d3f-4b94-b4d7-67a40021d4dd"
      },
      "execution_count": null,
      "outputs": [
        {
          "output_type": "stream",
          "name": "stdout",
          "text": [
            "[1] 2 5\n",
            "[1] 商は   2      余りは 5     \n"
          ]
        }
      ]
    },
    {
      "cell_type": "markdown",
      "source": [
        "##行列を作ってprint()とcat()を使って表示すると違いが一目瞭然"
      ],
      "metadata": {
        "id": "LWAdkYuylYV4"
      }
    },
    {
      "cell_type": "code",
      "source": [
        "#参考colnames\n",
        "vec0 <- matrix(1:12, nrow = 3, ncol = 4)\n",
        "colnames(vec0) <- c(\"A\",\"B\",\"C\",\"D\")\n",
        "print(vec0)"
      ],
      "metadata": {
        "id": "5bilvC_HuRqY",
        "colab": {
          "base_uri": "https://localhost:8080/"
        },
        "outputId": "1a9b4f26-ad36-4ab8-9711-65f8c70f4ce8"
      },
      "execution_count": null,
      "outputs": [
        {
          "output_type": "stream",
          "name": "stdout",
          "text": [
            "     A B C  D\n",
            "[1,] 1 4 7 10\n",
            "[2,] 2 5 8 11\n",
            "[3,] 3 6 9 12\n"
          ]
        }
      ]
    },
    {
      "cell_type": "code",
      "source": [
        "print(vec0)"
      ],
      "metadata": {
        "id": "QMgzKkViufPl",
        "colab": {
          "base_uri": "https://localhost:8080/"
        },
        "outputId": "a8510064-d5e7-44a0-f8d5-f1860b5ed12f"
      },
      "execution_count": null,
      "outputs": [
        {
          "output_type": "stream",
          "name": "stdout",
          "text": [
            "     A B C  D\n",
            "[1,] 1 4 7 10\n",
            "[2,] 2 5 8 11\n",
            "[3,] 3 6 9 12\n"
          ]
        }
      ]
    },
    {
      "cell_type": "code",
      "source": [
        "cat(vec0)"
      ],
      "metadata": {
        "id": "RqGV9nzquhXt",
        "colab": {
          "base_uri": "https://localhost:8080/"
        },
        "outputId": "5b42a66b-2a24-4d83-f43d-ca87bf96ed65"
      },
      "execution_count": null,
      "outputs": [
        {
          "output_type": "stream",
          "name": "stdout",
          "text": [
            "1 2 3 4 5 6 7 8 9 10 11 12"
          ]
        }
      ]
    },
    {
      "cell_type": "markdown",
      "source": [
        "####結論\n",
        "Rは文字列結合が面倒くさい"
      ],
      "metadata": {
        "id": "F0pHRDU-sbE3"
      }
    }
  ]
}